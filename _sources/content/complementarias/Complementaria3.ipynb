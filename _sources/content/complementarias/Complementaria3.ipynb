{
 "cells": [
  {
   "cell_type": "markdown",
   "metadata": {},
   "source": [
    "### <h3 style=\"color: #ADD8E6;\">Complementaria 3: Cadenas de Markov en Python</h3>"
   ]
  },
  {
   "cell_type": "markdown",
   "metadata": {},
   "source": [
    "<h3 style=\"color: #ADD8E6;\">Ejemplo 1. Cadena de Markov de Tiempo Discreto \n",
    "</h3>"
   ]
  },
  {
   "cell_type": "markdown",
   "metadata": {},
   "source": [
    "Retomando el problema de la complementaria 2 que considera la evolución del Índice de la Calidad del Aire (ICA) para el caso específico en que se consideran únicamente los días laborables. La situación fue modelada con una CMTD con la variable de estado y espacio de estados que se muestran a continuación. "
   ]
  },
  {
   "cell_type": "markdown",
   "metadata": {},
   "source": [
    "$$\n",
    "I_n = \\text{Nivel del ICA en el n-ésimo día}\n",
    "$$\n",
    "\n",
    "$$\n",
    "S_I = \\{1, 2, 3, 4, 5\\}\n",
    "$$\n"
   ]
  },
  {
   "cell_type": "markdown",
   "metadata": {},
   "source": [
    "Las probabilidades de transición en un paso entre estados de esta CMTD son las siguientes:"
   ]
  },
  {
   "cell_type": "markdown",
   "metadata": {},
   "source": [
    "$$\n",
    "P_{i \\rightarrow j} = \\begin{cases}\n",
    "0.5 & \\text{si } j = i + 1, i < 5 \\\\\n",
    "0.3 & \\text{si } j = i, 1 < i < 5 \\\\\n",
    "0.2 & \\text{si } j = i - 1, i > 1 \\\\\n",
    "0.5 & \\text{si } j = i = 1 \\\\\n",
    "0.8 & \\text{si } j = i = 5 \\\\\n",
    "0 & \\text{dlc}\n",
    "\\end{cases}\n",
    "$$\n"
   ]
  },
  {
   "cell_type": "markdown",
   "metadata": {},
   "source": [
    "Ahora, se implementarán en Python estos componentes del modelo. Los detalles de la implementación ya fueron explicados en la complementaria 2."
   ]
  },
  {
   "cell_type": "code",
   "execution_count": 1,
   "metadata": {},
   "outputs": [
    {
     "name": "stdout",
     "output_type": "stream",
     "text": [
      "[[0.5 0.5 0.  0.  0. ]\n",
      " [0.2 0.3 0.5 0.  0. ]\n",
      " [0.  0.2 0.3 0.5 0. ]\n",
      " [0.  0.  0.2 0.3 0.5]\n",
      " [0.  0.  0.  0.2 0.8]]\n"
     ]
    }
   ],
   "source": [
    "import numpy as np\n",
    "\n",
    "filas = 5\n",
    "columnas = 5\n",
    "\n",
    "# Crear una matriz de ceros de 5x5\n",
    "matriz = np.zeros((filas, columnas), dtype = float)\n",
    "\n",
    "# Llenar la matriz con valores\n",
    "for i in range(filas):\n",
    "    for j in range(columnas):\n",
    "        if j == i + 1 and i < filas - 1:\n",
    "            matriz[i, j] = 0.5\n",
    "        elif j == i and i > 0 and i < filas - 1:\n",
    "            matriz[i, j] = 0.3\n",
    "        elif j == i - 1 and i > 0:\n",
    "            matriz[i, j] = 0.2\n",
    "        elif i == j == 0:\n",
    "            matriz[i, j] = 0.5\n",
    "        elif i == j == filas - 1:\n",
    "            matriz[i, j] = 0.8\n",
    "\n",
    "print(matriz)"
   ]
  },
  {
   "cell_type": "markdown",
   "metadata": {},
   "source": [
    "Para crear la cadena de markov utilizaremos la libreria `jmarkov`, en este caso solo utilizaremos la instancia `dtmc` ya que estamos creando una cadena de markov de tiempo **discreto**."
   ]
  },
  {
   "cell_type": "code",
   "execution_count": 2,
   "metadata": {},
   "outputs": [],
   "source": [
    "from jmarkov.dtmc import dtmc"
   ]
  },
  {
   "cell_type": "markdown",
   "metadata": {},
   "source": [
    "Finalmente, utilizaremos la funcion `dtmc` que tiene como parametro la `matriz` que creamos anteriormente."
   ]
  },
  {
   "cell_type": "code",
   "execution_count": 3,
   "metadata": {},
   "outputs": [],
   "source": [
    "P = dtmc(matriz)"
   ]
  },
  {
   "cell_type": "markdown",
   "metadata": {},
   "source": [
    "<h3 style=\"color: #ADD8E6;\">Problema 1. Literal b.\n",
    "</h3>"
   ]
  },
  {
   "cell_type": "markdown",
   "metadata": {},
   "source": [
    "En este caso se pide calcular la probabilidad de que en el día viernes el proceso estocástico esté en cualquiera de los estados que determinan el cierre de los colegios (es decir, estados 4 y 5), dado que hoy (lunes) está en el nivel 2. Esta probabilidad se puede obtener a partir de la distribución transitoria después de 4 transiciones, que se calcula como "
   ]
  },
  {
   "cell_type": "markdown",
   "metadata": {},
   "source": [
    "$$\n",
    "\\alpha \\cdot P^4, \n",
    "$$\n",
    "$$\n",
    "\\alpha = \\{0, 1, 0, 0, 0\\}\n",
    "$$"
   ]
  },
  {
   "cell_type": "markdown",
   "metadata": {},
   "source": [
    "Para calcular en Python la distribución de probabilidad mencionada se utilizará el método `transient_probabilities` de la libreria `jmarkov` que recibe como parametro el vector inicial `alpha` y el número de pasos necesarios `n`"
   ]
  },
  {
   "cell_type": "code",
   "execution_count": 5,
   "metadata": {},
   "outputs": [
    {
     "name": "stdout",
     "output_type": "stream",
     "text": [
      "[0.1144 0.1941 0.244  0.235  0.2125]\n"
     ]
    }
   ],
   "source": [
    "prob_viernes = P.transient_probabilities(n = 4, alpha = np.array([0, 1, 0, 0, 0]))\n",
    "print(prob_viernes)"
   ]
  },
  {
   "cell_type": "markdown",
   "metadata": {},
   "source": [
    "Para encontrar la probabilidad que se busca se suman los dos últimos componentes del vector `prob_viernes`, que corresponden a las probabilidades de que el proceso estocástico esté en el estado 4 o 5 después de 4 pasos (días) de evolución. "
   ]
  },
  {
   "cell_type": "code",
   "execution_count": 7,
   "metadata": {},
   "outputs": [
    {
     "name": "stdout",
     "output_type": "stream",
     "text": [
      " La probabilidad de que el viernes los colegios suspendan la actividad académica debido a la mala calidad del aire es: 0.4475\n"
     ]
    }
   ],
   "source": [
    "prob_cierre = prob_viernes[3] + prob_viernes[4]\n",
    "\n",
    "print(f' La probabilidad de que el viernes los colegios suspendan la actividad académica debido a la mala calidad del aire es: {prob_cierre}')"
   ]
  },
  {
   "cell_type": "markdown",
   "metadata": {},
   "source": [
    "<h3 style=\"color: #ADD8E6;\">Problema 1. Literal c.\n",
    "</h3>"
   ]
  },
  {
   "cell_type": "markdown",
   "metadata": {},
   "source": [
    "El literal c pide proporcionar una expresión para el gasto promedio total en que incurrirá el distrito hasta el viernes, teniendo en cuenta que el distrito incurre en un gasto de 120 millones de COP por día cuando el ICA alcanza el nivel \"Muy dañina para la salud\". Hoy es lunes, y el ICA está en nivel \"Moderada\".  \n",
    "\n"
   ]
  },
  {
   "cell_type": "markdown",
   "metadata": {},
   "source": [
    "Nuevamente, en este es caso posible resolver la pregunta usando análisis transitorio del modelo. Es necesario calcular primero los vectores de distribución de probabilidad de estado, para cada día, dado que el día lunes el ICA se encuentra en el nivel 2."
   ]
  },
  {
   "cell_type": "code",
   "execution_count": 8,
   "metadata": {},
   "outputs": [],
   "source": [
    "alpha = np.array([0, 1, 0, 0, 0])\n",
    "\n",
    "probs_martes = P.transient_probabilities(n = 1, alpha = alpha)\n",
    "\n",
    "probs_miercoles = P.transient_probabilities(n = 2, alpha = alpha)\n",
    "\n",
    "probs_jueves = P.transient_probabilities(n = 3, alpha = alpha)\n",
    "\n",
    "probs_viernes = P.transient_probabilities(n = 4, alpha = alpha)"
   ]
  },
  {
   "cell_type": "markdown",
   "metadata": {},
   "source": [
    "A continuacion se calcula el gasto esperado para cada día, multiplicando el valor del gasto diario por el quinto componente de cada uno de los vectores de probabilidad previamente calculados."
   ]
  },
  {
   "cell_type": "code",
   "execution_count": 9,
   "metadata": {},
   "outputs": [],
   "source": [
    "gasto_diario = 120\n",
    "\n",
    "gasto_martes = gasto_diario * probs_martes[4]\n",
    "gasto_miercoles = gasto_diario * probs_miercoles[4]\n",
    "gasto_jueves = gasto_diario * probs_jueves[4]\n",
    "gasto_viernes = gasto_diario * probs_viernes[4]"
   ]
  },
  {
   "cell_type": "markdown",
   "metadata": {},
   "source": [
    "El gasto promedio total está dado por la suma de los costos esperados de cada día."
   ]
  },
  {
   "cell_type": "code",
   "execution_count": 11,
   "metadata": {},
   "outputs": [
    {
     "data": {
      "text/plain": [
       "40.5"
      ]
     },
     "execution_count": 11,
     "metadata": {},
     "output_type": "execute_result"
    }
   ],
   "source": [
    "gasto_total_esperado = gasto_martes + gasto_miercoles + gasto_jueves + gasto_viernes\n",
    "gasto_total_esperado"
   ]
  },
  {
   "cell_type": "markdown",
   "metadata": {},
   "source": [
    "<h3 style=\"color: #ADD8E6;\">Ejemplo 2. Cadena de Markov de Tiempo Continuo \n",
    "</h3>"
   ]
  },
  {
   "cell_type": "markdown",
   "metadata": {},
   "source": [
    "Ahora, se resolverá el problema 2 que se encuentra en el archivo “Complementaria 3 (Q).pdf”. Sea $X(t)$ el número de bicicletas alquiladas en el tiempo $ t $, y sea $S_x = \\{0, 1, 2, ..., 15\\}$. Como $\\{X(t), t > 0\\}$ es una cadena de Markov en tiempo continuo (CMTC), se debe definir la matriz **Q**. Las tasas de transición entre estados de esta cadena son las siguientes:"
   ]
  },
  {
   "cell_type": "markdown",
   "metadata": {},
   "source": [
    "$$\n",
    "Q_{i \\rightarrow j} = \\begin{cases}\n",
    "5 & \\text{si } j = i + 1, i < 15 \\\\\n",
    "9 \\cdot i & \\text{si } j = i - 1, i > 0 \\\\\n",
    "0 & \\text{d.l.c}\n",
    "\\end{cases}\n",
    "$$"
   ]
  },
  {
   "cell_type": "markdown",
   "metadata": {},
   "source": [
    "Ahora, se crea la matriz de tasas de transición, que llamaremos `matriz2`:"
   ]
  },
  {
   "cell_type": "code",
   "execution_count": 17,
   "metadata": {},
   "outputs": [],
   "source": [
    "from jmarkov.ctmc import ctmc\n",
    "\n",
    "filas = 15\n",
    "columnas = 15\n",
    "\n",
    "# Crear una matriz de ceros de 15x15\n",
    "matriz2 = np.zeros((filas, columnas), dtype = float)\n",
    "\n",
    "# Se llena la matriz con las respectivas tasas.\n",
    "for i in range(filas):\n",
    "    for j in range(columnas):\n",
    "        if j == i + 1 and i < 15:\n",
    "            matriz2[i, j] = 5\n",
    "        elif j == i - 1 and i > 0:\n",
    "            matriz2[i, j] = 9 * i\n",
    "\n",
    "# Se llena la diagonal con la suma negativa de las filas de la matriz.\n",
    "\n",
    "for i in range(15):\n",
    "    # Diagonal.\n",
    "    matriz2[i,i] = -np.sum(matriz2[i, :])\n",
    "\n",
    "Q = ctmc(matriz2)"
   ]
  },
  {
   "cell_type": "markdown",
   "metadata": {},
   "source": [
    "Para hacer estudios de análisis transitorio en CMTC, se debe calcular el vector de probabilidades $ \\pi(t) $. Para esto, se utiliza el exponencial de la matriz $ Qt $. Recuerde que"
   ]
  },
  {
   "cell_type": "markdown",
   "metadata": {},
   "source": [
    "$$\n",
    "\\pi(t) = \\pi(0)e^{Q \\cdot t},\n",
    "$$\n"
   ]
  },
  {
   "cell_type": "markdown",
   "metadata": {},
   "source": [
    "donde $ \\pi(0)$ es el vector de estado inicial de probabilidades y $ t $ es el instante de tiempo en el cual se desea calcular la distribución de probabilidad."
   ]
  },
  {
   "cell_type": "markdown",
   "metadata": {},
   "source": [
    "<h3 style=\"color: #ADD8E6;\">Problema 2. Literal b.\n",
    "</h3>"
   ]
  },
  {
   "cell_type": "markdown",
   "metadata": {},
   "source": [
    "El literal b dice: el local ha programado una limpieza y mantenimiento preventivo a las bicicletas. Esta tarea  ha  sido  programada  para  el  próximo  lunes  a  las  12:00 pm y  será  realizada únicamente a las bicicletas que se encuentren en ese momento en el local. Suponga que el día de hoy (jueves) a las 12:00 pm, 10 bicicletas estaban alquiladas. Calcule el número promedio de bicicletas a las que se les realizará limpieza y mantenimiento el lunes."
   ]
  },
  {
   "cell_type": "markdown",
   "metadata": {},
   "source": [
    "Para solucionar este problema, se debe empezar calculando las probabilidades de tener alquiladas un determinado número de bicicletas el próximo lunes a las 12:00 pm, dado que hoy (jueves) a las 12:00 pm, 10 bicicletas están alquiladas.\n",
    "\n",
    "A continuación se crea el vector de estado inicial de probabilidades, que tendrá por nombre `alpha2`:"
   ]
  },
  {
   "cell_type": "code",
   "execution_count": 18,
   "metadata": {},
   "outputs": [
    {
     "data": {
      "text/plain": [
       "array([0., 0., 0., 0., 0., 0., 0., 0., 0., 0., 1., 0., 0., 0., 0.])"
      ]
     },
     "execution_count": 18,
     "metadata": {},
     "output_type": "execute_result"
    }
   ],
   "source": [
    "# Crear un array con 16 elementos, todos con valor de 0.\n",
    "alpha2 = np.zeros(15) \n",
    "\n",
    "# Asignar un 1 en la posición 11 (Índice 10), Ya que corresponde a las 10 bicicletas prestadas en el momento t.\n",
    "alpha2[10] = 1\n",
    "alpha2"
   ]
  },
  {
   "cell_type": "markdown",
   "metadata": {},
   "source": [
    "Con esto, es posible calcular el vector de probabilidades del próximo lunes a las 12:00 pm. Se sabe que, en este caso, el valor de t es igual a 96 y está expresado en horas. Para calcular la distribución de probabilidad se utilizará la funcion `transient_probabilities` de la librería `jmarkov` que recibe como parámetro el vector inicial `alpha` y el instante del tiempo (en horas) a considerar `t = 96`"
   ]
  },
  {
   "cell_type": "code",
   "execution_count": 19,
   "metadata": {},
   "outputs": [],
   "source": [
    "probs = Q.transient_probabilities(t = 96, alpha = alpha2)"
   ]
  },
  {
   "cell_type": "markdown",
   "metadata": {},
   "source": [
    "Como la variable de estado está expresada en términos del número de bicicletas alquiladas, si a 15 se le resta este número, entonces se obtendrá el número de bicicletas que están **disponibles** en el local. Esto se tiene en cuenta a continuación para encontrar el valor esperado de bicicletas a las que se les realizará limpieza y mantenimiento."
   ]
  },
  {
   "cell_type": "code",
   "execution_count": 22,
   "metadata": {},
   "outputs": [
    {
     "name": "stdout",
     "output_type": "stream",
     "text": [
      "El número promedio de bicicletas a las que se les realizará limpieza y mantenimiento el lunes es: 14.444\n"
     ]
    }
   ],
   "source": [
    "num_bicis = 15 - np.arange(len(probs))\n",
    "resultado = np.sum(probs * num_bicis)\n",
    "print(f'El número promedio de bicicletas a las que se les realizará limpieza y mantenimiento el lunes es: {round(resultado,3)}')"
   ]
  },
  {
   "cell_type": "markdown",
   "metadata": {},
   "source": [
    "<h3 style=\"color: #ADD8E6;\">Comandos Útiles\n",
    "</h3>"
   ]
  },
  {
   "cell_type": "markdown",
   "metadata": {},
   "source": [
    "A continuación se presentan algunos comandos de la librería `jmarkov` que pueden ser de utilidad al momento de estudiar Cadenas de Markov de Tiempo Continuo o Cadenas de Markov de Tiempo Discreto:"
   ]
  },
  {
   "cell_type": "markdown",
   "metadata": {},
   "source": [
    "| Comando | Operacion |\n",
    "|:---:|:---:|\n",
    "| `is_ergodic` | Retorna verdadero si la cadena es ergódica, falso en caso contrario.|\n",
    "| `is_irreducible` | Retorna verdadero si la cadena es irreducible, falso en caso contrario. |\n",
    "| `first_passage_time` | Calcula el tiempo promedio de primera llegada a un estado objetivo desde un estado inicial. |\n",
    "| `occupation_time` |  Calcula el tiempo promedio que la cadena permanecerá en cada estado, considerando todos los estados iniciales posibles. |\n",
    "| `period` | Retorna el periodo de la cadena (en tiempo discreto). |\n",
    "| `steady_state` | Calcula la distribución estacionaria de la cadena de Markov. |\n",
    "| `transient_probabilities` | Calcula la distribución transitoria en el instante n o t, dado el estado inicial alpha |\n",
    "| `n_states` | Retorno el numero de estados de la cadena. |\n"
   ]
  }
 ],
 "metadata": {
  "kernelspec": {
   "display_name": "Python 3",
   "language": "python",
   "name": "python3"
  },
  "language_info": {
   "codemirror_mode": {
    "name": "ipython",
    "version": 3
   },
   "file_extension": ".py",
   "mimetype": "text/x-python",
   "name": "python",
   "nbconvert_exporter": "python",
   "pygments_lexer": "ipython3",
   "version": "3.12.7"
  }
 },
 "nbformat": 4,
 "nbformat_minor": 2
}
