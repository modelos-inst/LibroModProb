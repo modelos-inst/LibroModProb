{
 "cells": [
  {
   "cell_type": "markdown",
   "metadata": {},
   "source": [
    "### <h3 style=\"color: #ADD8E6;\">Complementaria 10: SDP en Python</h3>"
   ]
  },
  {
   "cell_type": "markdown",
   "metadata": {},
   "source": [
    "En este tutorial nos concentramos en la implementación del modúlo de SDP de `jmarkov` en Python, a través de dos ejemplos. Este módulo de `jmarkov` permite encontrar la política óptima de un proceso de decisión en el tiempo estocástico (SDP) mediante programación dinámica."
   ]
  },
  {
   "cell_type": "markdown",
   "metadata": {},
   "source": [
    "<h3 style=\"color: #ADD8E6;\">Problema 1: Máquinas</h3>"
   ]
  },
  {
   "cell_type": "markdown",
   "metadata": {},
   "source": [
    "Se resolverá el primer problema del archivo `Complementaria 11 (Q).pdf` que se encuentra en Bloque Neón. \n",
    "\n",
    "Vamos a modelar el problema de la máquina mediante un modelo de programación dinámica estocástica. El problema está definido para un horizonte de tiempo de 3 épocas (semanas), así, el conjunto de las épocas es:\n",
    "$\n",
    "\\text{Épocas} = \\{1,2,3\\}\n",
    "$\n"
   ]
  },
  {
   "cell_type": "markdown",
   "metadata": {},
   "source": [
    "Para poder determinar las posibles decisiones en una época, se necesita conocer el estado de la máquina al inicio de cada semana. Por ende, se define una única variable:\n",
    "$\n",
    "X_{t} = \\text{Estado de la máquina al inicio de la semana }t\n",
    "$\n",
    "Esta variable puede tomar los siguientes estados:\n",
    "$\n",
    "S_{X} = \\{ \\text{Excelente}, \\text{Bueno}, \\text{Promedio}, \\text{Malo}\\}\n",
    "$\n"
   ]
  },
  {
   "cell_type": "markdown",
   "metadata": {},
   "source": [
    "Todas las semanas se puede tomar la decisión de reemplazar o no reemplazar, así que las decisiones posibles no dependerán de la época. Sin embargo, no es posible tomar la decisión de reemplazar si la máquina se encuentra en el estado Excelente, por lo que <strong>sí dependerán del estado</strong>. \n",
    "$\n",
    "A_{t}(i) = \\{\\text{Reemplazar},\\text{No Reemplazar}\\} \\forall t \\in E, i \\in S_{X}|i\\neq \\text{Excelente}\n",
    "$\n",
    "$\n",
    "A_{t}(i) = \\{\\text{No Reemplazar}\\} \\forall t \\in E, i = \\text{Excelente}\n",
    "$\n"
   ]
  },
  {
   "cell_type": "markdown",
   "metadata": {},
   "source": [
    "Los retornos inmediatos dependen del estado que tenga la máquina al inicio de la semana y están dados por:\n",
    "$\n",
    "r_{t}(i,a) = \\text{Ganancia semanal}-\\text{Costo asociado a la decisión}\n",
    "$\n",
    "Dado que si se decide reemplazar la máquina, ésta queda en perfectas condiciones, los ingresos que recibirá esa semana corresponden a una máquina en excelente estado (\\$100). Los retornos se pueden entender como:\n",
    "\n",
    "$\n",
    "r_{t}(i,a)= \n",
    "\\begin{array}{|c|c|c|}\n",
    "    \\hline\n",
    "    & \\text{Reemplazar}& \\text{No Reemplazar}  \\\\\n",
    "    \\hline\n",
    "    \\text{Excelente} & -1000 & 100 \\\\\n",
    "    \\text{Bueno} & -100 & 80 \\\\\n",
    "    \\text{Promedio} & -100 & 50 \\\\\n",
    "    \\text{Malo} & -100 & 10 \\\\\n",
    "    \\hline\n",
    "    \\end{array}\n",
    "$ \n",
    "\n",
    "El costo de reemplazar cuando la máquina está en excelentes condiciones toma un valor negativo de penalización, ya que ésta es una decisión infactible. De este modo, nos aseguramos que esta decisión nunca sea tomada. "
   ]
  },
  {
   "cell_type": "markdown",
   "metadata": {},
   "source": [
    "\n",
    "Las probabilidades de transición están dadas por el enunciado, como se ve a continuación:\n",
    "\n",
    "$\n",
    "P_{i \\to j}^{(a = No Reemplazar)}= \n",
    "\\begin{array}{|c|cccc|}\n",
    "    \\hline\n",
    "   & \\text{E}& \\text{B} & \\text{P} & \\text{M} \\\\\n",
    "    \\hline\n",
    "    \\text{E} & 0.7 & 0.3 &  0 & 0 \\\\\n",
    "    \\text{B} & 0 & 0.7 &  0.3 & 0 \\\\\n",
    "    \\text{P} & 0 & 0 &  0.7 & 0.3 \\\\\n",
    "    \\text{M} & 0 & 0 &  0 & 1 \\\\\n",
    "    \\hline\n",
    "    \\end{array}\n",
    "$\n",
    "\n",
    "$\n",
    "P_{i \\to j}^{(a = Reemplazar)}= \n",
    "\\begin{array}{|c|cccc|}\n",
    "    \\hline\n",
    "   & \\text{E}& \\text{B} & \\text{P} & \\text{M} \\\\\n",
    "    \\hline\n",
    "    \\text{E} & 0 & 0 &  0 & 0 \\\\\n",
    "    \\text{B} & 0.7 & 0.3 &  0. & 0 \\\\\n",
    "    \\text{P} & 0.7 & 0.3 &  0 & 0 \\\\\n",
    "    \\text{M} & 0.7 & 0.3 &  0 & 0 \\\\\n",
    "    \\hline\n",
    "    \\end{array}\n",
    "$\n",
    "\n",
    "Notemos que la matriz de Reemplazar cuenta con una condición particular: las entradas de primera fila son todas iguales a 0, en vez de sumar a 1; esto se debe a que la decisión de reemplazar no es fáctible para el estado excelente. "
   ]
  },
  {
   "cell_type": "markdown",
   "metadata": {},
   "source": [
    "Para empezar con la implementación, llamamos las librerías necesarias."
   ]
  },
  {
   "cell_type": "code",
   "execution_count": 1,
   "metadata": {},
   "outputs": [],
   "source": [
    "import numpy as np\n",
    "from jmarkov.sdp.dtsdp import dtsdp"
   ]
  },
  {
   "cell_type": "markdown",
   "metadata": {},
   "source": [
    "Crearemos el espacio de las épocas en Python como un arreglo de numpy, de la siguiente manera:"
   ]
  },
  {
   "cell_type": "code",
   "execution_count": 2,
   "metadata": {},
   "outputs": [],
   "source": [
    "E = np.array([i for i in range(1,4)])"
   ]
  },
  {
   "cell_type": "markdown",
   "metadata": {},
   "source": [
    "Creamos el espacio de estados. "
   ]
  },
  {
   "cell_type": "code",
   "execution_count": 3,
   "metadata": {},
   "outputs": [],
   "source": [
    "S = np.array(['Excelente','Bueno','Promedio','Malo']) # Estado de la máquina al inicio de la semana t"
   ]
  },
  {
   "cell_type": "markdown",
   "metadata": {},
   "source": [
    "Creamos el espacio de acciones. "
   ]
  },
  {
   "cell_type": "code",
   "execution_count": 4,
   "metadata": {},
   "outputs": [],
   "source": [
    "A = np.array(['Reemplazar','No Reemplazar'])"
   ]
  },
  {
   "cell_type": "markdown",
   "metadata": {},
   "source": [
    "Creamos los retornos inmediatos."
   ]
  },
  {
   "cell_type": "code",
   "execution_count": 5,
   "metadata": {},
   "outputs": [],
   "source": [
    "R = np.zeros((len(E),len(S),len(A)))\n",
    "\n",
    "# Recorremos sobre las épocas\n",
    "for t in range(len(E)):\n",
    "    # Recorremos sobre los estados:\n",
    "    for s_index, i in enumerate(S):\n",
    "        # Recorremos sobre las decisiones:\n",
    "        for a_index, a in enumerate(A):\n",
    "            if i=='Excelente' and a=='Reemplazar':\n",
    "                R[t,s_index,a_index] = -1000\n",
    "            elif i=='Excelente' and a=='No Reemplazar':\n",
    "                R[t,s_index,a_index] = 100\n",
    "            elif(i==\"Bueno\" and a==\"Reemplazar\"):\n",
    "                R[t,s_index,a_index]=-100\n",
    "            elif(i==\"Bueno\" and a==\"No Reemplazar\"):\n",
    "                R[t,s_index,a_index]=80\n",
    "            elif(i==\"Promedio\" and a==\"Reemplazar\"):\n",
    "                R[t,s_index,a_index]=-100\n",
    "            elif(i==\"Promedio\" and a==\"No Reemplazar\"):\n",
    "                R[t,s_index,a_index]=50\n",
    "            elif(i==\"Malo\" and a==\"Reemplazar\"):\n",
    "                R[t,s_index,a_index]=-100\n",
    "            elif(i==\"Malo\" and a==\"No Reemplazar\"):\n",
    "                R[t,s_index,a_index]=10\n",
    "            "
   ]
  },
  {
   "cell_type": "markdown",
   "metadata": {},
   "source": [
    "Creamos las matrices de transición.\n",
    "Tendremos una matriz para cada época y para cada decisión. "
   ]
  },
  {
   "cell_type": "code",
   "execution_count": 6,
   "metadata": {},
   "outputs": [
    {
     "data": {
      "text/plain": [
       "{1: {'Reemplazar': array([[1. , 0. , 0. , 0. ],\n",
       "         [0.7, 0.3, 0. , 0. ],\n",
       "         [0.7, 0.3, 0. , 0. ],\n",
       "         [0.7, 0.3, 0. , 0. ]]),\n",
       "  'No Reemplazar': array([[0.7, 0.3, 0. , 0. ],\n",
       "         [0. , 0.7, 0.3, 0. ],\n",
       "         [0. , 0. , 0.7, 0.3],\n",
       "         [0. , 0. , 0. , 1. ]])},\n",
       " 2: {'Reemplazar': array([[1. , 0. , 0. , 0. ],\n",
       "         [0.7, 0.3, 0. , 0. ],\n",
       "         [0.7, 0.3, 0. , 0. ],\n",
       "         [0.7, 0.3, 0. , 0. ]]),\n",
       "  'No Reemplazar': array([[0.7, 0.3, 0. , 0. ],\n",
       "         [0. , 0.7, 0.3, 0. ],\n",
       "         [0. , 0. , 0.7, 0.3],\n",
       "         [0. , 0. , 0. , 1. ]])},\n",
       " 3: {'Reemplazar': array([[1. , 0. , 0. , 0. ],\n",
       "         [0.7, 0.3, 0. , 0. ],\n",
       "         [0.7, 0.3, 0. , 0. ],\n",
       "         [0.7, 0.3, 0. , 0. ]]),\n",
       "  'No Reemplazar': array([[0.7, 0.3, 0. , 0. ],\n",
       "         [0. , 0.7, 0.3, 0. ],\n",
       "         [0. , 0. , 0.7, 0.3],\n",
       "         [0. , 0. , 0. , 1. ]])}}"
      ]
     },
     "execution_count": 6,
     "metadata": {},
     "output_type": "execute_result"
    }
   ],
   "source": [
    "matNoReemplazar = np.array([[0.7,0.3,0,0],\n",
    "                          [0,0.7,0.3,0],\n",
    "                          [0,0,0.7,0.3],\n",
    "                          [0,0,0,1]])\n",
    "\n",
    "matReemplazar = np.array([[1,0,0,0],\n",
    "                          [0.7,0.3,0,0],\n",
    "                          [0.7,0.3,0,0],\n",
    "                          [0.7,0.3,0,0]])\n",
    "\n",
    "probs = {}\n",
    "for t in E:  # Iterar sobre cada época\n",
    "    decisiones_dict = {}\n",
    "    for posA, a in enumerate(A):\n",
    "        if a == \"Reemplazar\":\n",
    "            decisiones_dict[a] = matReemplazar\n",
    "        elif a == \"No Reemplazar\":\n",
    "            decisiones_dict[a] = matNoReemplazar\n",
    "    probs[t] = decisiones_dict\n",
    "\n",
    "probs"
   ]
  },
  {
   "cell_type": "markdown",
   "metadata": {},
   "source": [
    "Finalmente, creamos el problema como un SDP. "
   ]
  },
  {
   "cell_type": "code",
   "execution_count": 7,
   "metadata": {},
   "outputs": [],
   "source": [
    "sdpMaquinas = dtsdp(E,S, A, probs, R, 0.9)"
   ]
  },
  {
   "cell_type": "markdown",
   "metadata": {},
   "source": [
    "Ahora, solucionamos el SDP. El método `solve` de la librería recibe el sentido del problema, es decir, si estamos minimizando o maximizando."
   ]
  },
  {
   "cell_type": "code",
   "execution_count": 8,
   "metadata": {},
   "outputs": [
    {
     "data": {
      "text/plain": [
       "(array([[255.151, 184.6  , 100.   ],\n",
       "        [193.391, 143.9  ,  80.   ],\n",
       "        [108.176,  84.2  ,  50.   ],\n",
       "        [ 55.151,  19.   ,  10.   ]]),\n",
       " array([['N', 'N', 'N'],\n",
       "        ['N', 'N', 'N'],\n",
       "        ['N', 'N', 'N'],\n",
       "        ['R', 'N', 'N']], dtype='<U1'))"
      ]
     },
     "execution_count": 8,
     "metadata": {},
     "output_type": "execute_result"
    }
   ],
   "source": [
    "sdpMaquinas.solve(minimize=False)"
   ]
  },
  {
   "cell_type": "markdown",
   "metadata": {},
   "source": [
    "Notamos que nos devuelve dos resultados. El primero se refiere al valor que toma cada una de las funciones de valor, para cada época y estado. Y el segundo, corresponde a la política óptima. En este caso, únicamente se debe reemplazar cuando se está en la primera época y la máquina se encuentra en un mal estado."
   ]
  },
  {
   "cell_type": "markdown",
   "metadata": {},
   "source": [
    "<div style=\"border: 2px solid #4CAF50; background-color: #f9f9f9; padding: 10px; border-radius: 5px; font-size: 16px;\">\n",
    "💡 <strong>Reto:</strong> Animate a implementar el segundo ejercicio propuesto!\n",
    "</div>\n"
   ]
  },
  {
   "cell_type": "markdown",
   "metadata": {},
   "source": [
    "Universidad de los Andes | Vigilada Mineducación. Reconocimiento como Universidad: Decreto 1297 del 30 de mayo de 1964. Reconocimiento personería jurídica: Resolución 28 del 23 de febrero de 1949 Minjusticia. Departamento de Ingeniería Industrial Carrera 1 Este No. 19 A 40 Bogotá, Colombia Tel. (57.1) 3324320 | (57.1) 3394949 Ext. 2880 /2881 http://industrial.uniandes.edu.co"
   ]
  }
 ],
 "metadata": {
  "kernelspec": {
   "display_name": "base",
   "language": "python",
   "name": "python3"
  },
  "language_info": {
   "codemirror_mode": {
    "name": "ipython",
    "version": 3
   },
   "file_extension": ".py",
   "mimetype": "text/x-python",
   "name": "python",
   "nbconvert_exporter": "python",
   "pygments_lexer": "ipython3",
   "version": "3.9.13"
  }
 },
 "nbformat": 4,
 "nbformat_minor": 2
}
