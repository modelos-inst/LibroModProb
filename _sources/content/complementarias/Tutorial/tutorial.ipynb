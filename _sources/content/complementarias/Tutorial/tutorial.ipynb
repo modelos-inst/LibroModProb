{
 "cells": [
  {
   "cell_type": "markdown",
   "metadata": {},
   "source": [
    "### <h3 style=\"color: #ADD8E6;\">Tutorial: Instalación Python y Visual Studio Code</h3> ###"
   ]
  },
  {
   "cell_type": "markdown",
   "metadata": {},
   "source": [
    "En este tutorial aprenderemos cómo descargar e instalar Python y Visual Studio Code (VSC). Python es el lenguaje de programación que utilizaremos durante el semestre, mientras que Visual Studio Code es un entorno de desarrollo integrado (IDE) que facilitará el proceso de programación.\n",
    "\n",
    "---"
   ]
  },
  {
   "cell_type": "markdown",
   "metadata": {},
   "source": [
    "<h3 style=\"color: #ADD8E6;\">1. Descargar Python</h3>"
   ]
  },
  {
   "cell_type": "markdown",
   "metadata": {},
   "source": [
    "\n",
    "1. Abra su navegador y acceda a la página oficial de Python: [https://www.python.org](https://www.python.org).\n",
    "\n",
    "2. En la página principal, verá un botón llamado **Downloads** \n",
    "\n"
   ]
  },
  {
   "cell_type": "markdown",
   "metadata": {},
   "source": [
    "![fig1](imagenes/Imagen1.png)"
   ]
  },
  {
   "cell_type": "markdown",
   "metadata": {},
   "source": [
    "Al seleccionarlo, encontrará la versión más reciente recomendada para el sistema operativo Windows. Haga clic en ese botón para iniciar la descarga. Si está utilizando macOS o Linux/UNIX, deberá hacer clic en los enlaces correspondientes, los cuales están marcados con un recuadro rojo que se muestra a continuación."
   ]
  },
  {
   "cell_type": "markdown",
   "metadata": {},
   "source": [
    "![fig2](imagenes/Imagen2.png)"
   ]
  },
  {
   "cell_type": "markdown",
   "metadata": {},
   "source": [
    "3. Una vez que se haya completado la descarga, haga doble clic en el archivo descargado para ejecutar el instalador.\n",
    "\n",
    "4. Asegúrese de **marcar la casilla \"Add Python to PATH\"** antes de hacer clic en \"Install Now\". Esto hará que Python sea accesible desde la línea de comandos (terminal). Luego, haga clic en **\"Install Now\"** y espere a que se complete la instalación.\n",
    "5. Una vez instalado Python, podrá verificar la versión instalada. Para ello, abra **Command Prompt** (en Windows) y escriba el siguiente comando:\n",
    "   \n",
    "     ```bash\n",
    "     python --version\n",
    "     ```\n",
    "- Si todo está bien, debería ver la versión de Python instalada, como por ejemplo:\n",
    "     ```bash\n",
    "     Python 3.13.1\n",
    "     ```"
   ]
  },
  {
   "cell_type": "markdown",
   "metadata": {},
   "source": [
    "<h3 style=\"color: #ADD8E6;\">2.1. Descargar Visual Studio Code (VSC)</h3>"
   ]
  },
  {
   "cell_type": "markdown",
   "metadata": {},
   "source": [
    "\n",
    "Visual Studio Code (VS Code) es un editor de código fuente ligero, potente y extensible, ideal para programadores. Este tutorial es una guía paso a paso para instalarlo en su computadora.\n",
    "\n",
    "---\n",
    "\n",
    "1. Abra su navegador preferido.\n",
    "2. Vaya a la página oficial de descarga de VS Code:  \n",
    "   [https://code.visualstudio.com/](https://code.visualstudio.com/)\n",
    "3. Haga clic en el botón **Download for your OS**. VS Code detectará automáticamente su sistema operativo y le ofrecerá la versión adecuada.\n"
   ]
  },
  {
   "cell_type": "markdown",
   "metadata": {},
   "source": [
    "![fig6](imagenes/Imagen3.png)"
   ]
  },
  {
   "cell_type": "markdown",
   "metadata": {},
   "source": [
    "<h3 style=\"color: #ADD8E6;\">2.2. Instalar Visual Studio Code (VSC)</h3>"
   ]
  },
  {
   "cell_type": "markdown",
   "metadata": {},
   "source": [
    "\n",
    "#### **En Windows**\n",
    "1. Abra el archivo descargado (`VSCodeSetup.exe`).\n",
    "2. Acepte los términos de la licencia y haga clic en **Next**.\n",
    "3. Seleccione una carpeta de instalación (o deje la predeterminada) y haga clic en **Next**.\n",
    "4. Marque las opciones que prefiera, como:\n",
    "   - \"Agregar a PATH (recomendado)\".\n",
    "   - \"Registrar el editor como predeterminado para archivos soportados\".\n",
    "5. Haga clic en **Install** y espere a que se complete la instalación.\n",
    "6. Una vez instalada, haga clic en **Finish** para abrir VS Code.\n",
    "\n",
    "#### **En macOS**\n",
    "1. Abra el archivo `.dmg` descargado.\n",
    "2. Arrastre el ícono de Visual Studio Code a la carpeta **Applications**.\n",
    "3. Abra la carpeta **Applications** y ejecute VS Code.\n"
   ]
  },
  {
   "cell_type": "markdown",
   "metadata": {},
   "source": [
    "<h3 style=\"color: #ADD8E6;\">3. Comenzando con Visual Studio Code (VSC)</h3>"
   ]
  },
  {
   "cell_type": "markdown",
   "metadata": {},
   "source": [
    "En esta parte aprenderemos los aspectos mas importantes que Visual Studio Code puede ofrecer, aprenderemos sobre los diferentes componentes sobre la interfaz de usuario y como personalizarlos a su gusto. Al momento de abrir la aplicación observará esto:"
   ]
  },
  {
   "cell_type": "markdown",
   "metadata": {},
   "source": [
    "![fig6](imagenes/Imagen4.png)"
   ]
  },
  {
   "cell_type": "markdown",
   "metadata": {},
   "source": [
    "#### **Abrir una carpeta en VS Code**"
   ]
  },
  {
   "cell_type": "markdown",
   "metadata": {},
   "source": [
    "Puede usar VS Code para trabajar en archivos individuales y realizar ediciones sencillas, o puede abrir una carpeta, también conocida como un workspace.\n",
    "\n",
    "Comencemos creando una carpeta llamada `vscode1000` y abriéndola en VS Code.\n",
    "\n",
    "   - Al abrir VS Code por primera vez, debería ver la página de bienvenida con diferentes acciones para comenzar.\n",
    "   - Seleccione **File > Open Folder...** desde el menú para abrir una carpeta.\n"
   ]
  },
  {
   "cell_type": "markdown",
   "metadata": {},
   "source": [
    "![fig6](imagenes/Imagen5.png)"
   ]
  },
  {
   "cell_type": "markdown",
   "metadata": {},
   "source": [
    "#### **Explorando la interfaz de usuario**"
   ]
  },
  {
   "cell_type": "markdown",
   "metadata": {},
   "source": [
    "Ahora que tenemos un espacio de trabajo abierto in VS Code, podemos echar un vistazo rápido a la interfaz de usuario."
   ]
  },
  {
   "cell_type": "markdown",
   "metadata": {},
   "source": [
    "1. Use la barra de actividades para cambiar entre diferentes vistas"
   ]
  },
  {
   "cell_type": "markdown",
   "metadata": {},
   "source": [
    "![fig5](imagenes/Imagen6.png)"
   ]
  },
  {
   "cell_type": "markdown",
   "metadata": {},
   "source": [
    "> **💡 Tip:** Pase el cursor sobre la barra de actividades para ver el nombre de cada vista y el atajo de teclado correspondiente. Puede abrir y cerrar una vista seleccionando la vista nuevamente o presionando el atajo de teclado.\n"
   ]
  },
  {
   "cell_type": "markdown",
   "metadata": {},
   "source": [
    "#### **Ver y editar archivos con el editor**"
   ]
  },
  {
   "cell_type": "markdown",
   "metadata": {},
   "source": [
    "1. Seleccione la vista **Explorer** en la Barra de actividades y seleccione el botón **New File...** para crear un nuevo archivo en su espacio de trabajo."
   ]
  },
  {
   "cell_type": "markdown",
   "metadata": {},
   "source": [
    "![fig3](imagenes/Imagen7.png)"
   ]
  },
  {
   "cell_type": "markdown",
   "metadata": {},
   "source": [
    "2. Introduzca el nombre `prueba.py` y presione `Enter`. Vera que se agrega un archivo a su espacio de trabajo y se abre un Editor en el área principal de la ventana."
   ]
  },
  {
   "cell_type": "markdown",
   "metadata": {},
   "source": [
    "![fig3](imagenes/Imagen8.png)"
   ]
  },
  {
   "cell_type": "markdown",
   "metadata": {},
   "source": [
    "Ahora puede escribir codigo en Python en su archivo `prueba.py`. Sin embargo, notará que a medida que escribe no aparecen sugerencias que le ayudan a completar el código, o incluso si intenta ejecutar el codigo con la tecla `F5` notara que aparece este aviso:"
   ]
  },
  {
   "cell_type": "markdown",
   "metadata": {},
   "source": [
    "![fig4](imagenes/Imagen9.png)"
   ]
  },
  {
   "cell_type": "markdown",
   "metadata": {},
   "source": [
    "Es necesario instalar una extensión de Python en Visual Studio Code (VS Code) para ejecutar Python porque VS Code, por defecto, no incluye soporte completo para lenguajes de programación como Python. VS Code cuenta con un gran ecosistema de extensiones que le permiten agregar lenguajes, depuradores y herramientas a su instalación para respaldar su flujo de trabajo. Hay miles de extensiones disponibles en [Visual Studio Marketplace](https://marketplace.visualstudio.com/vscode).\n",
    "\n",
    "\n",
    "Instalemos una extensión de lenguaje para agregar compatibilidad con Python."
   ]
  },
  {
   "cell_type": "markdown",
   "metadata": {},
   "source": [
    "1. Seleccione la vista Extensiones en la barra de actividades.\n",
    "  - La vista Extensiones le permite buscar e instalar extensiones desde VS Code."
   ]
  },
  {
   "cell_type": "markdown",
   "metadata": {},
   "source": [
    "![fig6](imagenes/Imagen10.png)"
   ]
  },
  {
   "cell_type": "markdown",
   "metadata": {},
   "source": [
    "2. Escriba Python en el cuadro de búsqueda de la vista de extensiones para buscar extensiones relacionadas con Python. Seleccione la extensión de Python publicada por Microsoft y, a continuación, seleccione el botón **Install**."
   ]
  },
  {
   "cell_type": "markdown",
   "metadata": {},
   "source": [
    "![fig5](imagenes/Imagen11.png)"
   ]
  },
  {
   "cell_type": "markdown",
   "metadata": {},
   "source": [
    "3. Ahora, vuelva al archivo `prueba.py` en su espacio de trabajo, y puede volver a escribir la famosa linea de codigo `print('Hello World')`. Note que ahora también recibe sugerencias e IntelliSense para el código Python."
   ]
  },
  {
   "cell_type": "markdown",
   "metadata": {},
   "source": [
    "Finalmente, para ejecutar el código, puede hacer clic en la flecha ubicada en la esquina superior derecha de la ventana o presionar la tecla `F5`. Al hacerlo, el archivo de Python se ejecutará y verá cómo se despliega la terminal, mostrando el mensaje **Hello World**."
   ]
  },
  {
   "cell_type": "markdown",
   "metadata": {},
   "source": [
    "![fig6](imagenes/Imagen12.png)"
   ]
  },
  {
   "cell_type": "markdown",
   "metadata": {},
   "source": [
    "> **💡 Con esto, ya estamos listos para comenzar a trabajar. ¡Esperamos que disfrute del curso de Modelos Probabilisticos!**"
   ]
  },
  {
   "cell_type": "markdown",
   "metadata": {},
   "source": [
    "Universidad de los Andes | Vigilada Mineducación. Reconocimiento como Universidad: Decreto 1297 del 30 de mayo de 1964. Reconocimiento personería jurídica: Resolución 28 del 23 de febrero de 1949 Minjusticia. Departamento de Ingeniería Industrial Carrera 1 Este No. 19 A 40 Bogotá, Colombia Tel. (57.1) 3324320 | (57.1) 3394949 Ext. 2880 /2881 http://industrial.uniandes.edu.co"
   ]
  }
 ],
 "metadata": {
  "kernelspec": {
   "display_name": "Python 3",
   "language": "python",
   "name": "python3"
  },
  "language_info": {
   "codemirror_mode": {
    "name": "ipython",
    "version": 3
   },
   "file_extension": ".py",
   "mimetype": "text/x-python",
   "name": "python",
   "nbconvert_exporter": "python",
   "pygments_lexer": "ipython3",
   "version": "3.13.1"
  }
 },
 "nbformat": 4,
 "nbformat_minor": 2
}
