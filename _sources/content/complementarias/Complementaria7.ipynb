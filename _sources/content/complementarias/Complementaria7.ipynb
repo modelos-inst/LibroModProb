{
 "cells": [
  {
   "cell_type": "markdown",
   "metadata": {},
   "source": [
    "### <h3 style=\"color: #ADD8E6;\">Complementaria 7: Cálculo de filas</h3>\n"
   ]
  },
  {
   "cell_type": "markdown",
   "metadata": {},
   "source": [
    "En este tutorial se utilizará la libreria `jmarkov` en Python para analizar modelos Markovianos de nacimiento y muerte mediante teoría de colas. "
   ]
  },
  {
   "cell_type": "markdown",
   "metadata": {},
   "source": [
    "Para analizar cada tipo de cola, es necesario identificar su naturaleza. Para familiarizarnos con la librería, realicemos un ejemplo para una cola $M/M/1$ con tasa de llegada $3h^{-1}$ y tasa de servicio $1h^{-1}$. Dado que es una cola con capacidad infinita, utilizaremos el módulo `mmk`."
   ]
  },
  {
   "cell_type": "code",
   "execution_count": 2,
   "metadata": {},
   "outputs": [],
   "source": [
    "from jmarkov.queue.mmk import mmk"
   ]
  },
  {
   "cell_type": "markdown",
   "metadata": {},
   "source": [
    " Para crear la cola, utilizamos el método `mmk` que recibe, el número de servidores (k), la tasa de llegadas (arr_rate) y la tasa de servicio (ser_rate)."
   ]
  },
  {
   "cell_type": "code",
   "execution_count": 3,
   "metadata": {},
   "outputs": [],
   "source": [
    "cola1 = mmk(k=1, arr_rate=3, ser_rate=1)"
   ]
  },
  {
   "cell_type": "markdown",
   "metadata": {},
   "source": [
    "Antes de calcular medidas de desempeño, debemos revisar si la fila es estable. "
   ]
  },
  {
   "cell_type": "code",
   "execution_count": 4,
   "metadata": {},
   "outputs": [
    {
     "data": {
      "text/plain": [
       "False"
      ]
     },
     "execution_count": 4,
     "metadata": {},
     "output_type": "execute_result"
    }
   ],
   "source": [
    "cola1.is_stable()"
   ]
  },
  {
   "cell_type": "markdown",
   "metadata": {},
   "source": [
    "Dado que la utilización es mayor a 1, el sistema no alcanza estado estable. Para continuar con el ejercicio, intercambiaremos los parámetros del modelo para que sea estable. Ahora la tasa de llegada será $1h^{-1}$ y la tasa de servicio $3h^{-1}$."
   ]
  },
  {
   "cell_type": "code",
   "execution_count": 5,
   "metadata": {},
   "outputs": [
    {
     "data": {
      "text/plain": [
       "True"
      ]
     },
     "execution_count": 5,
     "metadata": {},
     "output_type": "execute_result"
    }
   ],
   "source": [
    "cola1 = mmk(k=1, arr_rate=1, ser_rate=3) # Creamos el objeto tipo cola\n",
    "cola1.is_stable() # Revisamos estabilidad"
   ]
  },
  {
   "cell_type": "markdown",
   "metadata": {},
   "source": [
    "Con una fila estable, es posible obtener medidas de interés utilizando los métodos: \n",
    "\n",
    "| Comando | Operacion |\n",
    "|:---:|:---:|\n",
    "| `mean_number_entities` | Calcula el número promedio de entidades que hay en el sistema. |\n",
    "| `mean_number_entities_queue` | Calcula el número promedio de entidades que hay en fila. |\n",
    "| `mean_number_entities_service` | Calcula el número promedio de entidades que hay en servicio. |\n",
    "| `mean_time_system` |  Calcula el tiempo promedio que permanece una entidad en el sistema.|\n",
    "| `mean_time_queue` |Calcula el tiempo promedio que permanece una entidad en cola. |\n",
    "| `mean_time_service` | Calcula el tiempo promedio que permanece una entidad en servicio.|"
   ]
  },
  {
   "cell_type": "markdown",
   "metadata": {},
   "source": [
    "Revisemos el uso de algunas de ellas."
   ]
  },
  {
   "cell_type": "markdown",
   "metadata": {},
   "source": [
    "Por ejemplo, si nos interesa conocer el número promedio de entidades en el sistema, utilizamos el comando de la siguiente manera:"
   ]
  },
  {
   "cell_type": "code",
   "execution_count": 8,
   "metadata": {},
   "outputs": [
    {
     "data": {
      "text/plain": [
       "np.float64(0.49999999999999983)"
      ]
     },
     "execution_count": 8,
     "metadata": {},
     "output_type": "execute_result"
    }
   ],
   "source": [
    "num_promedio_entidades = cola1.mean_number_entities()\n",
    "num_promedio_entidades"
   ]
  },
  {
   "cell_type": "markdown",
   "metadata": {},
   "source": [
    "Por otro lado, si es de interés conocer el tiempo promedio que las entidades permanecen en fila, se utiliza el siguiente comando:"
   ]
  },
  {
   "cell_type": "code",
   "execution_count": 9,
   "metadata": {},
   "outputs": [
    {
     "data": {
      "text/plain": [
       "np.float64(0.16666666666666666)"
      ]
     },
     "execution_count": 9,
     "metadata": {},
     "output_type": "execute_result"
    }
   ],
   "source": [
    "tiempo_promedio_fila = cola1.mean_time_queue()\n",
    "tiempo_promedio_fila"
   ]
  },
  {
   "cell_type": "markdown",
   "metadata": {},
   "source": [
    "A continuación, resolveremos los ejercicios propuestos en el archivo `Complementaria 8 (Q).pdf` que se encuentra en Bloque Neón."
   ]
  },
  {
   "cell_type": "markdown",
   "metadata": {},
   "source": [
    "<h3 style=\"color: #ADD8E6;\">Problema 1: FoodTruck</h3>"
   ]
  },
  {
   "cell_type": "markdown",
   "metadata": {},
   "source": [
    "Este problema corresponde a una cola $M/M/2$ debido a que se tienen dos servidores. La tasa de llegada es de $80 \\frac{personas}{hora}$ y la tasa de servicio es de $50\\frac{personas}{hora}$. Así, definamos los parámetros y creemos el objeto tipo cola."
   ]
  },
  {
   "cell_type": "code",
   "execution_count": 10,
   "metadata": {},
   "outputs": [],
   "source": [
    "foodtruck = mmk(k=2, arr_rate=80 ,ser_rate=50)"
   ]
  },
  {
   "cell_type": "markdown",
   "metadata": {},
   "source": [
    "<h3 style=\"color: #ADD8E6;\">Literal a</h3>"
   ]
  },
  {
   "cell_type": "markdown",
   "metadata": {},
   "source": [
    "En el literal a, se debe hallar el número esperado de clientes en estado estable. Para esto, verificamos que el sistema alcance estado estable. "
   ]
  },
  {
   "cell_type": "code",
   "execution_count": 11,
   "metadata": {},
   "outputs": [
    {
     "data": {
      "text/plain": [
       "True"
      ]
     },
     "execution_count": 11,
     "metadata": {},
     "output_type": "execute_result"
    }
   ],
   "source": [
    "foodtruck.is_stable()"
   ]
  },
  {
   "cell_type": "markdown",
   "metadata": {},
   "source": [
    "Como el sistema es estable, podemos hallar el número esperado de clientes en el Food Truck $(L)$."
   ]
  },
  {
   "cell_type": "code",
   "execution_count": 12,
   "metadata": {},
   "outputs": [
    {
     "data": {
      "text/plain": [
       "np.float64(4.444444420905357)"
      ]
     },
     "execution_count": 12,
     "metadata": {},
     "output_type": "execute_result"
    }
   ],
   "source": [
    "clientes = foodtruck.mean_number_entities()\n",
    "clientes"
   ]
  },
  {
   "cell_type": "markdown",
   "metadata": {},
   "source": [
    "Así, en promedio en el Food Truck habrá 4.44 personas en estado estable. "
   ]
  },
  {
   "cell_type": "markdown",
   "metadata": {},
   "source": [
    "Para un tomador de decisiones puede ser de interés conocer cuantas de estas personas están en fila y cuantas siendo atendidas. Calculemos el número de personas en fila y en servicio."
   ]
  },
  {
   "cell_type": "code",
   "execution_count": 13,
   "metadata": {},
   "outputs": [
    {
     "data": {
      "text/plain": [
       "np.float64(2.844444421358036)"
      ]
     },
     "execution_count": 13,
     "metadata": {},
     "output_type": "execute_result"
    }
   ],
   "source": [
    "clientesFila = foodtruck.mean_number_entities_queue()\n",
    "clientesFila"
   ]
  },
  {
   "cell_type": "code",
   "execution_count": 14,
   "metadata": {},
   "outputs": [
    {
     "data": {
      "text/plain": [
       "1.6"
      ]
     },
     "execution_count": 14,
     "metadata": {},
     "output_type": "execute_result"
    }
   ],
   "source": [
    "clientesServicio = foodtruck.mean_number_entities_service()\n",
    "clientesServicio"
   ]
  },
  {
   "cell_type": "markdown",
   "metadata": {},
   "source": [
    "Ahora, realizaremos una gráfica comparativa para el número promedio de personas en fila y el número promedio de personas en servicio. "
   ]
  },
  {
   "cell_type": "code",
   "execution_count": 15,
   "metadata": {},
   "outputs": [],
   "source": [
    "import matplotlib.pyplot as plt\n",
    "import numpy as np"
   ]
  },
  {
   "cell_type": "code",
   "execution_count": 16,
   "metadata": {},
   "outputs": [
    {
     "data": {
      "image/png": "[encoded data removed]",
      "text/plain": [
       "<Figure size 640x480 with 1 Axes>"
      ]
     },
     "metadata": {},
     "output_type": "display_data"
    }
   ],
   "source": [
    "positions = np.arange(len([\"Clientes en fila\", \"Clientes en servicio\"]))\n",
    "\n",
    "\n",
    "plt.barh(\n",
    "    y=positions[0], \n",
    "    width=clientesFila, \n",
    "    color=\"lightblue\", \n",
    "    edgecolor=\"black\", \n",
    "    label=\"Clientes en fila\"\n",
    ")\n",
    "plt.barh(\n",
    "    y=positions[1], \n",
    "    width=clientesServicio, \n",
    "    color=\"darkslateblue\", \n",
    "    edgecolor=\"black\", \n",
    "    label=\"Clientes en servicio\"\n",
    ")\n",
    "\n",
    "plt.yticks([]) \n",
    "plt.xlabel(\"Número de personas\")\n",
    "plt.title(\"Número promedio de personas en el Food Truck en el largo plazo\")\n",
    "plt.xlim(0, max([clientesFila, clientesServicio]) + 2)  \n",
    "plt.legend([\"Clientes en fila\", \"Clientes en servicio\"], title=\"Leyenda\")  \n",
    "\n",
    "# Mostrar gráfico\n",
    "plt.grid(axis='x', linestyle='') \n",
    "plt.show()\n"
   ]
  },
  {
   "cell_type": "markdown",
   "metadata": {},
   "source": [
    "<h3 style=\"color: #ADD8E6;\">Literal b</h3>"
   ]
  },
  {
   "cell_type": "markdown",
   "metadata": {},
   "source": [
    "Para el literal b, se debe hallar el tiempo en horas que un cliente debe esperar en fila para ser atendido."
   ]
  },
  {
   "cell_type": "code",
   "execution_count": 17,
   "metadata": {},
   "outputs": [
    {
     "data": {
      "text/plain": [
       "np.float64(0.03555555526697545)"
      ]
     },
     "execution_count": 17,
     "metadata": {},
     "output_type": "execute_result"
    }
   ],
   "source": [
    "tiempoFila = foodtruck.mean_time_queue()\n",
    "tiempoFila"
   ]
  },
  {
   "cell_type": "markdown",
   "metadata": {},
   "source": [
    "De igual modo, construiremos una gráfica comparativa entre el tiempo de servicio y el tiempo en fila. Entonces, debemos calcular el tiempo en fila y el tiempo en servicio."
   ]
  },
  {
   "cell_type": "code",
   "execution_count": 18,
   "metadata": {},
   "outputs": [
    {
     "data": {
      "text/plain": [
       "0.02"
      ]
     },
     "execution_count": 18,
     "metadata": {},
     "output_type": "execute_result"
    }
   ],
   "source": [
    "tiempoServicio = foodtruck.mean_time_service()\n",
    "tiempoServicio"
   ]
  },
  {
   "cell_type": "code",
   "execution_count": 19,
   "metadata": {},
   "outputs": [
    {
     "data": {
      "image/png": "[encoded data removed]",
      "text/plain": [
       "<Figure size 640x480 with 1 Axes>"
      ]
     },
     "metadata": {},
     "output_type": "display_data"
    }
   ],
   "source": [
    "etiquetas = [\"Tiempo en Cola\", \"Tiempo en Servicio\"]\n",
    "tiempos = [tiempoFila, tiempoServicio] \n",
    "\n",
    "plt.bar(\n",
    "    x=etiquetas, \n",
    "    height=tiempos, \n",
    "    color=['#34EBE1', '#1A76FF'], \n",
    "    edgecolor=\"black\"\n",
    ")\n",
    "\n",
    "plt.title(\"Tiempo promedio en el Food Truck en el largo plazo\")\n",
    "plt.xlabel(\"\")\n",
    "plt.ylabel(\"Tiempo (Horas)\")\n",
    "\n",
    "plt.tight_layout()\n",
    "plt.show()\n"
   ]
  },
  {
   "cell_type": "markdown",
   "metadata": {},
   "source": [
    "<h3 style=\"color: #ADD8E6;\">Literal c</h3>"
   ]
  },
  {
   "cell_type": "markdown",
   "metadata": {},
   "source": [
    "Para el literal c, se debe hallar la fracción del tiempo que Daniela se encuentra ociosa. \n",
    "\n",
    "Daniela estará ociosa cuando no haya personas en el sistema y la mitad del tiempo cuando haya una persona en el sistema. Esta fracción del tiempo corresponde a: $\\pi_0 + 0.5 \\cdot \\pi_1$"
   ]
  },
  {
   "cell_type": "markdown",
   "metadata": {},
   "source": [
    "Para hallar las probabilidades en estado estable utilizamos el atributo ``probs``, el cual nos devuelve un vector que guarda la probabilidad de estar en cada uno de los estados del sistema, en el largo plazo."
   ]
  },
  {
   "cell_type": "code",
   "execution_count": 20,
   "metadata": {},
   "outputs": [],
   "source": [
    "estado_estable = foodtruck.probs"
   ]
  },
  {
   "cell_type": "markdown",
   "metadata": {},
   "source": [
    "Luego, podemos hacer el cálculo de la siguiente forma:"
   ]
  },
  {
   "cell_type": "code",
   "execution_count": 21,
   "metadata": {},
   "outputs": [
    {
     "data": {
      "text/plain": [
       "np.float64(0.2)"
      ]
     },
     "execution_count": 21,
     "metadata": {},
     "output_type": "execute_result"
    }
   ],
   "source": [
    "daniela_ociosa = estado_estable[0] + 0.5*estado_estable[1]\n",
    "daniela_ociosa"
   ]
  },
  {
   "cell_type": "markdown",
   "metadata": {},
   "source": [
    "Esto quiere decir que, el 20% del tiempo, Daniela estará ociosa."
   ]
  },
  {
   "cell_type": "markdown",
   "metadata": {},
   "source": [
    "<h3 style=\"color: #ADD8E6;\">Literal d</h3>"
   ]
  },
  {
   "cell_type": "markdown",
   "metadata": {},
   "source": [
    "Finalmente, para el literal d, se debe hallar la fracción del tiempo que Daniela se encuentra ociosa dado que se contrató un tercer empleado.\n",
    "\n",
    "Este problema corresponde a una cola $M/M/3$, manteniendo las mismas tasas de llegada y de servicio. Así, debemos crear un nuevo objeto tipo cola. "
   ]
  },
  {
   "cell_type": "code",
   "execution_count": 22,
   "metadata": {},
   "outputs": [],
   "source": [
    "foodtruck2 = mmk(k=3, arr_rate=80, ser_rate=50)"
   ]
  },
  {
   "cell_type": "markdown",
   "metadata": {},
   "source": [
    "Con la inclusión de un tercer servidor, Daniela estará ociosa cuando no haya personas en el sistema, dos tercios del tiempo cuando haya solo una persona en el sistema y un tercio del tiempo cuando haya dos personas en el sistema. Siguiendo la lógica del literal anterior, se puede calcular esta proporción del tiempo para cada cantidad de personas en el sistema, de la siguiente manera:\n",
    "\n",
    "$\\text{Proporción del tiempo desocupada con i personas en el sistema} = \\pi_i \\cdot \\frac{s-i}{s},\\ \\forall i < s$"
   ]
  },
  {
   "cell_type": "markdown",
   "metadata": {},
   "source": [
    "Entonces, la proporción del tiempo que Daniela estará desocupada se calcula mediante la siguiente expresión:\n",
    "\n",
    "<div align=\"center\">\n",
    "\n",
    "$\\sum_{i=0}^{s-1} \\pi_i \\cdot \\frac{s-i}{s}$\n",
    "\n",
    "</div>"
   ]
  },
  {
   "cell_type": "markdown",
   "metadata": {},
   "source": [
    "Procedemos ahora a revisar estabilidad:"
   ]
  },
  {
   "cell_type": "code",
   "execution_count": 23,
   "metadata": {},
   "outputs": [
    {
     "data": {
      "text/plain": [
       "True"
      ]
     },
     "execution_count": 23,
     "metadata": {},
     "output_type": "execute_result"
    }
   ],
   "source": [
    "foodtruck2.is_stable()"
   ]
  },
  {
   "cell_type": "markdown",
   "metadata": {},
   "source": [
    "Calculamos las probabilidades en estado estable:"
   ]
  },
  {
   "cell_type": "code",
   "execution_count": 24,
   "metadata": {},
   "outputs": [],
   "source": [
    "foodtruck2._solve_bd_process(3)\n",
    "estado_estable2 = foodtruck2.probs"
   ]
  },
  {
   "cell_type": "markdown",
   "metadata": {},
   "source": [
    "Encontramos la métrica de interés:"
   ]
  },
  {
   "cell_type": "code",
   "execution_count": 25,
   "metadata": {},
   "outputs": [
    {
     "data": {
      "text/plain": [
       "np.float64(0.4666666666666667)"
      ]
     },
     "execution_count": 25,
     "metadata": {},
     "output_type": "execute_result"
    }
   ],
   "source": [
    "daniela_ociosa2 = 0\n",
    "for i in range(0, 3):\n",
    "    daniela_ociosa2 += estado_estable2[i]*((3-i)/3)\n",
    "daniela_ociosa2"
   ]
  },
  {
   "cell_type": "markdown",
   "metadata": {},
   "source": [
    "Notemos que, si calculamos la utilización se obtiene:"
   ]
  },
  {
   "cell_type": "code",
   "execution_count": 75,
   "metadata": {},
   "outputs": [
    {
     "data": {
      "text/plain": [
       "0.5333333333333333"
      ]
     },
     "execution_count": 75,
     "metadata": {},
     "output_type": "execute_result"
    }
   ],
   "source": [
    "utilizacion = 80/(3*50)\n",
    "utilizacion"
   ]
  },
  {
   "cell_type": "code",
   "execution_count": 85,
   "metadata": {},
   "outputs": [
    {
     "data": {
      "text/plain": [
       "0.4666666666666667"
      ]
     },
     "execution_count": 85,
     "metadata": {},
     "output_type": "execute_result"
    }
   ],
   "source": [
    "1-utilizacion"
   ]
  },
  {
   "cell_type": "markdown",
   "metadata": {},
   "source": [
    "Lo que quiere decir que, si $\\rho_s$ es igual a la propoción del tiempo que el sistema está siendo utilizado, $1-\\rho_s$ es la proporción del tiempo que uno de los servidores está desocupado. \n",
    "\n",
    "<div align=\"center\">\n",
    "\n",
    "$\\sum_{i=0}^{s-1} \\pi_i \\cdot \\frac{s-i}{s} = 1 - \\rho_s$\n",
    "\n",
    "</div>"
   ]
  },
  {
   "cell_type": "markdown",
   "metadata": {},
   "source": [
    "<h3 style=\"color: #ADD8E6;\">Problema 2: Peluquería</h3>"
   ]
  },
  {
   "cell_type": "markdown",
   "metadata": {},
   "source": [
    "De acuerdo al enunciado del Problema 2, la peluquería tiene una capacidad de 10 clientes en total, y tiene una única servidora. Por lo tanto, el sistema se puede modelar como una cola $M/M/1/G/10/\\infty$. De este modo, se utiliza el módulo `mmkn` donde $n=10$. Se conoce que la tasa de entrada es de $\\frac{1}{3}m^{-1}$, y la tasa de servicio es de $\\frac{1}{12}m^{-1}$. "
   ]
  },
  {
   "cell_type": "code",
   "execution_count": 26,
   "metadata": {},
   "outputs": [],
   "source": [
    "from jmarkov.queue.mmkn import mmkn"
   ]
  },
  {
   "cell_type": "markdown",
   "metadata": {},
   "source": [
    "La función `mmkn` recibe el número de servidores (k), tasa de llegadas (arr_rate), tasa de servicio (ser_rate) y la capacidad del sistema (n)."
   ]
  },
  {
   "cell_type": "code",
   "execution_count": 27,
   "metadata": {},
   "outputs": [],
   "source": [
    "peluqueria = mmkn(k=1, arr_rate=1/3, ser_rate=1/12, n=10)"
   ]
  },
  {
   "cell_type": "markdown",
   "metadata": {},
   "source": [
    "<h3 style=\"color: #ADD8E6;\">Literal a</h3>"
   ]
  },
  {
   "cell_type": "markdown",
   "metadata": {},
   "source": [
    "Se debe hallar el número de cortes de pelo que se realizan en una hora. Esto corresponde a la tasa efectiva de entrada al sistema. En Python, podemos llamar el método ``_solve_db_process()`` para resolver el proceso de nacimiento y muerte, encontrando las probabilidades en estado estable y luego llamando el atributo ``eff_arr_rate``. "
   ]
  },
  {
   "cell_type": "code",
   "execution_count": 28,
   "metadata": {},
   "outputs": [
    {
     "data": {
      "text/plain": [
       "np.float64(4.999996423720461)"
      ]
     },
     "execution_count": 28,
     "metadata": {},
     "output_type": "execute_result"
    }
   ],
   "source": [
    "peluqueria._solve_bd_process()\n",
    "tasa_efectiva_minutos = peluqueria.eff_arr_rate\n",
    "\n",
    "tasa_efectiva_horas = tasa_efectiva_minutos*60\n",
    "tasa_efectiva_horas"
   ]
  },
  {
   "cell_type": "markdown",
   "metadata": {},
   "source": [
    "Esto quiere decir que, en promedio en la peluquería se atienden 4.99 personas en una hora."
   ]
  },
  {
   "cell_type": "markdown",
   "metadata": {},
   "source": [
    "<h3 style=\"color: #ADD8E6;\">Literal b</h3>"
   ]
  },
  {
   "cell_type": "markdown",
   "metadata": {},
   "source": [
    "Ahora, se debe hallar el tiempo promedio en horas que un cliente permanece en la peluquería."
   ]
  },
  {
   "cell_type": "code",
   "execution_count": 29,
   "metadata": {},
   "outputs": [
    {
     "data": {
      "text/plain": [
       "np.float64(1.9333352406837852)"
      ]
     },
     "execution_count": 29,
     "metadata": {},
     "output_type": "execute_result"
    }
   ],
   "source": [
    "tiempo_total_minutos = peluqueria.mean_time_system()\n",
    "(tiempo_total_minutos/60)"
   ]
  },
  {
   "cell_type": "markdown",
   "metadata": {},
   "source": [
    "Universidad de los Andes | Vigilada Mineducación. Reconocimiento como Universidad: Decreto 1297 del 30 de mayo de 1964. Reconocimiento personería jurídica: Resolución 28 del 23 de febrero de 1949 Minjusticia. Departamento de Ingeniería Industrial Carrera 1 Este No. 19 A 40 Bogotá, Colombia Tel. (57.1) 3324320 | (57.1) 3394949 Ext. 2880 /2881 http://industrial.uniandes.edu.co"
   ]
  }
 ],
 "metadata": {
  "kernelspec": {
   "display_name": ".venv",
   "language": "python",
   "name": "python3"
  },
  "language_info": {
   "codemirror_mode": {
    "name": "ipython",
    "version": 3
   },
   "file_extension": ".py",
   "mimetype": "text/x-python",
   "name": "python",
   "nbconvert_exporter": "python",
   "pygments_lexer": "ipython3",
   "version": "3.13.1"
  }
 },
 "nbformat": 4,
 "nbformat_minor": 2
}
