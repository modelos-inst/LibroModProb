{
 "cells": [
  {
   "cell_type": "markdown",
   "metadata": {},
   "source": [
    "### <h3 style=\"color: #ADD8E6;\">Complementaria 1: Introducción a Python</h3>\n"
   ]
  },
  {
   "cell_type": "markdown",
   "metadata": {},
   "source": [
    "Esta complementaria está diseñada para hacer una introducción a Python y aprender a definir y manejar matrices en Python. El uso de matrices aplicado a la construcción de Cadenas de Markov también será tratado a lo largo de la complementaria. Python es un lenguaje de programación de alto nivel, ampliamente utilizado por su simplicidad y legibilidad. En esta complementaria, cubriremos los fundamentos del lenguaje, incluyendo la sintaxis básica, la estructura de control de flujo, y las principales bibliotecas que hacen de Python una herramienta poderosa para una amplia gama de aplicaciones."
   ]
  },
  {
   "cell_type": "markdown",
   "metadata": {},
   "source": [
    "Para ejecutar Python utilizaremos Visual Studio Code (VSC), un editor de código fuente gratuito y multiplataforma desarrollado por Microsoft."
   ]
  },
  {
   "cell_type": "markdown",
   "metadata": {},
   "source": [
    "<h3 style=\"color: #ADD8E6;\">Asignación de variables</h3>"
   ]
  },
  {
   "cell_type": "markdown",
   "metadata": {},
   "source": [
    "Las variables en Python se utilizan para almacenar datos que puedes usar más adelante en tu código. Puedes asignar valores a las variables utilizando el operador '='."
   ]
  },
  {
   "cell_type": "code",
   "execution_count": null,
   "metadata": {},
   "outputs": [],
   "source": [
    "nombre = 'Juan'\n",
    "edad = 25\n",
    "altura = 1.75\n",
    "\n",
    "#Imprimir los valores de las variables.\n",
    "print(nombre)\n",
    "print(edad)\n",
    "print(altura)"
   ]
  },
  {
   "cell_type": "markdown",
   "metadata": {},
   "source": [
    "<h3 style=\"color: #ADD8E6;\">Tipos de objetos\n",
    "</h3>"
   ]
  },
  {
   "cell_type": "markdown",
   "metadata": {},
   "source": [
    "En Python existen diferentes tipos de objetos para representar datos. Aqui se presenta una introducción a los tipos de objetos más comunes:\n",
    "\n",
    "1. Cadenas de Texto **('str')**\n",
    "2. Listas **('list')**\n",
    "3. Tuplas **('tuple')**\n",
    "4. Diccionarios **('dict')**\n",
    "5. Booleanos **('bool')**"
   ]
  },
  {
   "cell_type": "markdown",
   "metadata": {},
   "source": [
    "Las **cadenas de texto** son secuencias de caracteres. Se pueden definir usando comillas simples ('') o dobles (\"\")"
   ]
  },
  {
   "cell_type": "code",
   "execution_count": null,
   "metadata": {},
   "outputs": [],
   "source": [
    "nombre = 'Juan'\n",
    "mensaje = \"Hola ¿Cómo estás?\""
   ]
  },
  {
   "cell_type": "markdown",
   "metadata": {},
   "source": [
    "Las **listas** son colecciones ordenadas y mutables de elementos. Los elementos pueden ser de diferentes tipos y se puede modificar la lista después de crearla."
   ]
  },
  {
   "cell_type": "code",
   "execution_count": null,
   "metadata": {},
   "outputs": [],
   "source": [
    "frutas = [\"manzana\", \"banana\", \"cereza\"]\n",
    "print(frutas)                   "
   ]
  },
  {
   "cell_type": "markdown",
   "metadata": {},
   "source": [
    "Para acceder a un elemento especifico de una lista lo podemos hacer por su posición. Recordemos que las posiciones en Python inician desde el 0. Así, si queremos acceder al segundo elemento de una lista, su posición correspondera a el numero 1"
   ]
  },
  {
   "cell_type": "code",
   "execution_count": null,
   "metadata": {},
   "outputs": [],
   "source": [
    "# Acceder a un elemento\n",
    "print(frutas[1])        "
   ]
  },
  {
   "cell_type": "markdown",
   "metadata": {},
   "source": [
    "También podemos añadir nuevos elementos a una lista."
   ]
  },
  {
   "cell_type": "code",
   "execution_count": null,
   "metadata": {},
   "outputs": [],
   "source": [
    "# Añadir un nuevo elemento\n",
    "frutas.append(\"naranja\")\n",
    "print(frutas)"
   ]
  },
  {
   "cell_type": "markdown",
   "metadata": {},
   "source": [
    "Las **tuplas** son colecciones ordenadas e inmutables de elementos. Una vez creada una tupla, no se puede modificar."
   ]
  },
  {
   "cell_type": "code",
   "execution_count": null,
   "metadata": {},
   "outputs": [],
   "source": [
    "coordenadas = (10, 20)\n",
    "print(coordenadas)       "
   ]
  },
  {
   "cell_type": "markdown",
   "metadata": {},
   "source": [
    "De igual manera que con las listas, podemos acceder a un elemento especifico de la tupla sabiendo su posición recordando que las posiciones en Python empiezan desde 0. "
   ]
  },
  {
   "cell_type": "code",
   "execution_count": null,
   "metadata": {},
   "outputs": [],
   "source": [
    "# Acceder a un elemento\n",
    "print(coordenadas[0])    "
   ]
  },
  {
   "cell_type": "markdown",
   "metadata": {},
   "source": [
    "Los **diccionarios** son colecciones no ordenadas de pares clave-valor. Se puede acceder a los valores usando las claves correspondientes."
   ]
  },
  {
   "cell_type": "code",
   "execution_count": null,
   "metadata": {},
   "outputs": [],
   "source": [
    "persona = {\n",
    "    \"nombre\": \"Samuel\",\n",
    "    \"edad\": 24,\n",
    "    \"ocupacion\": \"Ingeniero\"\n",
    "}\n",
    "\n",
    "print(persona)           "
   ]
  },
  {
   "cell_type": "markdown",
   "metadata": {},
   "source": [
    "Para acceder a los valores de un diccionario se puede utilizar su respectiva clave:"
   ]
  },
  {
   "cell_type": "code",
   "execution_count": null,
   "metadata": {},
   "outputs": [],
   "source": [
    "# Acceder a un valor usando una clave\n",
    "print(persona[\"edad\"])   "
   ]
  },
  {
   "cell_type": "markdown",
   "metadata": {},
   "source": [
    "Los **booleanos** representan valores de verdad y solo pueden ser True o False."
   ]
  },
  {
   "cell_type": "code",
   "execution_count": null,
   "metadata": {},
   "outputs": [],
   "source": [
    "es_mayor_de_edad = True\n",
    "es_adolescente = False"
   ]
  },
  {
   "cell_type": "markdown",
   "metadata": {},
   "source": [
    "<h3 style=\"color: #ADD8E6;\">Paquetes o librerias en Python\n",
    "</h3>"
   ]
  },
  {
   "cell_type": "markdown",
   "metadata": {},
   "source": [
    "En Python los paquetes deben ser instalados cuando estos no están presentes en el computador, y también se deben cargar en cada sesión. Para instalar la librería jmarkov en la terminal puede emitir el comando \n",
    "\n",
    "pip install jmarkov\n",
    "\n",
    "O desde una celda de un cuaderno puede hacer con el siguiente comando, para eso se debe utilizar el siguiente comando:"
   ]
  },
  {
   "cell_type": "code",
   "execution_count": null,
   "metadata": {},
   "outputs": [],
   "source": [
    "!pip install jmarkov "
   ]
  },
  {
   "cell_type": "markdown",
   "metadata": {},
   "source": [
    "Una vez se ha instalado la librería, se puede importar toda su funcionalidad con el siguiente comando"
   ]
  },
  {
   "cell_type": "code",
   "execution_count": null,
   "metadata": {},
   "outputs": [],
   "source": [
    "import jmarkov #Importar la libreria\n"
   ]
  },
  {
   "cell_type": "markdown",
   "metadata": {},
   "source": [
    "<h3 style=\"color: #ADD8E6;\">Funciones en Python\n",
    "</h3>"
   ]
  },
  {
   "cell_type": "markdown",
   "metadata": {},
   "source": [
    "Para definir una función en Python, se utiliza la palabra clave **def**, seguida del nombre de la función y paréntesis que pueden contener parámetros opcionales. El bloque de código de la función está indentado. A continuación se presenta la sintaxis basica:"
   ]
  },
  {
   "cell_type": "code",
   "execution_count": null,
   "metadata": {},
   "outputs": [],
   "source": [
    "def nombre_de_la_funcion(parametros):\n",
    "    # Código de la función\n",
    "    return  # Palabra clave para indicar qué debe retornar la función."
   ]
  },
  {
   "cell_type": "markdown",
   "metadata": {},
   "source": [
    "Ahora un ejemplo: Se quiere crear una función cuyo argumento es un número cualquiera y que devuelva la raíz cúbica del número que se ingresó por parámetro más 10. El código de la función tendrá la siguiente estructura:"
   ]
  },
  {
   "cell_type": "code",
   "execution_count": null,
   "metadata": {},
   "outputs": [],
   "source": [
    "def funcion2(n):\n",
    "    valor = ((n)**(1/3)) + 10\n",
    "    return valor"
   ]
  },
  {
   "cell_type": "markdown",
   "metadata": {},
   "source": [
    "Una vez que se haya definido la función, se puede llamar utilizando su nombre seguido de paréntesis."
   ]
  },
  {
   "cell_type": "code",
   "execution_count": null,
   "metadata": {},
   "outputs": [],
   "source": [
    "funcion2(4)"
   ]
  },
  {
   "cell_type": "markdown",
   "metadata": {},
   "source": [
    "Las funciones no necesariamente deben retornar valores numéricos. Por ejemplo, en la siguiente función no se retornará nada y al llamarla se creará una gráfica."
   ]
  },
  {
   "cell_type": "code",
   "execution_count": null,
   "metadata": {},
   "outputs": [],
   "source": [
    "import matplotlib.pyplot as plt                 # Libreria para crear el grafico\n",
    "\n",
    "def funcion3(x):\n",
    "    y = list(range(1, len(x) + 1))              # Crear la secuencia de 1 a la longitud de x\n",
    "    plt.plot(y, x, color = 'red')               # Graficar con líneas de color rojo\n",
    "    plt.xlabel('Índice')                        # Etiqueta del eje x\n",
    "    plt.ylabel('Valor')                         # Etiqueta del eje y\n",
    "    plt.title('Gráfico de x contra secuencia')  # Título del gráfico\n",
    "    plt.show()                                  # Mostrar el gráfico\n",
    "\n",
    "# Vector de ejemplo\n",
    "vector1 = [5, 4, 3, 7, 6, 10]\n",
    "\n",
    "# Llamar a la función con el vector\n",
    "funcion3(vector1)\n"
   ]
  },
  {
   "cell_type": "markdown",
   "metadata": {},
   "source": [
    "<h3 style=\"color: #ADD8E6;\">Recorridos o ciclos\n",
    "</h3>"
   ]
  },
  {
   "cell_type": "markdown",
   "metadata": {},
   "source": [
    "En algunas ocasiones, es necesario recorrer los elementos de otro elemento como son las listas o los diccionarios. Para hacerlo, en Python podemos utilizar los ciclos for de la siguiente manera:"
   ]
  },
  {
   "cell_type": "code",
   "execution_count": null,
   "metadata": {},
   "outputs": [],
   "source": [
    "for variable in secuencia:\n",
    "    # Código a ejecutar para cada elemento en la secuencia"
   ]
  },
  {
   "cell_type": "markdown",
   "metadata": {},
   "source": [
    "Ejemplo: Se quiere crear una función cuyos parámetros sean dos listas (de cualquier tamaño) y esta función retorne una lista, donde cada posición de la lista resultante debe ser el máximo de las mismas posiciones entre las listas parámetro. La función `funcion4` acepta **exclusivamente** dos listas de igual tamaño como argumentos. En el caso de que una lista sea mas corta que otra se producirá un `IndexError`."
   ]
  },
  {
   "cell_type": "code",
   "execution_count": null,
   "metadata": {},
   "outputs": [],
   "source": [
    "def funcion4(va, vb):\n",
    "    # Crear una lista de ceros con la misma longitud que 'va'\n",
    "    lista_final = [0] * len(va)\n",
    "\n",
    "    # Iterar sobre los indices de las listas.\n",
    "    for i in range(len(va)):\n",
    "        # Asignar el máximo entre los elementos correspondientes de 'va' y 'vb'\n",
    "        lista_final[i] = max(va[i], vb[i])\n",
    "\n",
    "    return lista_final\n",
    "\n",
    "# Definir los vectores\n",
    "v1 = [1, 4, 8, 9, 7, 3]\n",
    "v2 = [4, 5, 7, 8, 2, 1]\n",
    "\n",
    "# Llamar a la función\n",
    "resultado = funcion4(v1, v2)\n",
    "print(resultado)"
   ]
  },
  {
   "cell_type": "markdown",
   "metadata": {},
   "source": [
    "<h3 style=\"color: #ADD8E6;\">Estructuras de control o condicionales\n",
    "</h3>"
   ]
  },
  {
   "cell_type": "markdown",
   "metadata": {},
   "source": [
    "Los condicionales permiten ejecutar diferentes bloques de código basados en ciertas condiciones. Son fundamentales para controlar el flujo de un programa. A continuacion se presenta la sintaxis basica:"
   ]
  },
  {
   "cell_type": "code",
   "execution_count": null,
   "metadata": {},
   "outputs": [],
   "source": [
    "if condición1:\n",
    "    # Código a ejecutar si condición1 es verdadera\n",
    "elif condición2:\n",
    "    # Código a ejecutar si condición2 es verdadera\n",
    "else:\n",
    "    # Código a ejecutar si ninguna de las condiciones anteriores es verdadera"
   ]
  },
  {
   "cell_type": "markdown",
   "metadata": {},
   "source": [
    "Por ejemplo, supongamos que dada la edad del usuario, queremos identificar si es menor o mayor de edad, o si acaba de cumplir los 18 años."
   ]
  },
  {
   "cell_type": "code",
   "execution_count": null,
   "metadata": {},
   "outputs": [],
   "source": [
    "edad = 20\n",
    "\n",
    "if edad < 18:\n",
    "    print(\"Eres menor de edad\")\n",
    "elif edad == 18:\n",
    "    print(\"Acabas de cumplir 18 años\")\n",
    "else:\n",
    "    print(\"Eres mayor de edad\")\n"
   ]
  },
  {
   "cell_type": "markdown",
   "metadata": {},
   "source": [
    "También es posible tener estructuras enlazadas, es decir, condiciones que se deben cumplir al tiempo `(and)` o que al menos una de las condiciones debe cumplirse `(or)`."
   ]
  },
  {
   "cell_type": "code",
   "execution_count": null,
   "metadata": {},
   "outputs": [],
   "source": [
    "if edad >= 18 and edad <= 65:\n",
    "    print(\"Eres adulto\")\n",
    "\n",
    "if edad < 18 or edad > 65:\n",
    "    print(\"Eres menor de edad o adulto mayor\")\n"
   ]
  },
  {
   "cell_type": "markdown",
   "metadata": {},
   "source": [
    "Para reforzar los aprendido se propone un último ejempo. Se quiere elaborar una función que retornará TRUE si un número específico está dentro de una lista."
   ]
  },
  {
   "cell_type": "code",
   "execution_count": null,
   "metadata": {},
   "outputs": [],
   "source": [
    "# Definir la funcion\n",
    "def esta_en_lista(numero, lista2):\n",
    "    return numero in lista2\n",
    "\n",
    "# Definir los parametros\n",
    "numero = 5\n",
    "lista_prueba = [3,6,9,6,7,0,1,5] \n",
    "\n",
    "# Llamar la funcion y sus parametros\n",
    "esta_en_lista(numero = numero, lista2 = lista_prueba)"
   ]
  },
  {
   "cell_type": "markdown",
   "metadata": {},
   "source": [
    "<h3 style=\"color: #ADD8E6;\">Graficas en Python\n",
    "</h3>"
   ]
  },
  {
   "cell_type": "markdown",
   "metadata": {},
   "source": [
    "En Python, crear gráficos y visualizaciones es bastante sencillo gracias a varias bibliotecas. En este caso se utilizará la libreria **Matplotlib**, una de las bibliotecas de visualización más comunes en Python. Es muy versátil y permite crear una amplia variedad de gráficos."
   ]
  },
  {
   "cell_type": "code",
   "execution_count": null,
   "metadata": {},
   "outputs": [],
   "source": [
    "import matplotlib.pyplot as plt  # type: ignore\n",
    "\n",
    "# Datos de ejemplo\n",
    "y = [1, 3, 4, 8, 7, 4, 2]\n",
    "x = [1, 2, 3, 4, 5, 6, 7]\n",
    "\n",
    "# Crear un gráfico de línea\n",
    "plt.plot(x, y)\n",
    "\n",
    "# Añadir título y etiquetas\n",
    "plt.title('Gráfico de Línea')\n",
    "plt.xlabel('Eje X')\n",
    "plt.ylabel('Eje Y')\n",
    "\n",
    "# Mostrar el gráfico\n",
    "plt.show()\n"
   ]
  },
  {
   "cell_type": "markdown",
   "metadata": {},
   "source": [
    "En este link puedes encontrar mas explicaciones y ejemplos de cómo construir todo tipo de graficas con la libreria **Matplotlib**: [Tutorial Pyplot](https://matplotlib.org/stable/tutorials/pyplot.html)"
   ]
  },
  {
   "cell_type": "markdown",
   "metadata": {},
   "source": [
    "<h3 style=\"color: #ADD8E6;\">Manejo de matrices\n",
    "</h3>"
   ]
  },
  {
   "cell_type": "markdown",
   "metadata": {},
   "source": [
    "Para crear y realizar operaciones sobre matrices en Python utilzaremos la libreria `numpy` que se abrevia como `np`."
   ]
  },
  {
   "cell_type": "code",
   "execution_count": null,
   "metadata": {},
   "outputs": [],
   "source": [
    "import numpy as np"
   ]
  },
  {
   "cell_type": "markdown",
   "metadata": {},
   "source": [
    "Existen diferentes formas para crear matrices en Python. Aqui hay algunos ejemplos: "
   ]
  },
  {
   "cell_type": "markdown",
   "metadata": {},
   "source": [
    "1. Se puede crear una matriz a partir de varias listas:"
   ]
  },
  {
   "cell_type": "code",
   "execution_count": null,
   "metadata": {},
   "outputs": [
    {
     "name": "stdout",
     "output_type": "stream",
     "text": [
      "[[1 2 3]\n",
      " [4 5 6]\n",
      " [7 8 9]]\n"
     ]
    }
   ],
   "source": [
    "matrix = np.array([[1, 2, 3], [4, 5, 6], [7, 8, 9]])\n",
    "print(matrix)\n"
   ]
  },
  {
   "cell_type": "markdown",
   "metadata": {},
   "source": [
    "2. Se puede crear una matriz llena de ceros (esta forma de crear la matriz será de suma utilidad cuando estemos definiendo las cadenas de Markov):"
   ]
  },
  {
   "cell_type": "code",
   "execution_count": null,
   "metadata": {},
   "outputs": [
    {
     "name": "stdout",
     "output_type": "stream",
     "text": [
      "[[0. 0. 0.]\n",
      " [0. 0. 0.]\n",
      " [0. 0. 0.]]\n"
     ]
    }
   ],
   "source": [
    "matrix2 = np.zeros((3, 3))  # Matriz 3x3 de ceros\n",
    "print(matrix2)"
   ]
  },
  {
   "cell_type": "markdown",
   "metadata": {},
   "source": [
    "3. Crear una matriz identidad (útil para realizar análisis de tiempos)"
   ]
  },
  {
   "cell_type": "code",
   "execution_count": null,
   "metadata": {},
   "outputs": [
    {
     "name": "stdout",
     "output_type": "stream",
     "text": [
      "[[1. 0. 0. 0.]\n",
      " [0. 1. 0. 0.]\n",
      " [0. 0. 1. 0.]\n",
      " [0. 0. 0. 1.]]\n"
     ]
    }
   ],
   "source": [
    "matrix3 = np.eye(4)  # Matriz identidad 4x4\n",
    "print(matrix3)"
   ]
  },
  {
   "cell_type": "markdown",
   "metadata": {},
   "source": [
    "Para acceder a un elemento de una matriz se deben utilizar los índices del respectivo elemento. Se debe tener cuidado ya que los índices en Python empiezan en 0, tal que si, por ejemplo, se quiere acceder a la fila `1` se debe utilizar el `0`. "
   ]
  },
  {
   "cell_type": "code",
   "execution_count": null,
   "metadata": {},
   "outputs": [
    {
     "data": {
      "text/plain": [
       "2"
      ]
     },
     "metadata": {},
     "output_type": "display_data"
    }
   ],
   "source": [
    "# Accede al elemento en la fila 1, columna 2\n",
    "elemento = matrix[0, 1]\n",
    "elemento"
   ]
  },
  {
   "cell_type": "markdown",
   "metadata": {},
   "source": [
    "También se puede extraer filas o columnas de la siguiente manera:"
   ]
  },
  {
   "cell_type": "code",
   "execution_count": null,
   "metadata": {},
   "outputs": [
    {
     "data": {
      "text/plain": [
       "array([1, 2, 3])"
      ]
     },
     "metadata": {},
     "output_type": "display_data"
    }
   ],
   "source": [
    "# Extraer la primera fila de 'matrix'.\n",
    "fila1 = matrix[0,:]\n",
    "fila1"
   ]
  },
  {
   "cell_type": "code",
   "execution_count": null,
   "metadata": {},
   "outputs": [
    {
     "data": {
      "text/plain": [
       "array([3, 6, 9])"
      ]
     },
     "metadata": {},
     "output_type": "display_data"
    }
   ],
   "source": [
    "# Extraer la tercera columna de 'matrix'.\n",
    "columna2 = matrix[:,2]\n",
    "columna2"
   ]
  },
  {
   "cell_type": "markdown",
   "metadata": {},
   "source": [
    "De igual manera se pueden agregar filas o columnas con la función `append`. Si se quiere aregar una nueva fila el parámetro `axis` de la funcion `append` debe ser igual a `0`; si se quiere agregar una nueva columna, `axis` debe ser igual a `1`."
   ]
  },
  {
   "cell_type": "code",
   "execution_count": null,
   "metadata": {},
   "outputs": [
    {
     "data": {
      "text/plain": [
       "array([[ 1,  2,  3],\n",
       "       [ 4,  5,  6],\n",
       "       [ 7,  8,  9],\n",
       "       [10, 11, 12]])"
      ]
     },
     "metadata": {},
     "output_type": "display_data"
    }
   ],
   "source": [
    "# Nueva fila que se quiere agregar.\n",
    "nueva_fila = np.array([10,11,12])\n",
    "\n",
    "# Agregar la nueva fila a la matriz\n",
    "matrix_con_fila = np.append(matrix, [nueva_fila], axis = 0)\n",
    "matrix_con_fila"
   ]
  },
  {
   "cell_type": "code",
   "execution_count": null,
   "metadata": {},
   "outputs": [
    {
     "data": {
      "text/plain": [
       "array([[ 1,  2,  3, 13],\n",
       "       [ 4,  5,  6, 14],\n",
       "       [ 7,  8,  9, 15]])"
      ]
     },
     "metadata": {},
     "output_type": "display_data"
    }
   ],
   "source": [
    "# Nueva columna que se quiere agregar.\n",
    "nueva_columna = np.array([[13], [14], [15]])\n",
    "\n",
    "# Agregar la nueva columna a la matriz\n",
    "matrix_con_columna = np.append(matrix, nueva_columna, axis = 1)\n",
    "matrix_con_columna"
   ]
  },
  {
   "cell_type": "markdown",
   "metadata": {},
   "source": [
    "<h3 style=\"color: #ADD8E6;\">Operaciones matriciales\n",
    "</h3>"
   ]
  },
  {
   "cell_type": "markdown",
   "metadata": {},
   "source": [
    "A modo de ejemplo, se crearán dos matrices llenas de números aleatorios que siguen una distribución normal generados por el comando `random.normal` de la libreria numpy, que tiene como parámetros la media, la desviación estandar y el tamaño de la matriz "
   ]
  },
  {
   "cell_type": "code",
   "execution_count": null,
   "metadata": {},
   "outputs": [
    {
     "name": "stdout",
     "output_type": "stream",
     "text": [
      "[[10.57592343 17.92167431 22.12330871 38.20083696  2.04917009 16.83960459]\n",
      " [26.09380602  8.67172598 20.75975553 25.35533819 15.64372048 30.10358743]\n",
      " [14.39188261 27.57400731 19.62183387 24.63616329 17.16664174  8.41420055]\n",
      " [22.74912316 18.4647127  31.75504089 15.92631991 19.4332962  28.43490428]\n",
      " [27.61753947 27.97507546 20.86176904 23.46222247 23.97618136 12.67203208]\n",
      " [17.40127164 22.1160864  23.48084716 26.28815375  6.72263351 27.1428439 ]]\n"
     ]
    }
   ],
   "source": [
    "A = np.random.normal(loc = 20, scale = 8, size = (6,6))\n",
    "print(A)"
   ]
  },
  {
   "cell_type": "code",
   "execution_count": null,
   "metadata": {},
   "outputs": [
    {
     "name": "stdout",
     "output_type": "stream",
     "text": [
      "[[ 1.94601561 11.86314356 14.41048279  9.20512935 10.09779629 11.52365254]\n",
      " [ 8.74546308 11.12220969 15.92939796  5.96462469  8.78489055  8.13506776]\n",
      " [10.94652288 13.05926231  6.65675607  8.04514971  7.75321638  7.00062616]\n",
      " [ 5.36140743 11.88886116 12.26625887 14.09171993  7.73009502 13.49304627]\n",
      " [10.71677833  9.92208584  9.92898901  9.95020065 11.38873859  9.01226542]\n",
      " [14.85279098 13.95810306 11.88936144 13.62482958 10.5896701   9.91085864]]\n"
     ]
    }
   ],
   "source": [
    "B = np.random.normal(loc = 10, scale = 3, size = (6,6))\n",
    "print(B)"
   ]
  },
  {
   "cell_type": "markdown",
   "metadata": {},
   "source": [
    "A continuación, se encuentran algunos comandos de interes que nos permiten realizar operaciones matriciales en Python"
   ]
  },
  {
   "cell_type": "markdown",
   "metadata": {},
   "source": [
    "| Comando | Explicación |\n",
    "|:---:|:---:|\n",
    "| `A.T` | Transpuesta de la matriz A |\n",
    "| `A + B` | Suma elemento a elemento de las matrices A y B |\n",
    "| `A - B` | Resta elemento a elemento de las matrices A y B |\n",
    "| `A @ B` | Producto matricial de A por B |\n",
    "| `A * B` | Producto elemento a elemento de A por B |\n",
    "| `np.linalg.det(A)` | Calcula el determinante de la matriz cuadrada A |\n",
    "| `np.linalg.inv(A)` | Calcula la inversa de la matriz cuadrada A |\n",
    "| `np.linalg.solve(A, b)` | Resuelve el sistema de ecuaciones lineales Ax = b |\n",
    "| `np.linalg.eig(A)` | Calcula los valores y vectores propios de la matriz cuadrada A |\n",
    "| `np.diag(A)` | Extrae la diagonal principal de la matriz A como un vector |\n",
    "| `A.sum(axis = 1)` | Calcula la suma de los elementos de cada fila de la matriz A |\n"
   ]
  },
  {
   "cell_type": "markdown",
   "metadata": {},
   "source": [
    "<h3 style=\"color: #ADD8E6;\">Cadenas de Markov</h3>"
   ]
  },
  {
   "cell_type": "markdown",
   "metadata": {},
   "source": [
    "El uso de matrices sirve para definir la representación de una cadena de Markov en Python. Por ejemplo, en las cadenas continuas es posible definir la matriz generadora (o de tasas de transición) **Q**, y en las discretas se define la matriz de probabilidades de transición a un paso **P**. En Python se utilizará la libreria `jmarkov`."
   ]
  },
  {
   "cell_type": "markdown",
   "metadata": {},
   "source": [
    ">**¡Ponte a prueba!**.\n",
    ">Modela la evolución del Índice de calidad del aire (ICA) como una cadena de Markov."
   ]
  },
  {
   "cell_type": "markdown",
   "metadata": {},
   "source": [
    "Universidad de los Andes | Vigilada Mineducación. Reconocimiento como Universidad: Decreto 1297 del 30 de mayo de 1964. Reconocimiento personería jurídica: Resolución 28 del 23 de febrero de 1949 Minjusticia. Departamento de Ingeniería Industrial Carrera 1 Este No. 19 A 40 Bogotá, Colombia Tel. (57.1) 3324320 | (57.1) 3394949 Ext. 2880 /2881 http://industrial.uniandes.edu.co"
   ]
  }
 ],
 "metadata": {
  "kernelspec": {
   "display_name": "Python 3",
   "language": "python",
   "name": "python3"
  },
  "language_info": {
   "codemirror_mode": {
    "name": "ipython",
    "version": 3
   },
   "file_extension": ".py",
   "mimetype": "text/x-python",
   "name": "python",
   "nbconvert_exporter": "python",
   "pygments_lexer": "ipython3",
   "version": "3.11.4"
  }
 },
 "nbformat": 4,
 "nbformat_minor": 2
}
