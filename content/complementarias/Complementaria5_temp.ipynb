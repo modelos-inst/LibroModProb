{
 "cells": [
  {
   "cell_type": "markdown",
   "id": "045aac2e",
   "metadata": {},
   "source": [
    "### <h3 style=\"color: #ADD8E6;\">Complementaria 5: Cadenas Absorbentes en Python</h3>"
   ]
  },
  {
   "cell_type": "markdown",
   "id": "a634550e",
   "metadata": {},
   "source": [
    "En este tutorial se abordará el tema de análisis de cadenas de Markov absorbentes a través de dos ejemplos, uno continuo y discreto. Para desarrollar estos ejercicio utilizaremos las librerías `jmarkov` y `numpy` "
   ]
  },
  {
   "cell_type": "code",
   "execution_count": 1,
   "id": "ee844dcf",
   "metadata": {},
   "outputs": [],
   "source": [
    "import numpy as np\n",
    "from jmarkov.dtmc import dtmc\n",
    "from jmarkov.ctmc import ctmc"
   ]
  },
  {
   "cell_type": "markdown",
   "id": "e74758cf",
   "metadata": {},
   "source": [
    "<h3 style=\"color: #ADD8E6;\">1. Cadena de Markov de Tiempo Continuo</h3>"
   ]
  },
  {
   "cell_type": "markdown",
   "id": "7192a934",
   "metadata": {},
   "source": [
    "<h4 style=\"color: #ADD8E6;\">Literal a</h4>"
   ]
  },
  {
   "cell_type": "markdown",
   "id": "ba8ee6f7",
   "metadata": {},
   "source": [
    "Vamos a realizar el primer problema del archivo \"Complementaria 7(Q).pdf\" que se encuentra en Bloque Neon. En primer lugar, se modelará la situación como una cadena de Markov de tiempo continuo:\n",
    "\n",
    "$$\n",
    "X(t) = \\text{Estado del paciente en la EPS en el tiempo } t\n",
    "$$\n",
    "\n",
    "$$\n",
    "S_X = \\{D, TNI, TI, CEPS, M\\}\n",
    "$$\n",
    "\n",
    "$$\n",
    "\\mathbb{Q}_{i \\rightarrow j} =\n",
    "\\begin{bmatrix}\n",
    "-(\\phi + \\omega + \\mu + \\alpha ) & \\phi & \\omega & \\mu & \\alpha \\\\\n",
    "0 & -(\\gamma + 0.5\\mu + \\kappa) & \\gamma & 0.5\\mu & \\kappa \\\\\n",
    "0 & 0 & -(0.2\\mu + \\tau) & 0.2\\mu & \\tau \\\\\n",
    "0 & 0 & 0 & 0 & 0 \\\\\n",
    "0 & 0 & 0 & 0 & 0 \\\\\n",
    "\\end{bmatrix}\n",
    "$$\n",
    "\n",
    "Es importante notar que los estados absorbentes Cambio de EPS ($CEPS$) y Muerte ($M$) se representan en la matriz de tasas $\\mathbb{Q}$ por tener filas llenas de 0 únicamente, ya que no existe ninguna tasa de salida de un estado absorbente. Con la formulación, podemos definir la lista de estados y la matriz generadora. \n"
   ]
  },
  {
   "cell_type": "code",
   "execution_count": 32,
   "id": "50b917e6",
   "metadata": {},
   "outputs": [],
   "source": [
    "estados = ['D',     # Diagnosticado\n",
    "           'TNI',   # Tratamieno No Invasivo\n",
    "           'TI',    # Tratamiento Invasivo\n",
    "           'CEPS',  # Cambio de EPS\n",
    "           'M']     # Muerte\n",
    "\n",
    "phi = 3\n",
    "omega = 4\n",
    "gamma = 3.5\n",
    "mu = 1\n",
    "alpha = 2\n",
    "kappa = 2.5\n",
    "tao = 1.5\n",
    "\n",
    "matriz = np.array([[-(phi + omega + mu + alpha), phi, omega, mu, alpha], \n",
    "                    [0, -(gamma + 0.5*mu + kappa), gamma, 0.5*mu, kappa],\n",
    "                    [0, 0, -(0.2*mu + tao), 0.2*mu, tao],\n",
    "                    [0, 0, 0, 0, 0],\n",
    "                    [0, 0, 0, 0, 0]])\n",
    "\n",
    "Q = ctmc(matriz, states = np.array(estados))"
   ]
  },
  {
   "cell_type": "markdown",
   "id": "27dbe6bc",
   "metadata": {},
   "source": [
    "<h4 style=\"color: #ADD8E6;\">Literal b</h4>"
   ]
  },
  {
   "cell_type": "markdown",
   "id": "3454518f",
   "metadata": {},
   "source": [
    "El literal b solicita determinar cuánto tiempo permanece un paciente diagnosticado en el mismo estado antes de morir ($M$) o cambiar de EPS ($CEPS$), siendo estos dos últimos los estados absorbentes. \n",
    "\n",
    "Este análisis puede resolverse utilizando los tiempos antes de absorción. Recordando la estructura de la matriz de tasas de transición para una cadena de Markov absorbente en tiempo continuo, esta tiene la forma:\n",
    "\n",
    "$$\n",
    "\\mathbb{Q} = \n",
    "\\begin{bmatrix}\n",
    "\\mathbb{U} & \\mathbb{V} \\\\\n",
    "0 & 0\n",
    "\\end{bmatrix}\n",
    "$$\n",
    "\n",
    "Donde $\\mathbb{U}$ contiene las tasas de transición entre los estados transitorios. Así, la matriz de tiempos antes de absorción en una cadena continua está dada por:\n",
    "\n",
    "$$\n",
    "(-\\mathbb{U})^{-1}\n",
    "$$\n",
    "\n",
    "En esta matriz, el elemento $[i, j]$ representa el tiempo promedio que la cadena pasa en el estado transitorio $j$, dado que comenzó en el estado transitorio $i$, antes de alcanzar un estado absorbente.\n",
    "\n",
    "Por lo tanto, para responder el literal, basta con calcular esta matriz y seleccionar el componente $[i, i]$, donde $i$ corresponde al estado Diagnosticado ($D$), ya que se desea conocer el tiempo que el paciente permanece en ese mismo estado antes de ser absorbido. Con la libreria `jmarkov` este tiempo se puede calcular usando el atributo `absorbtion_times`"
   ]
  },
  {
   "cell_type": "code",
   "execution_count": 33,
   "id": "e726b8de",
   "metadata": {},
   "outputs": [
    {
     "data": {
      "text/plain": [
       "array([[0.1]])"
      ]
     },
     "execution_count": 33,
     "metadata": {},
     "output_type": "execute_result"
    }
   ],
   "source": [
    "Q.absorbtion_times(start = 'D', target = 'D')"
   ]
  },
  {
   "cell_type": "markdown",
   "id": "7ddd957d",
   "metadata": {},
   "source": [
    "<h4 style=\"color: #ADD8E6;\">Literal c</h4>"
   ]
  },
  {
   "cell_type": "markdown",
   "id": "249406ff",
   "metadata": {},
   "source": [
    "Para resolver este literal, podemos hacer uso de las probabilidades de absorción, las cuales están dadas por la siguiente matriz:\n",
    "\n",
    "$$\n",
    "-\\mathbb{U}^{-1} \\cdot \\mathbb{V}\n",
    "$$\n",
    "\n",
    "Donde $\\mathbb{U}$ contiene las tasas de transición entre los estados transitorios, y $\\mathbb{V}$ aquellas entre estados transitorios y  absorbentes. La componente $[i, j]$ de esta matriz indica la probabilidad de que la cadena sea absorbida por el estado $j$, dado que inició en el estado $i$.\n",
    "\n",
    "Teniendo esto en cuenta, para responder el literal, se debe seleccionar la componente en la que $i$ corresponde al estado Tratamiento No Invasivo ($TNI$) y $j$ al estado de ($CEPS$). Esto se puede hacer con el atributo `absorbtion_probabilities` de la libreria `jmarkov`\n"
   ]
  },
  {
   "cell_type": "code",
   "execution_count": 41,
   "id": "858ab8db",
   "metadata": {},
   "outputs": [
    {
     "data": {
      "text/plain": [
       "array([[0.11764706]])"
      ]
     },
     "execution_count": 41,
     "metadata": {},
     "output_type": "execute_result"
    }
   ],
   "source": [
    "Q.absorbtion_probabilities(start = 2, target = 3)"
   ]
  },
  {
   "cell_type": "markdown",
   "id": "d351e7dd",
   "metadata": {},
   "source": [
    "<h3 style=\"color: #ADD8E6;\">2. Cadena de Markov de Tiempo Discreto</h3>"
   ]
  },
  {
   "cell_type": "markdown",
   "id": "a929bbf6",
   "metadata": {},
   "source": [
    "<h4 style=\"color: #ADD8E6;\">Literal a</h4>"
   ]
  },
  {
   "cell_type": "markdown",
   "id": "22966b07",
   "metadata": {},
   "source": [
    "Continuando con el segundo problema del archivo \"Complementaria 7(Q).pdf\" que se encuentra en Bloque Neon. En primer lugar, se modelará la situación como una cadena de Markov de tiempo discreto:"
   ]
  },
  {
   "cell_type": "markdown",
   "id": "ef3071df",
   "metadata": {},
   "source": [
    "$$\n",
    "X_n = \\text{Clasificación del proyecto al final del año } n\\\\\n",
    "$$\n",
    "\n",
    "$$\n",
    "S_X = \\{\\text{Poco Rentable (PR)},\\text{Rentable (R)},\\text{Muy Rentable (MR)},\\text{No Rentable (NR)},\\text{Liquidado (L)}\\}\\\\\n",
    "$$\n",
    "\n",
    "$$\n",
    "\\mathbb{P}_{i \\rightarrow j} =\n",
    "\\begin{bmatrix}\n",
    "0.3 & 0.2 & 0 & 0.3 & 0.2 \\\\\n",
    "0.1 & 0.5 & 0.2 & 0.1 & 0.1 \\\\\n",
    "0 & 0.2 & 0.8 & 0 & 0 \\\\\n",
    "0 & 0 & 0 & 1 & 0 \\\\\n",
    "0 & 0 & 0 & 0 & 1 \\\\\n",
    "\\end{bmatrix}\n",
    "$$"
   ]
  },
  {
   "cell_type": "markdown",
   "id": "e0e78000",
   "metadata": {},
   "source": [
    "Es importante notar que los estados absorbentes No Rentable ($NR$) y Liquidado ($L$) se representan en la matriz de transición $\\mathbb{P}$ mediante la condición $p_{ij} = 0$ y $p_{ii} = 1$, ya que $i$ es absorbente, lo cual indica que, una vez que se alcanza un estado absorbente, no existe posibilidad de ir a otro estado.\n",
    "\n",
    "Con la formulación, podemos definir la lista de estados y la matriz de probabilidades. "
   ]
  },
  {
   "cell_type": "code",
   "execution_count": 42,
   "id": "e23a6296",
   "metadata": {},
   "outputs": [],
   "source": [
    "estados = ['PR','R','MR','NR','L']\n",
    "\n",
    "matriz = np.array([[0.3, 0.2, 0.0, 0.3, 0.2],\n",
    "                [0.1, 0.5, 0.2, 0.1, 0.1],\n",
    "                [0.0, 0.2, 0.8, 0.0, 0.0],\n",
    "                [0.0, 0.0, 0.0, 1.0, 0.0],\n",
    "                [0.0, 0.0, 0.0, 0.0, 1.0]])\n",
    "\n",
    "P = dtmc(matriz, states =np.array(estados))"
   ]
  },
  {
   "cell_type": "markdown",
   "id": "bead7916",
   "metadata": {},
   "source": [
    "<h4 style=\"color: #ADD8E6;\">Literal b</h4>"
   ]
  },
  {
   "cell_type": "markdown",
   "id": "a00fbd00",
   "metadata": {},
   "source": [
    "Para verificar si la afirmación del analista es correcta, se debe calcular el tiempo que permanece en el portafolio un proyecto que entra con la clasificación Muy Rentable ($MR$), y compararlo con el tiempo que permanece un proyecto que ingresa con la clasificación Poco Rentable ($PR$). Estos tiempos pueden estimarse mediante el tiempo esperado antes de absorción, el cual está dado por la matriz:\n",
    "\n",
    "$$\n",
    "(\\mathbb{I} - \\mathbb{Q})^{-1}\n",
    "$$\n",
    "\n",
    "Cada elemento $[i,j]$ de esta matriz representa el número esperado de veces que la cadena estará en el estado transitorio $j$, dado que comenzó en el estado transitorio $i$, antes de alcanzar un estado absorbente. La librería `jmarkov` permite calcular estos tiempos mediante el atributo `absorbtion_times`, el cual recibe como parámetros el estado inicial y el estado final.\n",
    "\n",
    "A modo de ejemplo, se calculará el tiempo que permanece un proyecto en la clasificación Rentable ($R$), dado que comenzó en la clasificación Poco Rentable ($PR$).\n"
   ]
  },
  {
   "cell_type": "code",
   "execution_count": 44,
   "id": "b77d0f34",
   "metadata": {},
   "outputs": [
    {
     "data": {
      "text/plain": [
       "1.0526315789473688"
      ]
     },
     "execution_count": 44,
     "metadata": {},
     "output_type": "execute_result"
    }
   ],
   "source": [
    "P.absorbtion_times(start = 0, target = 1) # Tiempo antes de absorción desde el estado 'Poco Rentable' (índice 0) hasta el estado 'Rentable' (índice 1)"
   ]
  },
  {
   "cell_type": "markdown",
   "id": "ef66e480",
   "metadata": {},
   "source": [
    "El resultado obtenido fue 1.0526, lo que indica que, en promedio, un proyecto que comienza en la clasificación Poco Rentable tarda aproximadamente **1.05 años** en alcanzar la clasificación Rentable, antes de ser absorbido por un estado como No Rentable o Liquidado."
   ]
  },
  {
   "cell_type": "markdown",
   "id": "42145b96",
   "metadata": {},
   "source": [
    "Retomando el ejercicio, para calcular el tiempo total que permanece un proyecto en el portafolio, se deben sumar los tiempos antes de absorción en cada uno de los tres estados transitorios. La suma de estos tiempos representa el número esperado de años que el proyecto permanece  en el portafolio antes de ser absorbido por uno de los dos estados absorbentes (*No Rentable* o *Liquidado*).\n",
    "\n",
    "Estos tiempos se presentan a continuación y se denotarán como `TAA_MR` y `TAA_PR`, que significan **Tiempos Antes de Absorción** para los proyectos que ingresan con clasificación Muy Rentable ($MR$) y Poco Rentable ($PR$), respectivamente.\n"
   ]
  },
  {
   "cell_type": "code",
   "execution_count": 45,
   "id": "e82d229b",
   "metadata": {},
   "outputs": [],
   "source": [
    "TAA_MR = sum(P.absorbtion_times(start=estados.index('MR'), target = i) for i in range(0, 3))\n",
    "TAA_PR = sum(P.absorbtion_times(start=estados.index('PR'), target = i) for i in range(0, 3))"
   ]
  },
  {
   "cell_type": "markdown",
   "id": "5909b331",
   "metadata": {},
   "source": [
    "Finalmente, la división entre los dos tiempos (`TAA_MR / TAA_PR`) permite evaluar si la afirmación del analista es correcta. \n",
    "\n",
    "Si el resultado es **mayor a 4**, se concluye que el analista tenía razón al afirmar que un proyecto clasificado inicialmente como Muy Rentable ($MR$) permanece al menos cuatro veces más tiempo en el portafolio que uno clasificado como Poco Rentable ($PR$).\n"
   ]
  },
  {
   "cell_type": "code",
   "execution_count": 46,
   "id": "89536766",
   "metadata": {},
   "outputs": [
    {
     "data": {
      "text/plain": [
       "3.500000000000001"
      ]
     },
     "execution_count": 46,
     "metadata": {},
     "output_type": "execute_result"
    }
   ],
   "source": [
    "resultado = TAA_MR / TAA_PR \n",
    "resultado"
   ]
  },
  {
   "cell_type": "markdown",
   "id": "38b27e59",
   "metadata": {},
   "source": [
    "Como el proyecto que entra al portafolio con clasificación muy rentable (MR) permanece dentro del portafolio en promedio 3.5 veces mas que un proyecto que entra al portafolio con clasificación poco rentable (PR) se puede concluir que la afirmación del analista es incorrecta "
   ]
  },
  {
   "cell_type": "markdown",
   "id": "04f580b4",
   "metadata": {},
   "source": [
    "<h4 style=\"color: #ADD8E6;\">Literal c</h4>"
   ]
  },
  {
   "cell_type": "markdown",
   "id": "b24f805d",
   "metadata": {},
   "source": [
    "EL literal c pide calcular la ganancia neta promedio que generara un proyecto que inicialmente es clasificado como muy rentable. Para esto se definira un vector de costos que corresponden al ingreso o costo de acuerdo a la lista de estados que se definio previamente."
   ]
  },
  {
   "cell_type": "code",
   "execution_count": 47,
   "id": "34a6fa37",
   "metadata": {},
   "outputs": [],
   "source": [
    "c = [38, 76, 114, 152, 190]"
   ]
  },
  {
   "cell_type": "markdown",
   "id": "95519877",
   "metadata": {},
   "source": [
    "Como se sabe, las ganancias se calculan como la diferencia entre los ingresos y los costos. Para estimar los ingresos, se multiplicará el ingreso asociado a cada estado transitorio por el tiempo esperado que el proyecto permanece en dicho estado antes de ser absorbido. Esto se ve de la siguiente manera\n",
    "\n",
    "$$\n",
    "\\text{Ingresos} = \\$38 \\cdot (\\mathbb{I} - \\mathbb{Q})^{-1}_{[MR,PR]} + \\$76 \\cdot (\\mathbb{I} - \\mathbb{Q})^{-1}_{[MR,R]} + \\$114 \\cdot (\\mathbb{I} - \\mathbb{Q})^{-1}_{[MR,MR]}\n",
    "$$\n",
    "\n",
    "Por otro lado, para calcular los costos se debe tener en cuenta la probabilidad de que el proyecto sea liquidado o deje de ser rentable. Dichas probabilidades se pueden calcular mediante las probabilidades antes de absorción dadas por la siguiente matriz:\n",
    "\n",
    "$$\n",
    "(\\mathbb{I} - \\mathbb{Q})^{-1} \\cdot \\mathbb{R}\n",
    "$$\n",
    "\n",
    "Teniendo en cuenta esto se pueden estimar los costos como:\n",
    "\n",
    "$$\n",
    "\\text{Costos} = \\$152 \\cdot (\\mathbb{I} - \\mathbb{Q})^{-1} \\cdot \\mathbb{R}_{[MR,NR]} + \\$190 \\cdot (\\mathbb{I} - \\mathbb{Q})^{-1} \\cdot \\mathbb{R}_{[MR,L]} \n",
    "$$\n",
    "\n",
    "Dicho procedimiento se presenta a continuación:"
   ]
  },
  {
   "cell_type": "code",
   "execution_count": 48,
   "id": "8c2595aa",
   "metadata": {},
   "outputs": [
    {
     "data": {
      "text/plain": [
       "1120.0000000000005"
      ]
     },
     "execution_count": 48,
     "metadata": {},
     "output_type": "execute_result"
    }
   ],
   "source": [
    "# Calculando los ingresos\n",
    "ingresos = sum(c[i] * P.absorbtion_times(start = estados.index('MR'), target = i) for i in range(0, 3))\n",
    "\n",
    "# Calculando los costos\n",
    "costos = sum(c[i] * P.absorbtion_probabilities(start = estados.index('MR'), target = i)[0][0] for i in range(3, 5))\n",
    "\n",
    "ganancias = ingresos - costos\n",
    "ganancias"
   ]
  }
 ],
 "metadata": {
  "kernelspec": {
   "display_name": "Python 3",
   "language": "python",
   "name": "python3"
  },
  "language_info": {
   "codemirror_mode": {
    "name": "ipython",
    "version": 3
   },
   "file_extension": ".py",
   "mimetype": "text/x-python",
   "name": "python",
   "nbconvert_exporter": "python",
   "pygments_lexer": "ipython3",
   "version": "3.11.4"
  }
 },
 "nbformat": 4,
 "nbformat_minor": 5
}
