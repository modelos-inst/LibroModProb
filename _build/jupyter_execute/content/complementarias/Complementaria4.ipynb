{
 "cells": [
  {
   "cell_type": "markdown",
   "metadata": {},
   "source": [
    "### <h3 style=\"color: #ADD8E6;\">Complementaria 4: Cadenas de Markov en Python III</h3>"
   ]
  },
  {
   "cell_type": "markdown",
   "metadata": {},
   "source": [
    "<h3 style=\"color: #ADD8E6;\">Cadena de Markov de Tiempo Continuo\n",
    "</h3>"
   ]
  },
  {
   "cell_type": "markdown",
   "metadata": {},
   "source": [
    "En esta complementaria nos concentraremos en la implementación de cadenas de markov en tiempo continuo. Para esto, resolveremos el ejercicio propuesto en el archivo `Complementaria 4.pdf`"
   ]
  },
  {
   "cell_type": "markdown",
   "metadata": {},
   "source": [
    "\n",
    "<h3 style=\"color: #ADD8E6;\"> Modele el sistema como una cadena de Markov\n",
    "</h3>"
   ]
  },
  {
   "cell_type": "markdown",
   "metadata": {},
   "source": [
    "En este caso se tienen dos variables. Por un lado, nos interesa guardar el $X(t)$: el nivel de corrosión de la bomba; y $Y(t)$: el nivel de impacto del ambiente.\n",
    "\n",
    "El espacio de estados de $X(t)$ es $S_X=\\{1,\\dots,5\\}$, el de $Y(t)$ es $S_Y=\\{\\text{alto},\\text{bajo}\\}$, y la cadena se puede describir con la variable compuesta $Z(t)=(X(t),Y(t))$ con espacio de estados $S_Z=S_X\\times S_Y$.\n",
    "\n",
    "$$\n",
    "Q_{(i,j)\\to(i',j')}=\n",
    "\\begin{cases}\n",
    "\\lambda_{\\text{Alto}}^{-1}, & i'=i+1,\\ j'=j,\\ i<5,\\\\\n",
    "\\lambda_{\\text{Bajo}}^{-1}, & i'=i-1,\\ j'=j,\\ i>1,\\\\\n",
    "\\lambda_{\\text{Alto}\\to\\text{Bajo}}^{-1}, & i'=i,\\ j=\\text{Alto},\\ j'=\\text{Bajo},\\\\\n",
    "\\lambda_{\\text{Bajo}\\to\\text{Alto}}^{-1}, & i'=i,\\ j=\\text{Bajo},\\ j'=\\text{Alto},\\\\\n",
    "0, & \\text{d.l.c.}\n",
    "\\end{cases}\n",
    "$$"
   ]
  },
  {
   "cell_type": "markdown",
   "metadata": {},
   "source": [
    "Con esto, podemos implementar.\n"
   ]
  },
  {
   "cell_type": "code",
   "execution_count": 1,
   "metadata": {},
   "outputs": [
    {
     "data": {
      "text/plain": [
       "array(['1,Alto', '1,Bajo', '2,Alto', '2,Bajo', '3,Alto', '3,Bajo',\n",
       "       '4,Alto', '4,Bajo', '5,Alto', '5,Bajo'], dtype='<U6')"
      ]
     },
     "execution_count": 1,
     "metadata": {},
     "output_type": "execute_result"
    }
   ],
   "source": [
    "#Importar las librerías\n",
    "import numpy as np\n",
    "from jmarkov.ctmc import ctmc\n",
    "\n",
    "#Tasas a utilizar\n",
    "tasa_ambiente_alto = 0.1\n",
    "tasa_ambiente_bajo = 0.2\n",
    "tasa_corrosion_alto_bajo = 0.3\n",
    "tasa_corrosion_bajo_alto = 0.4\n",
    "\n",
    "#Crear espacios de estados\n",
    "estados_corrosion = [i for i in range(1,6)]\n",
    "estados_ambiente = ['Alto', 'Bajo']\n",
    "\n",
    "estados = []\n",
    "for i in estados_corrosion:\n",
    "    for j in estados_ambiente:\n",
    "        estado = \",\".join((str(i),str(j)))\n",
    "        estados.append(estado)\n",
    "\n",
    "estados = np.array(estados)\n",
    "estados"
   ]
  },
  {
   "cell_type": "markdown",
   "metadata": {},
   "source": [
    "Se define la matriz en ceros y se recorre por fila y por columna para ir ingresando las tasas según las condiciones de la formulación. Dado que estamos en tiempo continuo se tiene que llenar la diagonal para que cada fila sume cero."
   ]
  },
  {
   "cell_type": "code",
   "execution_count": 2,
   "metadata": {},
   "outputs": [],
   "source": [
    "#Crear una matriz de ceros\n",
    "\n",
    "matrizQ = np.zeros((len(estados),len(estados)))\n",
    "\n",
    "#Llenar la matriz de transición\n",
    "\n",
    "for fila, estado_inicial in enumerate(estados):\n",
    "    i = int(estado_inicial.split(\",\")[0])\n",
    "    j = estado_inicial.split(\",\")[1]\n",
    "    for columna, estado_futuro in enumerate(estados):\n",
    "        i_ = int(estado_futuro.split(\",\")[0])\n",
    "        j_ = estado_futuro.split(\",\")[1]\n",
    "        if i_==i+1 and j_==j and i<5:\n",
    "            matrizQ[fila,columna] = tasa_ambiente_alto\n",
    "        elif i_==i-1 and j_==j and i>1:\n",
    "            matrizQ[fila,columna] = tasa_ambiente_bajo\n",
    "        elif i_==i and j==\"Alto\" and j_==\"Bajo\":\n",
    "            matrizQ[fila,columna] = tasa_corrosion_alto_bajo\n",
    "        elif i_ ==i and j==\"Bajo\" and j_==\"Alto\":\n",
    "            matrizQ[fila,columna] = tasa_corrosion_bajo_alto\n",
    "\n",
    "# Llenamos la diagonal\n",
    "for fila, estado_inicial in enumerate(estados):\n",
    "    matrizQ[fila,fila] = -sum(matrizQ[fila,])\n",
    "\n",
    "np.sum(matrizQ, axis=1)\n",
    "\n",
    "#Creamos el objeto cadena\n",
    "\n",
    "cadena = ctmc(matrizQ)"
   ]
  },
  {
   "cell_type": "markdown",
   "metadata": {},
   "source": [
    "La segunda pregunta nos dice: \n",
    "Suponga que la bomba inicia operación con el nivel mínimo de corrosión y solo se sabe que, con 50\\% de probabilidad, el ambiente será de alto impacto. Determine la probabilidad de que, pasada 1 semana de operación, la bomba esté en el nivel máximo de corrosión.\n",
    "Esto es una probabilidad en el transitorio. Como no conocemos con exactitud desde qué estado se inicia se define el vector de probabilidades iniciales de la siguiente manera:\n",
    "\n",
    "$$\n",
    "\\alpha(i,j)=\\begin{cases}\n",
    "0.5, & i=1,\\ j\\in\\{\\text{alto},\\text{bajo}\\},\\\\\n",
    "0, & \\text{d.l.c.}\n",
    "\\end{cases}\n",
    "$$\n",
    "\n",
    "La probabilidad de que **tras 1 semana** ($24\\times 7$ horas) la bomba esté en el **nivel 5** es:\n",
    "$$\n",
    "\\sum_{j\\in S_Y} \\big[\\ \\alpha\\, e^{Q\\,(24\\times 7)}\\ \\big]_{(5,j)}.\n",
    "$$\n"
   ]
  },
  {
   "cell_type": "markdown",
   "metadata": {},
   "source": [
    "Para calcular en Python la distribución de probabilidad mencionada se utilizará el método `transient_probabilities` de la libreria `jmarkov` que recibe como parametro el vector inicial `alpha` y el número de pasos necesarios $24\\times 7$"
   ]
  },
  {
   "cell_type": "code",
   "execution_count": 3,
   "metadata": {},
   "outputs": [
    {
     "data": {
      "text/plain": [
       "array([0.03225762])"
      ]
     },
     "execution_count": 3,
     "metadata": {},
     "output_type": "execute_result"
    }
   ],
   "source": [
    "#Definir la distribución inicial\n",
    "alpha = np.zeros(len(estados))\n",
    "alpha[np.where(estados== \"1,Alto\")]=0.5\n",
    "alpha[np.where(estados== \"1,Bajo\")]=0.5\n",
    "\n",
    "#Analizar las probabilidades de estado transitorio\n",
    "probs_transitorio = cadena.transient_probabilities(24*7, alpha)\n",
    "estado_interes1 = np.where(estados== \"5,Alto\")\n",
    "estado_interes2 = np.where(estados== \"5,Bajo\")\n",
    "\n",
    "#Calcular la probabilidad de interés\n",
    "prob_interes = probs_transitorio[estado_interes1]+probs_transitorio[estado_interes2]\n",
    "prob_interes\n",
    "\n"
   ]
  },
  {
   "cell_type": "markdown",
   "metadata": {},
   "source": [
    "Luego, nos preguntan considere el caso en que la máquina inicia su operación en un ambiente con alto impacto y con un nivel de corrosión de 3 (medio). Se observa la máquina a lo largo de 2 semanas. Determine el tiempo esperado (en horas) que pasa la máquina con un nivel de corrosión mayor al estado inicial. Provea una expresión que permita calcular esta cantidad e indique cómo calcularía cada uno de los elementos empleados en su expresión.\n",
    "\n",
    "\n",
    "Esto se refiere a un tiempo de ocupación para $24\\times 7\\times 24$ horas, que calculamos como\n",
    "\n",
    "$$\n",
    "\\sum_{i=4}^{5}\\ \\sum_{j\\in S_Y}\n",
    "\\left[ \\int_{0}^{2\\times7\\times24} e^{Q u}\\,du \\right]_{(3,\\text{alto}),(i,j)}.\n",
    "$$\n",
    "\n"
   ]
  },
  {
   "cell_type": "markdown",
   "metadata": {},
   "source": [
    "Para calcular en Python el tiempo mencionado se utilizará el método `occupation_time` de la libreria `jmarkov` que recibe como parámetro el tiempo de interés $2\\times 7\\times 24$"
   ]
  },
  {
   "cell_type": "code",
   "execution_count": 4,
   "metadata": {},
   "outputs": [
    {
     "data": {
      "text/plain": [
       "34.4620179949542"
      ]
     },
     "execution_count": 4,
     "metadata": {},
     "output_type": "execute_result"
    }
   ],
   "source": [
    "#Calcular el tiempo de ocupación\n",
    "tiempo_ocupacion = cadena.occupation_time(2*7*24)\n",
    "tiempo_interes = 0\n",
    "estado_inicial = np.where(estados == \"3,Alto\")\n",
    "\n",
    "# Calcular el tiempo de ocupación para estados de interés\n",
    "for columna, estado_futuro in enumerate(estados):\n",
    "    i_ = int(estado_futuro.split(\",\")[0])\n",
    "    j_ = estado_futuro.split(\",\")[1]\n",
    "    if i_>=4:\n",
    "        tiempo_interes += tiempo_ocupacion[estado_inicial, columna][0][0]\n",
    "\n",
    "tiempo_interes\n"
   ]
  },
  {
   "cell_type": "markdown",
   "metadata": {},
   "source": [
    "Finalmente, en el último literal nos piden considerar el caso en que la máquina inicia su operación en un ambiente con bajo impacto y con un nivel de corrosión de 2 (bajo). ¿Cuánto tiempo (en horas) se espera que pase antes de que la máquina llegue a un estado con el máximo nivel de corrosión en un ambiente de alto impacto?\n",
    "\n",
    "Esto se trata de un tiempo de primera pasada.\n",
    "\n",
    "La máquina inicia en $Z(0)=(2,\\text{bajo})$. El tiempo promedio de primera pasada al estado objetivo $(5,\\text{alto})$ se denota\n",
    "$$\n",
    "m_{(2,\\text{bajo})\\to(5,\\text{alto})}.\n",
    "$$\n",
    "\n",
    "Sea $\\bar{Q}$ la matriz $Q$ sin la fila/columna del estado objetivo. Entonces\n",
    "\n",
    "\n",
    "$$\n",
    "m = \\bar Q^{-1}\\,\\mathbf{1},\\quad m_{(2,\\text{bajo})\\to(5,\\text{alto})} = [m]_{(2,\\text{bajo})}.\n",
    "$$\n",
    "\n",
    "Equivalente: resolver el sistema lineal\n",
    "\n",
    "$$\n",
    "r(i,j)\\,m_{(i,j)\\to(5,\\text{alto})}\n",
    "= 1 + \\sum_{(k,\\ell)\\neq(5,\\text{alto})} q_{(i,j),(k,\\ell)}\\, m_{(k,\\ell)\\to(5,\\text{alto})}.\n",
    "$$\n"
   ]
  },
  {
   "cell_type": "markdown",
   "metadata": {},
   "source": [
    "Para calcular en Python el tiempo mencionado se utilizará el método `first_time_passage` de la libreria `jmarkov` que recibe como parametro el estado futuro. Además se debe indicar el estado inicial."
   ]
  },
  {
   "cell_type": "code",
   "execution_count": 5,
   "metadata": {},
   "outputs": [
    {
     "data": {
      "text/plain": [
       "276.4706507868981"
      ]
     },
     "execution_count": 5,
     "metadata": {},
     "output_type": "execute_result"
    }
   ],
   "source": [
    "# Calcular el tiempo de primera pasada \n",
    "#estados de interés\n",
    "estado_inicial = np.where(estados=='2,Bajo')\n",
    "estado_futuro = np.where(estados == '5,Alto'\n",
    ")\n",
    "# Calcular el tiempo\n",
    "cadena.first_passage_time(estado_futuro)[estado_inicial][0][0]\n"
   ]
  },
  {
   "cell_type": "markdown",
   "metadata": {},
   "source": [
    "Universidad de los Andes | Vigilada Mineducación. Reconocimiento como Universidad: Decreto 1297 del 30 de mayo de 1964. Reconocimiento personería jurídica: Resolución 28 del 23 de febrero de 1949 Minjusticia. Departamento de Ingeniería Industrial Carrera 1 Este No. 19 A 40 Bogotá, Colombia Tel. (57.1) 3324320 | (57.1) 3394949 Ext. 2880 /2881 http://industrial.uniandes.edu.co"
   ]
  }
 ],
 "metadata": {
  "kernelspec": {
   "display_name": "Python 3",
   "language": "python",
   "name": "python3"
  },
  "language_info": {
   "codemirror_mode": {
    "name": "ipython",
    "version": 3
   },
   "file_extension": ".py",
   "mimetype": "text/x-python",
   "name": "python",
   "nbconvert_exporter": "python",
   "pygments_lexer": "ipython3",
   "version": "3.11.4"
  }
 },
 "nbformat": 4,
 "nbformat_minor": 2
}