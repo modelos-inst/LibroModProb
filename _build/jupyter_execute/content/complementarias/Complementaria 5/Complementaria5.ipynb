{
 "cells": [
  {
   "cell_type": "markdown",
   "metadata": {},
   "source": [
    "### <h3 style=\"color: #ADD8E6;\">Complementaria 5: Manejo de datos y análisis preliminar en Python</h3>"
   ]
  },
  {
   "cell_type": "markdown",
   "metadata": {},
   "source": [
    "El objetivo de esta complementaria es aprender a procesar datos en Python, desde importar y exportar archivos, hasta el manejo interno de datos y el ajuste de distribuciones."
   ]
  },
  {
   "cell_type": "markdown",
   "metadata": {},
   "source": [
    "<h3 style=\"color: #ADD8E6;\">Importar archivos de datos\n",
    "</h3>"
   ]
  },
  {
   "cell_type": "markdown",
   "metadata": {},
   "source": [
    "Para importar archivos de datos de extensión csv, txt, xlsx, dta o sas, podemos utilizar la librería `pandas`."
   ]
  },
  {
   "cell_type": "markdown",
   "metadata": {},
   "source": [
    "A continuación, queremos importar la base de datos “AAPL.csv” que se encuentra en Bloque Neón. Para esto, usaremos la función `pd.read_csv()`. Antes de ejecutar el código para importar el archivo, debe establecer el directorio de trabajo (Working Directory) en la ruta en la que se encuentra el archivo en su computador. (P. ej. “C://Desktop/Modelos 202510/Complementarias/Complementaria 4/AAPL.csv”) utilizando el módulo `os`."
   ]
  },
  {
   "cell_type": "code",
   "execution_count": 1,
   "metadata": {},
   "outputs": [
    {
     "name": "stdout",
     "output_type": "stream",
     "text": [
      "C:\\Users\\maria\\Universidad de los andes\\Migracion\\LibroModProb\\content\\complementarias\\Complementaria 5\n"
     ]
    },
    {
     "data": {
      "text/html": [
       "<div>\n",
       "<style scoped>\n",
       "    .dataframe tbody tr th:only-of-type {\n",
       "        vertical-align: middle;\n",
       "    }\n",
       "\n",
       "    .dataframe tbody tr th {\n",
       "        vertical-align: top;\n",
       "    }\n",
       "\n",
       "    .dataframe thead th {\n",
       "        text-align: right;\n",
       "    }\n",
       "</style>\n",
       "<table border=\"1\" class=\"dataframe\">\n",
       "  <thead>\n",
       "    <tr style=\"text-align: right;\">\n",
       "      <th></th>\n",
       "      <th>Date</th>\n",
       "      <th>Open</th>\n",
       "      <th>High</th>\n",
       "      <th>Low</th>\n",
       "      <th>Close</th>\n",
       "      <th>Adj Close</th>\n",
       "      <th>Volume</th>\n",
       "    </tr>\n",
       "  </thead>\n",
       "  <tbody>\n",
       "    <tr>\n",
       "      <th>0</th>\n",
       "      <td>2017-07-17</td>\n",
       "      <td>148.820007</td>\n",
       "      <td>150.899994</td>\n",
       "      <td>148.570007</td>\n",
       "      <td>149.559998</td>\n",
       "      <td>148.974976</td>\n",
       "      <td>23793500</td>\n",
       "    </tr>\n",
       "    <tr>\n",
       "      <th>1</th>\n",
       "      <td>2017-07-18</td>\n",
       "      <td>149.199997</td>\n",
       "      <td>150.130005</td>\n",
       "      <td>148.669998</td>\n",
       "      <td>150.080002</td>\n",
       "      <td>149.492950</td>\n",
       "      <td>17868800</td>\n",
       "    </tr>\n",
       "    <tr>\n",
       "      <th>2</th>\n",
       "      <td>2017-07-19</td>\n",
       "      <td>150.479996</td>\n",
       "      <td>151.419998</td>\n",
       "      <td>149.949997</td>\n",
       "      <td>151.020004</td>\n",
       "      <td>150.429276</td>\n",
       "      <td>20923000</td>\n",
       "    </tr>\n",
       "    <tr>\n",
       "      <th>3</th>\n",
       "      <td>2017-07-20</td>\n",
       "      <td>151.500000</td>\n",
       "      <td>151.740005</td>\n",
       "      <td>150.190002</td>\n",
       "      <td>150.339996</td>\n",
       "      <td>149.751923</td>\n",
       "      <td>17243700</td>\n",
       "    </tr>\n",
       "    <tr>\n",
       "      <th>4</th>\n",
       "      <td>2017-07-21</td>\n",
       "      <td>149.990005</td>\n",
       "      <td>150.440002</td>\n",
       "      <td>148.880005</td>\n",
       "      <td>150.270004</td>\n",
       "      <td>149.682205</td>\n",
       "      <td>26252600</td>\n",
       "    </tr>\n",
       "  </tbody>\n",
       "</table>\n",
       "</div>"
      ],
      "text/plain": [
       "         Date        Open        High         Low       Close   Adj Close  \\\n",
       "0  2017-07-17  148.820007  150.899994  148.570007  149.559998  148.974976   \n",
       "1  2017-07-18  149.199997  150.130005  148.669998  150.080002  149.492950   \n",
       "2  2017-07-19  150.479996  151.419998  149.949997  151.020004  150.429276   \n",
       "3  2017-07-20  151.500000  151.740005  150.190002  150.339996  149.751923   \n",
       "4  2017-07-21  149.990005  150.440002  148.880005  150.270004  149.682205   \n",
       "\n",
       "     Volume  \n",
       "0  23793500  \n",
       "1  17868800  \n",
       "2  20923000  \n",
       "3  17243700  \n",
       "4  26252600  "
      ]
     },
     "execution_count": 1,
     "metadata": {},
     "output_type": "execute_result"
    }
   ],
   "source": [
    "import os\n",
    "import pandas as pd\n",
    "\n",
    "#Conocer el directorio de trabajo actual\n",
    "directorio_actual = os.getcwd()\n",
    "print(directorio_actual)\n",
    "\n",
    "#Si se quiere cambiar el directorio\n",
    "'''os.chdir('/ruta/del/nuevo/directorio')'''\n",
    "\n",
    "df = pd.read_csv('AAPL.csv')\n",
    "df.head()\n"
   ]
  },
  {
   "cell_type": "markdown",
   "metadata": {},
   "source": [
    "La base de datos “AAPL.csv” incluye la información de las acciones de Apple para los meses de julio y agosto del año 2017. Para cada fecha se conoce el precio al que abrió la acción ese día, los valores máximo y mínimo del precio, el precio de cierre de la acción, el precio ajustado y, finalmente, el volumen de acciones transado. De esta misma manera se pueden importar datos de archivos con diferente extensión (`pd.read_excel()`, `pd.read_stata()`, por ejemplo)."
   ]
  },
  {
   "cell_type": "markdown",
   "metadata": {},
   "source": [
    "*Nota:* Para conocer el directorio actual dónde se está trabajando en Python se puede utilizar la función `getcwd()` del módulo `os`. Si se desea cambiar el directorio de trabajo se puede usar la función chdir() ingresando como parámetro la dirección que se quiere asignar, por ejemplo:\n",
    "`os.chdir(\"C:Desktop/Modelos 202510/Complementarias/Complementaria 4\").`"
   ]
  },
  {
   "cell_type": "markdown",
   "metadata": {},
   "source": [
    "<h3 style=\"color: #ADD8E6;\">DataFrame\n",
    "</h3>"
   ]
  },
  {
   "cell_type": "markdown",
   "metadata": {},
   "source": [
    "Cuando importamos los datos utilizando la librería de `pandas` estos se almacenan en estructura de DataFrame. Un DataFrame es útil porque podemos almacenar vectores de diferente tipo (por ejemplo, numéricos y caracteres). También es útil porque podemos acceder a la información de cierta columna, conociendo el número de la columna o el nombre que le asignamos a dicha columna. La línea superior del DataFrame, llamada el encabezado, contiene los nombres de columna. Cada línea horizontal denota una fila de datos, que comienza con el nombre de la fila y, a continuación, los datos."
   ]
  },
  {
   "cell_type": "markdown",
   "metadata": {},
   "source": [
    "Para llamar los datos de una celda se pueden utilizar dos métodos diferentes:\n",
    "* iloc[]: Utiliza índices numéricos (enteros) para acceder a las filas y las columnas.\n",
    "* loc[]: Utiliza etiquetas de fila y nombres de columnas para acceder a los datos."
   ]
  },
  {
   "cell_type": "markdown",
   "metadata": {},
   "source": [
    "Para llamar los datos de una celda utilizando `iloc[]` introducimos sus coordenadas de fila y columna (como números enteros) en el operador de corchetes [ ]. Las dos coordenadas están separadas por una coma [numero de fila, numero de columna]. Por ejemplo, queremos traer el dato que se encuentra en la fila 3 y columna 4 (recuerde que los índices en Python empiezan en 0, por lo que en este caso se debe usar el índice 2 para las filas y el 3 para las columnas)."
   ]
  },
  {
   "cell_type": "code",
   "execution_count": 2,
   "metadata": {},
   "outputs": [
    {
     "data": {
      "text/plain": [
       "149.949997"
      ]
     },
     "execution_count": 2,
     "metadata": {},
     "output_type": "execute_result"
    }
   ],
   "source": [
    "df.iloc[2,3]"
   ]
  },
  {
   "cell_type": "markdown",
   "metadata": {},
   "source": [
    "Para llamar los datos de una celda utilizando `loc[]` introducimos la etiqueta de la fila (si no tiene etiqueta es directamente el número de fila) y el nombre de la columna en el operador de corchetes [ ]."
   ]
  },
  {
   "cell_type": "code",
   "execution_count": 3,
   "metadata": {},
   "outputs": [
    {
     "data": {
      "text/plain": [
       "149.949997"
      ]
     },
     "execution_count": 3,
     "metadata": {},
     "output_type": "execute_result"
    }
   ],
   "source": [
    "df.loc[2,'Low']"
   ]
  },
  {
   "cell_type": "markdown",
   "metadata": {},
   "source": [
    "De igual forma, podemos conocer el número de filas y columnas de un DataFrame con las función `shape`. Esta función guarda las dimensiones del DataFrame en una tupla, en donde el primer elemento corresponde al número de filas y el segundo almacena el número de columnas."
   ]
  },
  {
   "cell_type": "code",
   "execution_count": 4,
   "metadata": {},
   "outputs": [
    {
     "data": {
      "text/plain": [
       "(21, 7)"
      ]
     },
     "execution_count": 4,
     "metadata": {},
     "output_type": "execute_result"
    }
   ],
   "source": [
    "df.shape"
   ]
  },
  {
   "cell_type": "code",
   "execution_count": 5,
   "metadata": {},
   "outputs": [
    {
     "name": "stdout",
     "output_type": "stream",
     "text": [
      "El DataFrame tiene 21 filas.\n"
     ]
    }
   ],
   "source": [
    "num_filas = df.shape[0]\n",
    "print(f'El DataFrame tiene {df.shape[0]} filas.')"
   ]
  },
  {
   "cell_type": "code",
   "execution_count": 6,
   "metadata": {},
   "outputs": [
    {
     "name": "stdout",
     "output_type": "stream",
     "text": [
      "El DataFrame tiene 7 columnas.\n"
     ]
    }
   ],
   "source": [
    "num_columnas = df.shape[1]\n",
    "print(f'El DataFrame tiene {df.shape[1]} columnas.')"
   ]
  },
  {
   "cell_type": "markdown",
   "metadata": {},
   "source": [
    "Más aún, podemos acceder a la información básica del DataFrame utilizando la función `describe()`:"
   ]
  },
  {
   "cell_type": "code",
   "execution_count": 7,
   "metadata": {},
   "outputs": [
    {
     "data": {
      "text/html": [
       "<div>\n",
       "<style scoped>\n",
       "    .dataframe tbody tr th:only-of-type {\n",
       "        vertical-align: middle;\n",
       "    }\n",
       "\n",
       "    .dataframe tbody tr th {\n",
       "        vertical-align: top;\n",
       "    }\n",
       "\n",
       "    .dataframe thead th {\n",
       "        text-align: right;\n",
       "    }\n",
       "</style>\n",
       "<table border=\"1\" class=\"dataframe\">\n",
       "  <thead>\n",
       "    <tr style=\"text-align: right;\">\n",
       "      <th></th>\n",
       "      <th>Open</th>\n",
       "      <th>High</th>\n",
       "      <th>Low</th>\n",
       "      <th>Close</th>\n",
       "      <th>Adj Close</th>\n",
       "      <th>Volume</th>\n",
       "    </tr>\n",
       "  </thead>\n",
       "  <tbody>\n",
       "    <tr>\n",
       "      <th>count</th>\n",
       "      <td>21.000000</td>\n",
       "      <td>21.000000</td>\n",
       "      <td>21.000000</td>\n",
       "      <td>21.000000</td>\n",
       "      <td>21.000000</td>\n",
       "      <td>2.100000e+01</td>\n",
       "    </tr>\n",
       "    <tr>\n",
       "      <th>mean</th>\n",
       "      <td>153.880954</td>\n",
       "      <td>154.989048</td>\n",
       "      <td>152.591431</td>\n",
       "      <td>153.814287</td>\n",
       "      <td>153.300663</td>\n",
       "      <td>2.657169e+07</td>\n",
       "    </tr>\n",
       "    <tr>\n",
       "      <th>std</th>\n",
       "      <td>4.053136</td>\n",
       "      <td>4.252413</td>\n",
       "      <td>3.980617</td>\n",
       "      <td>4.047153</td>\n",
       "      <td>4.122180</td>\n",
       "      <td>1.205136e+07</td>\n",
       "    </tr>\n",
       "    <tr>\n",
       "      <th>min</th>\n",
       "      <td>148.820007</td>\n",
       "      <td>150.130005</td>\n",
       "      <td>147.300003</td>\n",
       "      <td>148.729996</td>\n",
       "      <td>148.148224</td>\n",
       "      <td>1.578100e+07</td>\n",
       "    </tr>\n",
       "    <tr>\n",
       "      <th>25%</th>\n",
       "      <td>149.990005</td>\n",
       "      <td>150.899994</td>\n",
       "      <td>148.880005</td>\n",
       "      <td>150.270004</td>\n",
       "      <td>149.682205</td>\n",
       "      <td>1.984590e+07</td>\n",
       "    </tr>\n",
       "    <tr>\n",
       "      <th>50%</th>\n",
       "      <td>153.350006</td>\n",
       "      <td>153.929993</td>\n",
       "      <td>151.800003</td>\n",
       "      <td>152.740005</td>\n",
       "      <td>152.142548</td>\n",
       "      <td>2.202820e+07</td>\n",
       "    </tr>\n",
       "    <tr>\n",
       "      <th>75%</th>\n",
       "      <td>157.059998</td>\n",
       "      <td>158.919998</td>\n",
       "      <td>156.070007</td>\n",
       "      <td>157.139999</td>\n",
       "      <td>156.525330</td>\n",
       "      <td>2.709730e+07</td>\n",
       "    </tr>\n",
       "    <tr>\n",
       "      <th>max</th>\n",
       "      <td>159.899994</td>\n",
       "      <td>161.830002</td>\n",
       "      <td>159.110001</td>\n",
       "      <td>161.059998</td>\n",
       "      <td>160.429993</td>\n",
       "      <td>6.993680e+07</td>\n",
       "    </tr>\n",
       "  </tbody>\n",
       "</table>\n",
       "</div>"
      ],
      "text/plain": [
       "             Open        High         Low       Close   Adj Close  \\\n",
       "count   21.000000   21.000000   21.000000   21.000000   21.000000   \n",
       "mean   153.880954  154.989048  152.591431  153.814287  153.300663   \n",
       "std      4.053136    4.252413    3.980617    4.047153    4.122180   \n",
       "min    148.820007  150.130005  147.300003  148.729996  148.148224   \n",
       "25%    149.990005  150.899994  148.880005  150.270004  149.682205   \n",
       "50%    153.350006  153.929993  151.800003  152.740005  152.142548   \n",
       "75%    157.059998  158.919998  156.070007  157.139999  156.525330   \n",
       "max    159.899994  161.830002  159.110001  161.059998  160.429993   \n",
       "\n",
       "             Volume  \n",
       "count  2.100000e+01  \n",
       "mean   2.657169e+07  \n",
       "std    1.205136e+07  \n",
       "min    1.578100e+07  \n",
       "25%    1.984590e+07  \n",
       "50%    2.202820e+07  \n",
       "75%    2.709730e+07  \n",
       "max    6.993680e+07  "
      ]
     },
     "execution_count": 7,
     "metadata": {},
     "output_type": "execute_result"
    }
   ],
   "source": [
    "df.describe()"
   ]
  },
  {
   "cell_type": "markdown",
   "metadata": {},
   "source": [
    "Allí encontramos las estadísticas básicas de variables numéricas (media, cuartiles, desviación, mínimo y máximo) para cada columna dentro del DataFrame."
   ]
  },
  {
   "cell_type": "markdown",
   "metadata": {},
   "source": [
    "Para acceder a una columna podemos hacerlo de varias formas:\n",
    "1. Utilizando el nombre de la columna.\n",
    "2. Utilizando el atributo de columna.\n",
    "3. Utilizando la función `loc[]`.\n",
    "4. Utilizando la función `iloc[]`."
   ]
  },
  {
   "cell_type": "code",
   "execution_count": 8,
   "metadata": {},
   "outputs": [
    {
     "data": {
      "text/plain": [
       "0     23793500\n",
       "1     17868800\n",
       "2     20923000\n",
       "3     17243700\n",
       "4     26252600\n",
       "5     21493200\n",
       "6     18853900\n",
       "7     15781000\n",
       "8     32476300\n",
       "9     17213700\n",
       "10    19845900\n",
       "11    35368600\n",
       "12    69936800\n",
       "13    27097300\n",
       "14    20559900\n",
       "15    21870300\n",
       "16    36205900\n",
       "17    26131500\n",
       "18    40804300\n",
       "19    26257100\n",
       "20    22028200\n",
       "Name: Volume, dtype: int64"
      ]
     },
     "execution_count": 8,
     "metadata": {},
     "output_type": "execute_result"
    }
   ],
   "source": [
    "df['Volume']"
   ]
  },
  {
   "cell_type": "code",
   "execution_count": 9,
   "metadata": {},
   "outputs": [
    {
     "data": {
      "text/plain": [
       "0     23793500\n",
       "1     17868800\n",
       "2     20923000\n",
       "3     17243700\n",
       "4     26252600\n",
       "5     21493200\n",
       "6     18853900\n",
       "7     15781000\n",
       "8     32476300\n",
       "9     17213700\n",
       "10    19845900\n",
       "11    35368600\n",
       "12    69936800\n",
       "13    27097300\n",
       "14    20559900\n",
       "15    21870300\n",
       "16    36205900\n",
       "17    26131500\n",
       "18    40804300\n",
       "19    26257100\n",
       "20    22028200\n",
       "Name: Volume, dtype: int64"
      ]
     },
     "execution_count": 9,
     "metadata": {},
     "output_type": "execute_result"
    }
   ],
   "source": [
    "# Para este método el nombre de la columna no puede tener espacios ni caracteres especiales\n",
    "df.Volume"
   ]
  },
  {
   "cell_type": "code",
   "execution_count": 10,
   "metadata": {},
   "outputs": [
    {
     "data": {
      "text/plain": [
       "0     23793500\n",
       "1     17868800\n",
       "2     20923000\n",
       "3     17243700\n",
       "4     26252600\n",
       "5     21493200\n",
       "6     18853900\n",
       "7     15781000\n",
       "8     32476300\n",
       "9     17213700\n",
       "10    19845900\n",
       "11    35368600\n",
       "12    69936800\n",
       "13    27097300\n",
       "14    20559900\n",
       "15    21870300\n",
       "16    36205900\n",
       "17    26131500\n",
       "18    40804300\n",
       "19    26257100\n",
       "20    22028200\n",
       "Name: Volume, dtype: int64"
      ]
     },
     "execution_count": 10,
     "metadata": {},
     "output_type": "execute_result"
    }
   ],
   "source": [
    "df.loc[:,'Volume']"
   ]
  },
  {
   "cell_type": "code",
   "execution_count": 11,
   "metadata": {},
   "outputs": [
    {
     "data": {
      "text/plain": [
       "0     23793500\n",
       "1     17868800\n",
       "2     20923000\n",
       "3     17243700\n",
       "4     26252600\n",
       "5     21493200\n",
       "6     18853900\n",
       "7     15781000\n",
       "8     32476300\n",
       "9     17213700\n",
       "10    19845900\n",
       "11    35368600\n",
       "12    69936800\n",
       "13    27097300\n",
       "14    20559900\n",
       "15    21870300\n",
       "16    36205900\n",
       "17    26131500\n",
       "18    40804300\n",
       "19    26257100\n",
       "20    22028200\n",
       "Name: Volume, dtype: int64"
      ]
     },
     "execution_count": 11,
     "metadata": {},
     "output_type": "execute_result"
    }
   ],
   "source": [
    "df.iloc[:,6]"
   ]
  },
  {
   "cell_type": "markdown",
   "metadata": {},
   "source": [
    "Si se quiere acceder a múltiples columnas simultáneamente se puede hacer uso del doble corchete [[]]."
   ]
  },
  {
   "cell_type": "code",
   "execution_count": 12,
   "metadata": {},
   "outputs": [
    {
     "data": {
      "text/html": [
       "<div>\n",
       "<style scoped>\n",
       "    .dataframe tbody tr th:only-of-type {\n",
       "        vertical-align: middle;\n",
       "    }\n",
       "\n",
       "    .dataframe tbody tr th {\n",
       "        vertical-align: top;\n",
       "    }\n",
       "\n",
       "    .dataframe thead th {\n",
       "        text-align: right;\n",
       "    }\n",
       "</style>\n",
       "<table border=\"1\" class=\"dataframe\">\n",
       "  <thead>\n",
       "    <tr style=\"text-align: right;\">\n",
       "      <th></th>\n",
       "      <th>High</th>\n",
       "      <th>Volume</th>\n",
       "    </tr>\n",
       "  </thead>\n",
       "  <tbody>\n",
       "    <tr>\n",
       "      <th>0</th>\n",
       "      <td>150.899994</td>\n",
       "      <td>23793500</td>\n",
       "    </tr>\n",
       "    <tr>\n",
       "      <th>1</th>\n",
       "      <td>150.130005</td>\n",
       "      <td>17868800</td>\n",
       "    </tr>\n",
       "    <tr>\n",
       "      <th>2</th>\n",
       "      <td>151.419998</td>\n",
       "      <td>20923000</td>\n",
       "    </tr>\n",
       "    <tr>\n",
       "      <th>3</th>\n",
       "      <td>151.740005</td>\n",
       "      <td>17243700</td>\n",
       "    </tr>\n",
       "    <tr>\n",
       "      <th>4</th>\n",
       "      <td>150.440002</td>\n",
       "      <td>26252600</td>\n",
       "    </tr>\n",
       "    <tr>\n",
       "      <th>5</th>\n",
       "      <td>152.440002</td>\n",
       "      <td>21493200</td>\n",
       "    </tr>\n",
       "    <tr>\n",
       "      <th>6</th>\n",
       "      <td>153.839996</td>\n",
       "      <td>18853900</td>\n",
       "    </tr>\n",
       "    <tr>\n",
       "      <th>7</th>\n",
       "      <td>153.929993</td>\n",
       "      <td>15781000</td>\n",
       "    </tr>\n",
       "    <tr>\n",
       "      <th>8</th>\n",
       "      <td>153.990005</td>\n",
       "      <td>32476300</td>\n",
       "    </tr>\n",
       "    <tr>\n",
       "      <th>9</th>\n",
       "      <td>150.229996</td>\n",
       "      <td>17213700</td>\n",
       "    </tr>\n",
       "    <tr>\n",
       "      <th>10</th>\n",
       "      <td>150.330002</td>\n",
       "      <td>19845900</td>\n",
       "    </tr>\n",
       "    <tr>\n",
       "      <th>11</th>\n",
       "      <td>150.220001</td>\n",
       "      <td>35368600</td>\n",
       "    </tr>\n",
       "    <tr>\n",
       "      <th>12</th>\n",
       "      <td>159.750000</td>\n",
       "      <td>69936800</td>\n",
       "    </tr>\n",
       "    <tr>\n",
       "      <th>13</th>\n",
       "      <td>157.210007</td>\n",
       "      <td>27097300</td>\n",
       "    </tr>\n",
       "    <tr>\n",
       "      <th>14</th>\n",
       "      <td>157.399994</td>\n",
       "      <td>20559900</td>\n",
       "    </tr>\n",
       "    <tr>\n",
       "      <th>15</th>\n",
       "      <td>158.919998</td>\n",
       "      <td>21870300</td>\n",
       "    </tr>\n",
       "    <tr>\n",
       "      <th>16</th>\n",
       "      <td>161.830002</td>\n",
       "      <td>36205900</td>\n",
       "    </tr>\n",
       "    <tr>\n",
       "      <th>17</th>\n",
       "      <td>161.270004</td>\n",
       "      <td>26131500</td>\n",
       "    </tr>\n",
       "    <tr>\n",
       "      <th>18</th>\n",
       "      <td>160.000000</td>\n",
       "      <td>40804300</td>\n",
       "    </tr>\n",
       "    <tr>\n",
       "      <th>19</th>\n",
       "      <td>158.570007</td>\n",
       "      <td>26257100</td>\n",
       "    </tr>\n",
       "    <tr>\n",
       "      <th>20</th>\n",
       "      <td>160.210007</td>\n",
       "      <td>22028200</td>\n",
       "    </tr>\n",
       "  </tbody>\n",
       "</table>\n",
       "</div>"
      ],
      "text/plain": [
       "          High    Volume\n",
       "0   150.899994  23793500\n",
       "1   150.130005  17868800\n",
       "2   151.419998  20923000\n",
       "3   151.740005  17243700\n",
       "4   150.440002  26252600\n",
       "5   152.440002  21493200\n",
       "6   153.839996  18853900\n",
       "7   153.929993  15781000\n",
       "8   153.990005  32476300\n",
       "9   150.229996  17213700\n",
       "10  150.330002  19845900\n",
       "11  150.220001  35368600\n",
       "12  159.750000  69936800\n",
       "13  157.210007  27097300\n",
       "14  157.399994  20559900\n",
       "15  158.919998  21870300\n",
       "16  161.830002  36205900\n",
       "17  161.270004  26131500\n",
       "18  160.000000  40804300\n",
       "19  158.570007  26257100\n",
       "20  160.210007  22028200"
      ]
     },
     "execution_count": 12,
     "metadata": {},
     "output_type": "execute_result"
    }
   ],
   "source": [
    "df[['High','Volume']]"
   ]
  },
  {
   "cell_type": "markdown",
   "metadata": {},
   "source": [
    "También, podemos acceder a la información de las filas de diferentes formas:"
   ]
  },
  {
   "cell_type": "code",
   "execution_count": 13,
   "metadata": {},
   "outputs": [
    {
     "data": {
      "text/plain": [
       "Date         2017-07-19\n",
       "Open         150.479996\n",
       "High         151.419998\n",
       "Low          149.949997\n",
       "Close        151.020004\n",
       "Adj Close    150.429276\n",
       "Volume         20923000\n",
       "Name: 2, dtype: object"
      ]
     },
     "execution_count": 13,
     "metadata": {},
     "output_type": "execute_result"
    }
   ],
   "source": [
    "df.iloc[2,]"
   ]
  },
  {
   "cell_type": "code",
   "execution_count": 14,
   "metadata": {},
   "outputs": [
    {
     "data": {
      "text/plain": [
       "\"df.loc['Nombre de la fila',]\""
      ]
     },
     "execution_count": 14,
     "metadata": {},
     "output_type": "execute_result"
    }
   ],
   "source": [
    "'''df.loc['Nombre de la fila',]'''"
   ]
  },
  {
   "cell_type": "markdown",
   "metadata": {},
   "source": [
    "Podemos traer información de múltiples filas o columnas. En este caso queremos traer la información de las filas 5 y 12 al mismo tiempo:"
   ]
  },
  {
   "cell_type": "code",
   "execution_count": 15,
   "metadata": {},
   "outputs": [
    {
     "data": {
      "text/html": [
       "<div>\n",
       "<style scoped>\n",
       "    .dataframe tbody tr th:only-of-type {\n",
       "        vertical-align: middle;\n",
       "    }\n",
       "\n",
       "    .dataframe tbody tr th {\n",
       "        vertical-align: top;\n",
       "    }\n",
       "\n",
       "    .dataframe thead th {\n",
       "        text-align: right;\n",
       "    }\n",
       "</style>\n",
       "<table border=\"1\" class=\"dataframe\">\n",
       "  <thead>\n",
       "    <tr style=\"text-align: right;\">\n",
       "      <th></th>\n",
       "      <th>Date</th>\n",
       "      <th>Open</th>\n",
       "      <th>High</th>\n",
       "      <th>Low</th>\n",
       "      <th>Close</th>\n",
       "      <th>Adj Close</th>\n",
       "      <th>Volume</th>\n",
       "    </tr>\n",
       "  </thead>\n",
       "  <tbody>\n",
       "    <tr>\n",
       "      <th>4</th>\n",
       "      <td>2017-07-21</td>\n",
       "      <td>149.990005</td>\n",
       "      <td>150.440002</td>\n",
       "      <td>148.880005</td>\n",
       "      <td>150.270004</td>\n",
       "      <td>149.682205</td>\n",
       "      <td>26252600</td>\n",
       "    </tr>\n",
       "    <tr>\n",
       "      <th>11</th>\n",
       "      <td>2017-08-01</td>\n",
       "      <td>149.100006</td>\n",
       "      <td>150.220001</td>\n",
       "      <td>148.410004</td>\n",
       "      <td>150.050003</td>\n",
       "      <td>149.463058</td>\n",
       "      <td>35368600</td>\n",
       "    </tr>\n",
       "  </tbody>\n",
       "</table>\n",
       "</div>"
      ],
      "text/plain": [
       "          Date        Open        High         Low       Close   Adj Close  \\\n",
       "4   2017-07-21  149.990005  150.440002  148.880005  150.270004  149.682205   \n",
       "11  2017-08-01  149.100006  150.220001  148.410004  150.050003  149.463058   \n",
       "\n",
       "      Volume  \n",
       "4   26252600  \n",
       "11  35368600  "
      ]
     },
     "execution_count": 15,
     "metadata": {},
     "output_type": "execute_result"
    }
   ],
   "source": [
    "df.iloc[[4,11]]"
   ]
  },
  {
   "cell_type": "markdown",
   "metadata": {},
   "source": [
    "Por último, es posible obtener un subconjunto de filas dentro del data frame que cumplan cierta condición haciendo uso de arreglos de operadores lógicos."
   ]
  },
  {
   "cell_type": "markdown",
   "metadata": {},
   "source": [
    "Cuando solo se tiene una condición:"
   ]
  },
  {
   "cell_type": "code",
   "execution_count": 16,
   "metadata": {},
   "outputs": [
    {
     "data": {
      "text/html": [
       "<div>\n",
       "<style scoped>\n",
       "    .dataframe tbody tr th:only-of-type {\n",
       "        vertical-align: middle;\n",
       "    }\n",
       "\n",
       "    .dataframe tbody tr th {\n",
       "        vertical-align: top;\n",
       "    }\n",
       "\n",
       "    .dataframe thead th {\n",
       "        text-align: right;\n",
       "    }\n",
       "</style>\n",
       "<table border=\"1\" class=\"dataframe\">\n",
       "  <thead>\n",
       "    <tr style=\"text-align: right;\">\n",
       "      <th></th>\n",
       "      <th>Date</th>\n",
       "      <th>Open</th>\n",
       "      <th>High</th>\n",
       "      <th>Low</th>\n",
       "      <th>Close</th>\n",
       "      <th>Adj Close</th>\n",
       "      <th>Volume</th>\n",
       "    </tr>\n",
       "  </thead>\n",
       "  <tbody>\n",
       "    <tr>\n",
       "      <th>2</th>\n",
       "      <td>2017-07-19</td>\n",
       "      <td>150.479996</td>\n",
       "      <td>151.419998</td>\n",
       "      <td>149.949997</td>\n",
       "      <td>151.020004</td>\n",
       "      <td>150.429276</td>\n",
       "      <td>20923000</td>\n",
       "    </tr>\n",
       "    <tr>\n",
       "      <th>5</th>\n",
       "      <td>2017-07-24</td>\n",
       "      <td>150.580002</td>\n",
       "      <td>152.440002</td>\n",
       "      <td>149.899994</td>\n",
       "      <td>152.089996</td>\n",
       "      <td>151.495071</td>\n",
       "      <td>21493200</td>\n",
       "    </tr>\n",
       "    <tr>\n",
       "      <th>6</th>\n",
       "      <td>2017-07-25</td>\n",
       "      <td>151.800003</td>\n",
       "      <td>153.839996</td>\n",
       "      <td>151.800003</td>\n",
       "      <td>152.740005</td>\n",
       "      <td>152.142548</td>\n",
       "      <td>18853900</td>\n",
       "    </tr>\n",
       "    <tr>\n",
       "      <th>7</th>\n",
       "      <td>2017-07-26</td>\n",
       "      <td>153.350006</td>\n",
       "      <td>153.929993</td>\n",
       "      <td>153.059998</td>\n",
       "      <td>153.460007</td>\n",
       "      <td>152.859726</td>\n",
       "      <td>15781000</td>\n",
       "    </tr>\n",
       "    <tr>\n",
       "      <th>12</th>\n",
       "      <td>2017-08-02</td>\n",
       "      <td>159.279999</td>\n",
       "      <td>159.750000</td>\n",
       "      <td>156.160004</td>\n",
       "      <td>157.139999</td>\n",
       "      <td>156.525330</td>\n",
       "      <td>69936800</td>\n",
       "    </tr>\n",
       "    <tr>\n",
       "      <th>13</th>\n",
       "      <td>2017-08-03</td>\n",
       "      <td>157.050003</td>\n",
       "      <td>157.210007</td>\n",
       "      <td>155.020004</td>\n",
       "      <td>155.570007</td>\n",
       "      <td>154.961472</td>\n",
       "      <td>27097300</td>\n",
       "    </tr>\n",
       "    <tr>\n",
       "      <th>14</th>\n",
       "      <td>2017-08-04</td>\n",
       "      <td>156.070007</td>\n",
       "      <td>157.399994</td>\n",
       "      <td>155.690002</td>\n",
       "      <td>156.389999</td>\n",
       "      <td>155.778259</td>\n",
       "      <td>20559900</td>\n",
       "    </tr>\n",
       "    <tr>\n",
       "      <th>15</th>\n",
       "      <td>2017-08-07</td>\n",
       "      <td>157.059998</td>\n",
       "      <td>158.919998</td>\n",
       "      <td>156.669998</td>\n",
       "      <td>158.809998</td>\n",
       "      <td>158.188797</td>\n",
       "      <td>21870300</td>\n",
       "    </tr>\n",
       "    <tr>\n",
       "      <th>16</th>\n",
       "      <td>2017-08-08</td>\n",
       "      <td>158.600006</td>\n",
       "      <td>161.830002</td>\n",
       "      <td>158.270004</td>\n",
       "      <td>160.080002</td>\n",
       "      <td>159.453827</td>\n",
       "      <td>36205900</td>\n",
       "    </tr>\n",
       "    <tr>\n",
       "      <th>17</th>\n",
       "      <td>2017-08-09</td>\n",
       "      <td>159.259995</td>\n",
       "      <td>161.270004</td>\n",
       "      <td>159.110001</td>\n",
       "      <td>161.059998</td>\n",
       "      <td>160.429993</td>\n",
       "      <td>26131500</td>\n",
       "    </tr>\n",
       "    <tr>\n",
       "      <th>18</th>\n",
       "      <td>2017-08-10</td>\n",
       "      <td>159.899994</td>\n",
       "      <td>160.000000</td>\n",
       "      <td>154.630005</td>\n",
       "      <td>155.320007</td>\n",
       "      <td>155.320007</td>\n",
       "      <td>40804300</td>\n",
       "    </tr>\n",
       "    <tr>\n",
       "      <th>19</th>\n",
       "      <td>2017-08-11</td>\n",
       "      <td>156.600006</td>\n",
       "      <td>158.570007</td>\n",
       "      <td>156.070007</td>\n",
       "      <td>157.479996</td>\n",
       "      <td>157.479996</td>\n",
       "      <td>26257100</td>\n",
       "    </tr>\n",
       "    <tr>\n",
       "      <th>20</th>\n",
       "      <td>2017-08-14</td>\n",
       "      <td>159.320007</td>\n",
       "      <td>160.210007</td>\n",
       "      <td>158.750000</td>\n",
       "      <td>159.850006</td>\n",
       "      <td>159.850006</td>\n",
       "      <td>22028200</td>\n",
       "    </tr>\n",
       "  </tbody>\n",
       "</table>\n",
       "</div>"
      ],
      "text/plain": [
       "          Date        Open        High         Low       Close   Adj Close  \\\n",
       "2   2017-07-19  150.479996  151.419998  149.949997  151.020004  150.429276   \n",
       "5   2017-07-24  150.580002  152.440002  149.899994  152.089996  151.495071   \n",
       "6   2017-07-25  151.800003  153.839996  151.800003  152.740005  152.142548   \n",
       "7   2017-07-26  153.350006  153.929993  153.059998  153.460007  152.859726   \n",
       "12  2017-08-02  159.279999  159.750000  156.160004  157.139999  156.525330   \n",
       "13  2017-08-03  157.050003  157.210007  155.020004  155.570007  154.961472   \n",
       "14  2017-08-04  156.070007  157.399994  155.690002  156.389999  155.778259   \n",
       "15  2017-08-07  157.059998  158.919998  156.669998  158.809998  158.188797   \n",
       "16  2017-08-08  158.600006  161.830002  158.270004  160.080002  159.453827   \n",
       "17  2017-08-09  159.259995  161.270004  159.110001  161.059998  160.429993   \n",
       "18  2017-08-10  159.899994  160.000000  154.630005  155.320007  155.320007   \n",
       "19  2017-08-11  156.600006  158.570007  156.070007  157.479996  157.479996   \n",
       "20  2017-08-14  159.320007  160.210007  158.750000  159.850006  159.850006   \n",
       "\n",
       "      Volume  \n",
       "2   20923000  \n",
       "5   21493200  \n",
       "6   18853900  \n",
       "7   15781000  \n",
       "12  69936800  \n",
       "13  27097300  \n",
       "14  20559900  \n",
       "15  21870300  \n",
       "16  36205900  \n",
       "17  26131500  \n",
       "18  40804300  \n",
       "19  26257100  \n",
       "20  22028200  "
      ]
     },
     "execution_count": 16,
     "metadata": {},
     "output_type": "execute_result"
    }
   ],
   "source": [
    "df[df['Adj Close']>150]"
   ]
  },
  {
   "cell_type": "markdown",
   "metadata": {},
   "source": [
    "Cuando se tienen múltiples condiciones:"
   ]
  },
  {
   "cell_type": "code",
   "execution_count": 17,
   "metadata": {},
   "outputs": [
    {
     "data": {
      "text/html": [
       "<div>\n",
       "<style scoped>\n",
       "    .dataframe tbody tr th:only-of-type {\n",
       "        vertical-align: middle;\n",
       "    }\n",
       "\n",
       "    .dataframe tbody tr th {\n",
       "        vertical-align: top;\n",
       "    }\n",
       "\n",
       "    .dataframe thead th {\n",
       "        text-align: right;\n",
       "    }\n",
       "</style>\n",
       "<table border=\"1\" class=\"dataframe\">\n",
       "  <thead>\n",
       "    <tr style=\"text-align: right;\">\n",
       "      <th></th>\n",
       "      <th>Date</th>\n",
       "      <th>Open</th>\n",
       "      <th>High</th>\n",
       "      <th>Low</th>\n",
       "      <th>Close</th>\n",
       "      <th>Adj Close</th>\n",
       "      <th>Volume</th>\n",
       "    </tr>\n",
       "  </thead>\n",
       "  <tbody>\n",
       "    <tr>\n",
       "      <th>2</th>\n",
       "      <td>2017-07-19</td>\n",
       "      <td>150.479996</td>\n",
       "      <td>151.419998</td>\n",
       "      <td>149.949997</td>\n",
       "      <td>151.020004</td>\n",
       "      <td>150.429276</td>\n",
       "      <td>20923000</td>\n",
       "    </tr>\n",
       "    <tr>\n",
       "      <th>5</th>\n",
       "      <td>2017-07-24</td>\n",
       "      <td>150.580002</td>\n",
       "      <td>152.440002</td>\n",
       "      <td>149.899994</td>\n",
       "      <td>152.089996</td>\n",
       "      <td>151.495071</td>\n",
       "      <td>21493200</td>\n",
       "    </tr>\n",
       "  </tbody>\n",
       "</table>\n",
       "</div>"
      ],
      "text/plain": [
       "         Date        Open        High         Low       Close   Adj Close  \\\n",
       "2  2017-07-19  150.479996  151.419998  149.949997  151.020004  150.429276   \n",
       "5  2017-07-24  150.580002  152.440002  149.899994  152.089996  151.495071   \n",
       "\n",
       "     Volume  \n",
       "2  20923000  \n",
       "5  21493200  "
      ]
     },
     "execution_count": 17,
     "metadata": {},
     "output_type": "execute_result"
    }
   ],
   "source": [
    "df[(df['Adj Close']>150) & (df['Low']<150)]"
   ]
  },
  {
   "cell_type": "markdown",
   "metadata": {},
   "source": [
    "Ahora bien, también podemos añadir columnas a un DataFrame. Por ejemplo, podemos crear una columna, `LogAdj`, que sea el logaritmo del precio ajustado de cierre:"
   ]
  },
  {
   "cell_type": "code",
   "execution_count": 18,
   "metadata": {},
   "outputs": [
    {
     "data": {
      "text/html": [
       "<div>\n",
       "<style scoped>\n",
       "    .dataframe tbody tr th:only-of-type {\n",
       "        vertical-align: middle;\n",
       "    }\n",
       "\n",
       "    .dataframe tbody tr th {\n",
       "        vertical-align: top;\n",
       "    }\n",
       "\n",
       "    .dataframe thead th {\n",
       "        text-align: right;\n",
       "    }\n",
       "</style>\n",
       "<table border=\"1\" class=\"dataframe\">\n",
       "  <thead>\n",
       "    <tr style=\"text-align: right;\">\n",
       "      <th></th>\n",
       "      <th>Date</th>\n",
       "      <th>Open</th>\n",
       "      <th>High</th>\n",
       "      <th>Low</th>\n",
       "      <th>Close</th>\n",
       "      <th>Adj Close</th>\n",
       "      <th>Volume</th>\n",
       "      <th>LogAdj</th>\n",
       "    </tr>\n",
       "  </thead>\n",
       "  <tbody>\n",
       "    <tr>\n",
       "      <th>0</th>\n",
       "      <td>2017-07-17</td>\n",
       "      <td>148.820007</td>\n",
       "      <td>150.899994</td>\n",
       "      <td>148.570007</td>\n",
       "      <td>149.559998</td>\n",
       "      <td>148.974976</td>\n",
       "      <td>23793500</td>\n",
       "      <td>2.173113</td>\n",
       "    </tr>\n",
       "    <tr>\n",
       "      <th>1</th>\n",
       "      <td>2017-07-18</td>\n",
       "      <td>149.199997</td>\n",
       "      <td>150.130005</td>\n",
       "      <td>148.669998</td>\n",
       "      <td>150.080002</td>\n",
       "      <td>149.492950</td>\n",
       "      <td>17868800</td>\n",
       "      <td>2.174621</td>\n",
       "    </tr>\n",
       "    <tr>\n",
       "      <th>2</th>\n",
       "      <td>2017-07-19</td>\n",
       "      <td>150.479996</td>\n",
       "      <td>151.419998</td>\n",
       "      <td>149.949997</td>\n",
       "      <td>151.020004</td>\n",
       "      <td>150.429276</td>\n",
       "      <td>20923000</td>\n",
       "      <td>2.177332</td>\n",
       "    </tr>\n",
       "    <tr>\n",
       "      <th>3</th>\n",
       "      <td>2017-07-20</td>\n",
       "      <td>151.500000</td>\n",
       "      <td>151.740005</td>\n",
       "      <td>150.190002</td>\n",
       "      <td>150.339996</td>\n",
       "      <td>149.751923</td>\n",
       "      <td>17243700</td>\n",
       "      <td>2.175372</td>\n",
       "    </tr>\n",
       "    <tr>\n",
       "      <th>4</th>\n",
       "      <td>2017-07-21</td>\n",
       "      <td>149.990005</td>\n",
       "      <td>150.440002</td>\n",
       "      <td>148.880005</td>\n",
       "      <td>150.270004</td>\n",
       "      <td>149.682205</td>\n",
       "      <td>26252600</td>\n",
       "      <td>2.175170</td>\n",
       "    </tr>\n",
       "    <tr>\n",
       "      <th>5</th>\n",
       "      <td>2017-07-24</td>\n",
       "      <td>150.580002</td>\n",
       "      <td>152.440002</td>\n",
       "      <td>149.899994</td>\n",
       "      <td>152.089996</td>\n",
       "      <td>151.495071</td>\n",
       "      <td>21493200</td>\n",
       "      <td>2.180399</td>\n",
       "    </tr>\n",
       "    <tr>\n",
       "      <th>6</th>\n",
       "      <td>2017-07-25</td>\n",
       "      <td>151.800003</td>\n",
       "      <td>153.839996</td>\n",
       "      <td>151.800003</td>\n",
       "      <td>152.740005</td>\n",
       "      <td>152.142548</td>\n",
       "      <td>18853900</td>\n",
       "      <td>2.182251</td>\n",
       "    </tr>\n",
       "    <tr>\n",
       "      <th>7</th>\n",
       "      <td>2017-07-26</td>\n",
       "      <td>153.350006</td>\n",
       "      <td>153.929993</td>\n",
       "      <td>153.059998</td>\n",
       "      <td>153.460007</td>\n",
       "      <td>152.859726</td>\n",
       "      <td>15781000</td>\n",
       "      <td>2.184293</td>\n",
       "    </tr>\n",
       "    <tr>\n",
       "      <th>8</th>\n",
       "      <td>2017-07-27</td>\n",
       "      <td>153.750000</td>\n",
       "      <td>153.990005</td>\n",
       "      <td>147.300003</td>\n",
       "      <td>150.559998</td>\n",
       "      <td>149.971069</td>\n",
       "      <td>32476300</td>\n",
       "      <td>2.176007</td>\n",
       "    </tr>\n",
       "    <tr>\n",
       "      <th>9</th>\n",
       "      <td>2017-07-28</td>\n",
       "      <td>149.889999</td>\n",
       "      <td>150.229996</td>\n",
       "      <td>149.190002</td>\n",
       "      <td>149.500000</td>\n",
       "      <td>148.915207</td>\n",
       "      <td>17213700</td>\n",
       "      <td>2.172939</td>\n",
       "    </tr>\n",
       "    <tr>\n",
       "      <th>10</th>\n",
       "      <td>2017-07-31</td>\n",
       "      <td>149.899994</td>\n",
       "      <td>150.330002</td>\n",
       "      <td>148.130005</td>\n",
       "      <td>148.729996</td>\n",
       "      <td>148.148224</td>\n",
       "      <td>19845900</td>\n",
       "      <td>2.170696</td>\n",
       "    </tr>\n",
       "    <tr>\n",
       "      <th>11</th>\n",
       "      <td>2017-08-01</td>\n",
       "      <td>149.100006</td>\n",
       "      <td>150.220001</td>\n",
       "      <td>148.410004</td>\n",
       "      <td>150.050003</td>\n",
       "      <td>149.463058</td>\n",
       "      <td>35368600</td>\n",
       "      <td>2.174534</td>\n",
       "    </tr>\n",
       "    <tr>\n",
       "      <th>12</th>\n",
       "      <td>2017-08-02</td>\n",
       "      <td>159.279999</td>\n",
       "      <td>159.750000</td>\n",
       "      <td>156.160004</td>\n",
       "      <td>157.139999</td>\n",
       "      <td>156.525330</td>\n",
       "      <td>69936800</td>\n",
       "      <td>2.194585</td>\n",
       "    </tr>\n",
       "    <tr>\n",
       "      <th>13</th>\n",
       "      <td>2017-08-03</td>\n",
       "      <td>157.050003</td>\n",
       "      <td>157.210007</td>\n",
       "      <td>155.020004</td>\n",
       "      <td>155.570007</td>\n",
       "      <td>154.961472</td>\n",
       "      <td>27097300</td>\n",
       "      <td>2.190224</td>\n",
       "    </tr>\n",
       "    <tr>\n",
       "      <th>14</th>\n",
       "      <td>2017-08-04</td>\n",
       "      <td>156.070007</td>\n",
       "      <td>157.399994</td>\n",
       "      <td>155.690002</td>\n",
       "      <td>156.389999</td>\n",
       "      <td>155.778259</td>\n",
       "      <td>20559900</td>\n",
       "      <td>2.192507</td>\n",
       "    </tr>\n",
       "    <tr>\n",
       "      <th>15</th>\n",
       "      <td>2017-08-07</td>\n",
       "      <td>157.059998</td>\n",
       "      <td>158.919998</td>\n",
       "      <td>156.669998</td>\n",
       "      <td>158.809998</td>\n",
       "      <td>158.188797</td>\n",
       "      <td>21870300</td>\n",
       "      <td>2.199176</td>\n",
       "    </tr>\n",
       "    <tr>\n",
       "      <th>16</th>\n",
       "      <td>2017-08-08</td>\n",
       "      <td>158.600006</td>\n",
       "      <td>161.830002</td>\n",
       "      <td>158.270004</td>\n",
       "      <td>160.080002</td>\n",
       "      <td>159.453827</td>\n",
       "      <td>36205900</td>\n",
       "      <td>2.202635</td>\n",
       "    </tr>\n",
       "    <tr>\n",
       "      <th>17</th>\n",
       "      <td>2017-08-09</td>\n",
       "      <td>159.259995</td>\n",
       "      <td>161.270004</td>\n",
       "      <td>159.110001</td>\n",
       "      <td>161.059998</td>\n",
       "      <td>160.429993</td>\n",
       "      <td>26131500</td>\n",
       "      <td>2.205286</td>\n",
       "    </tr>\n",
       "    <tr>\n",
       "      <th>18</th>\n",
       "      <td>2017-08-10</td>\n",
       "      <td>159.899994</td>\n",
       "      <td>160.000000</td>\n",
       "      <td>154.630005</td>\n",
       "      <td>155.320007</td>\n",
       "      <td>155.320007</td>\n",
       "      <td>40804300</td>\n",
       "      <td>2.191227</td>\n",
       "    </tr>\n",
       "    <tr>\n",
       "      <th>19</th>\n",
       "      <td>2017-08-11</td>\n",
       "      <td>156.600006</td>\n",
       "      <td>158.570007</td>\n",
       "      <td>156.070007</td>\n",
       "      <td>157.479996</td>\n",
       "      <td>157.479996</td>\n",
       "      <td>26257100</td>\n",
       "      <td>2.197225</td>\n",
       "    </tr>\n",
       "    <tr>\n",
       "      <th>20</th>\n",
       "      <td>2017-08-14</td>\n",
       "      <td>159.320007</td>\n",
       "      <td>160.210007</td>\n",
       "      <td>158.750000</td>\n",
       "      <td>159.850006</td>\n",
       "      <td>159.850006</td>\n",
       "      <td>22028200</td>\n",
       "      <td>2.203713</td>\n",
       "    </tr>\n",
       "  </tbody>\n",
       "</table>\n",
       "</div>"
      ],
      "text/plain": [
       "          Date        Open        High         Low       Close   Adj Close  \\\n",
       "0   2017-07-17  148.820007  150.899994  148.570007  149.559998  148.974976   \n",
       "1   2017-07-18  149.199997  150.130005  148.669998  150.080002  149.492950   \n",
       "2   2017-07-19  150.479996  151.419998  149.949997  151.020004  150.429276   \n",
       "3   2017-07-20  151.500000  151.740005  150.190002  150.339996  149.751923   \n",
       "4   2017-07-21  149.990005  150.440002  148.880005  150.270004  149.682205   \n",
       "5   2017-07-24  150.580002  152.440002  149.899994  152.089996  151.495071   \n",
       "6   2017-07-25  151.800003  153.839996  151.800003  152.740005  152.142548   \n",
       "7   2017-07-26  153.350006  153.929993  153.059998  153.460007  152.859726   \n",
       "8   2017-07-27  153.750000  153.990005  147.300003  150.559998  149.971069   \n",
       "9   2017-07-28  149.889999  150.229996  149.190002  149.500000  148.915207   \n",
       "10  2017-07-31  149.899994  150.330002  148.130005  148.729996  148.148224   \n",
       "11  2017-08-01  149.100006  150.220001  148.410004  150.050003  149.463058   \n",
       "12  2017-08-02  159.279999  159.750000  156.160004  157.139999  156.525330   \n",
       "13  2017-08-03  157.050003  157.210007  155.020004  155.570007  154.961472   \n",
       "14  2017-08-04  156.070007  157.399994  155.690002  156.389999  155.778259   \n",
       "15  2017-08-07  157.059998  158.919998  156.669998  158.809998  158.188797   \n",
       "16  2017-08-08  158.600006  161.830002  158.270004  160.080002  159.453827   \n",
       "17  2017-08-09  159.259995  161.270004  159.110001  161.059998  160.429993   \n",
       "18  2017-08-10  159.899994  160.000000  154.630005  155.320007  155.320007   \n",
       "19  2017-08-11  156.600006  158.570007  156.070007  157.479996  157.479996   \n",
       "20  2017-08-14  159.320007  160.210007  158.750000  159.850006  159.850006   \n",
       "\n",
       "      Volume    LogAdj  \n",
       "0   23793500  2.173113  \n",
       "1   17868800  2.174621  \n",
       "2   20923000  2.177332  \n",
       "3   17243700  2.175372  \n",
       "4   26252600  2.175170  \n",
       "5   21493200  2.180399  \n",
       "6   18853900  2.182251  \n",
       "7   15781000  2.184293  \n",
       "8   32476300  2.176007  \n",
       "9   17213700  2.172939  \n",
       "10  19845900  2.170696  \n",
       "11  35368600  2.174534  \n",
       "12  69936800  2.194585  \n",
       "13  27097300  2.190224  \n",
       "14  20559900  2.192507  \n",
       "15  21870300  2.199176  \n",
       "16  36205900  2.202635  \n",
       "17  26131500  2.205286  \n",
       "18  40804300  2.191227  \n",
       "19  26257100  2.197225  \n",
       "20  22028200  2.203713  "
      ]
     },
     "execution_count": 18,
     "metadata": {},
     "output_type": "execute_result"
    }
   ],
   "source": [
    "import numpy as np\n",
    "df['LogAdj'] = np.log10(df['Adj Close'])\n",
    "df"
   ]
  },
  {
   "cell_type": "markdown",
   "metadata": {},
   "source": [
    "Para eliminar una columna de nuestro DataFrame usamos el siguiente código:"
   ]
  },
  {
   "cell_type": "code",
   "execution_count": 19,
   "metadata": {},
   "outputs": [
    {
     "data": {
      "text/html": [
       "<div>\n",
       "<style scoped>\n",
       "    .dataframe tbody tr th:only-of-type {\n",
       "        vertical-align: middle;\n",
       "    }\n",
       "\n",
       "    .dataframe tbody tr th {\n",
       "        vertical-align: top;\n",
       "    }\n",
       "\n",
       "    .dataframe thead th {\n",
       "        text-align: right;\n",
       "    }\n",
       "</style>\n",
       "<table border=\"1\" class=\"dataframe\">\n",
       "  <thead>\n",
       "    <tr style=\"text-align: right;\">\n",
       "      <th></th>\n",
       "      <th>Date</th>\n",
       "      <th>Open</th>\n",
       "      <th>High</th>\n",
       "      <th>Low</th>\n",
       "      <th>Close</th>\n",
       "      <th>Adj Close</th>\n",
       "      <th>Volume</th>\n",
       "    </tr>\n",
       "  </thead>\n",
       "  <tbody>\n",
       "    <tr>\n",
       "      <th>0</th>\n",
       "      <td>2017-07-17</td>\n",
       "      <td>148.820007</td>\n",
       "      <td>150.899994</td>\n",
       "      <td>148.570007</td>\n",
       "      <td>149.559998</td>\n",
       "      <td>148.974976</td>\n",
       "      <td>23793500</td>\n",
       "    </tr>\n",
       "    <tr>\n",
       "      <th>1</th>\n",
       "      <td>2017-07-18</td>\n",
       "      <td>149.199997</td>\n",
       "      <td>150.130005</td>\n",
       "      <td>148.669998</td>\n",
       "      <td>150.080002</td>\n",
       "      <td>149.492950</td>\n",
       "      <td>17868800</td>\n",
       "    </tr>\n",
       "    <tr>\n",
       "      <th>2</th>\n",
       "      <td>2017-07-19</td>\n",
       "      <td>150.479996</td>\n",
       "      <td>151.419998</td>\n",
       "      <td>149.949997</td>\n",
       "      <td>151.020004</td>\n",
       "      <td>150.429276</td>\n",
       "      <td>20923000</td>\n",
       "    </tr>\n",
       "    <tr>\n",
       "      <th>3</th>\n",
       "      <td>2017-07-20</td>\n",
       "      <td>151.500000</td>\n",
       "      <td>151.740005</td>\n",
       "      <td>150.190002</td>\n",
       "      <td>150.339996</td>\n",
       "      <td>149.751923</td>\n",
       "      <td>17243700</td>\n",
       "    </tr>\n",
       "    <tr>\n",
       "      <th>4</th>\n",
       "      <td>2017-07-21</td>\n",
       "      <td>149.990005</td>\n",
       "      <td>150.440002</td>\n",
       "      <td>148.880005</td>\n",
       "      <td>150.270004</td>\n",
       "      <td>149.682205</td>\n",
       "      <td>26252600</td>\n",
       "    </tr>\n",
       "    <tr>\n",
       "      <th>5</th>\n",
       "      <td>2017-07-24</td>\n",
       "      <td>150.580002</td>\n",
       "      <td>152.440002</td>\n",
       "      <td>149.899994</td>\n",
       "      <td>152.089996</td>\n",
       "      <td>151.495071</td>\n",
       "      <td>21493200</td>\n",
       "    </tr>\n",
       "    <tr>\n",
       "      <th>6</th>\n",
       "      <td>2017-07-25</td>\n",
       "      <td>151.800003</td>\n",
       "      <td>153.839996</td>\n",
       "      <td>151.800003</td>\n",
       "      <td>152.740005</td>\n",
       "      <td>152.142548</td>\n",
       "      <td>18853900</td>\n",
       "    </tr>\n",
       "    <tr>\n",
       "      <th>7</th>\n",
       "      <td>2017-07-26</td>\n",
       "      <td>153.350006</td>\n",
       "      <td>153.929993</td>\n",
       "      <td>153.059998</td>\n",
       "      <td>153.460007</td>\n",
       "      <td>152.859726</td>\n",
       "      <td>15781000</td>\n",
       "    </tr>\n",
       "    <tr>\n",
       "      <th>8</th>\n",
       "      <td>2017-07-27</td>\n",
       "      <td>153.750000</td>\n",
       "      <td>153.990005</td>\n",
       "      <td>147.300003</td>\n",
       "      <td>150.559998</td>\n",
       "      <td>149.971069</td>\n",
       "      <td>32476300</td>\n",
       "    </tr>\n",
       "    <tr>\n",
       "      <th>9</th>\n",
       "      <td>2017-07-28</td>\n",
       "      <td>149.889999</td>\n",
       "      <td>150.229996</td>\n",
       "      <td>149.190002</td>\n",
       "      <td>149.500000</td>\n",
       "      <td>148.915207</td>\n",
       "      <td>17213700</td>\n",
       "    </tr>\n",
       "    <tr>\n",
       "      <th>10</th>\n",
       "      <td>2017-07-31</td>\n",
       "      <td>149.899994</td>\n",
       "      <td>150.330002</td>\n",
       "      <td>148.130005</td>\n",
       "      <td>148.729996</td>\n",
       "      <td>148.148224</td>\n",
       "      <td>19845900</td>\n",
       "    </tr>\n",
       "    <tr>\n",
       "      <th>11</th>\n",
       "      <td>2017-08-01</td>\n",
       "      <td>149.100006</td>\n",
       "      <td>150.220001</td>\n",
       "      <td>148.410004</td>\n",
       "      <td>150.050003</td>\n",
       "      <td>149.463058</td>\n",
       "      <td>35368600</td>\n",
       "    </tr>\n",
       "    <tr>\n",
       "      <th>12</th>\n",
       "      <td>2017-08-02</td>\n",
       "      <td>159.279999</td>\n",
       "      <td>159.750000</td>\n",
       "      <td>156.160004</td>\n",
       "      <td>157.139999</td>\n",
       "      <td>156.525330</td>\n",
       "      <td>69936800</td>\n",
       "    </tr>\n",
       "    <tr>\n",
       "      <th>13</th>\n",
       "      <td>2017-08-03</td>\n",
       "      <td>157.050003</td>\n",
       "      <td>157.210007</td>\n",
       "      <td>155.020004</td>\n",
       "      <td>155.570007</td>\n",
       "      <td>154.961472</td>\n",
       "      <td>27097300</td>\n",
       "    </tr>\n",
       "    <tr>\n",
       "      <th>14</th>\n",
       "      <td>2017-08-04</td>\n",
       "      <td>156.070007</td>\n",
       "      <td>157.399994</td>\n",
       "      <td>155.690002</td>\n",
       "      <td>156.389999</td>\n",
       "      <td>155.778259</td>\n",
       "      <td>20559900</td>\n",
       "    </tr>\n",
       "    <tr>\n",
       "      <th>15</th>\n",
       "      <td>2017-08-07</td>\n",
       "      <td>157.059998</td>\n",
       "      <td>158.919998</td>\n",
       "      <td>156.669998</td>\n",
       "      <td>158.809998</td>\n",
       "      <td>158.188797</td>\n",
       "      <td>21870300</td>\n",
       "    </tr>\n",
       "    <tr>\n",
       "      <th>16</th>\n",
       "      <td>2017-08-08</td>\n",
       "      <td>158.600006</td>\n",
       "      <td>161.830002</td>\n",
       "      <td>158.270004</td>\n",
       "      <td>160.080002</td>\n",
       "      <td>159.453827</td>\n",
       "      <td>36205900</td>\n",
       "    </tr>\n",
       "    <tr>\n",
       "      <th>17</th>\n",
       "      <td>2017-08-09</td>\n",
       "      <td>159.259995</td>\n",
       "      <td>161.270004</td>\n",
       "      <td>159.110001</td>\n",
       "      <td>161.059998</td>\n",
       "      <td>160.429993</td>\n",
       "      <td>26131500</td>\n",
       "    </tr>\n",
       "    <tr>\n",
       "      <th>18</th>\n",
       "      <td>2017-08-10</td>\n",
       "      <td>159.899994</td>\n",
       "      <td>160.000000</td>\n",
       "      <td>154.630005</td>\n",
       "      <td>155.320007</td>\n",
       "      <td>155.320007</td>\n",
       "      <td>40804300</td>\n",
       "    </tr>\n",
       "    <tr>\n",
       "      <th>19</th>\n",
       "      <td>2017-08-11</td>\n",
       "      <td>156.600006</td>\n",
       "      <td>158.570007</td>\n",
       "      <td>156.070007</td>\n",
       "      <td>157.479996</td>\n",
       "      <td>157.479996</td>\n",
       "      <td>26257100</td>\n",
       "    </tr>\n",
       "    <tr>\n",
       "      <th>20</th>\n",
       "      <td>2017-08-14</td>\n",
       "      <td>159.320007</td>\n",
       "      <td>160.210007</td>\n",
       "      <td>158.750000</td>\n",
       "      <td>159.850006</td>\n",
       "      <td>159.850006</td>\n",
       "      <td>22028200</td>\n",
       "    </tr>\n",
       "  </tbody>\n",
       "</table>\n",
       "</div>"
      ],
      "text/plain": [
       "          Date        Open        High         Low       Close   Adj Close  \\\n",
       "0   2017-07-17  148.820007  150.899994  148.570007  149.559998  148.974976   \n",
       "1   2017-07-18  149.199997  150.130005  148.669998  150.080002  149.492950   \n",
       "2   2017-07-19  150.479996  151.419998  149.949997  151.020004  150.429276   \n",
       "3   2017-07-20  151.500000  151.740005  150.190002  150.339996  149.751923   \n",
       "4   2017-07-21  149.990005  150.440002  148.880005  150.270004  149.682205   \n",
       "5   2017-07-24  150.580002  152.440002  149.899994  152.089996  151.495071   \n",
       "6   2017-07-25  151.800003  153.839996  151.800003  152.740005  152.142548   \n",
       "7   2017-07-26  153.350006  153.929993  153.059998  153.460007  152.859726   \n",
       "8   2017-07-27  153.750000  153.990005  147.300003  150.559998  149.971069   \n",
       "9   2017-07-28  149.889999  150.229996  149.190002  149.500000  148.915207   \n",
       "10  2017-07-31  149.899994  150.330002  148.130005  148.729996  148.148224   \n",
       "11  2017-08-01  149.100006  150.220001  148.410004  150.050003  149.463058   \n",
       "12  2017-08-02  159.279999  159.750000  156.160004  157.139999  156.525330   \n",
       "13  2017-08-03  157.050003  157.210007  155.020004  155.570007  154.961472   \n",
       "14  2017-08-04  156.070007  157.399994  155.690002  156.389999  155.778259   \n",
       "15  2017-08-07  157.059998  158.919998  156.669998  158.809998  158.188797   \n",
       "16  2017-08-08  158.600006  161.830002  158.270004  160.080002  159.453827   \n",
       "17  2017-08-09  159.259995  161.270004  159.110001  161.059998  160.429993   \n",
       "18  2017-08-10  159.899994  160.000000  154.630005  155.320007  155.320007   \n",
       "19  2017-08-11  156.600006  158.570007  156.070007  157.479996  157.479996   \n",
       "20  2017-08-14  159.320007  160.210007  158.750000  159.850006  159.850006   \n",
       "\n",
       "      Volume  \n",
       "0   23793500  \n",
       "1   17868800  \n",
       "2   20923000  \n",
       "3   17243700  \n",
       "4   26252600  \n",
       "5   21493200  \n",
       "6   18853900  \n",
       "7   15781000  \n",
       "8   32476300  \n",
       "9   17213700  \n",
       "10  19845900  \n",
       "11  35368600  \n",
       "12  69936800  \n",
       "13  27097300  \n",
       "14  20559900  \n",
       "15  21870300  \n",
       "16  36205900  \n",
       "17  26131500  \n",
       "18  40804300  \n",
       "19  26257100  \n",
       "20  22028200  "
      ]
     },
     "execution_count": 19,
     "metadata": {},
     "output_type": "execute_result"
    }
   ],
   "source": [
    "df = df.drop(columns=['LogAdj'])\n",
    "df"
   ]
  },
  {
   "cell_type": "markdown",
   "metadata": {},
   "source": [
    "<h3 style=\"color: #ADD8E6;\">Gráficas\n",
    "</h3>"
   ]
  },
  {
   "cell_type": "markdown",
   "metadata": {},
   "source": [
    "Podemos utilizar gráficas para hacer exploración de datos dentro del DataFrame. Por ejemplo, utilizando la función `plot()` de la librería `matplotlib` creamos un histograma de una variable de interés."
   ]
  },
  {
   "cell_type": "code",
   "execution_count": 20,
   "metadata": {},
   "outputs": [
    {
     "data": {
      "image/png": "[encoded data removed]",
      "text/plain": [
       "<Figure size 640x480 with 1 Axes>"
      ]
     },
     "metadata": {},
     "output_type": "display_data"
    }
   ],
   "source": [
    "import matplotlib.pyplot as plt\n",
    "\n",
    "# Crear un histograma de la columna 'Adj Close'\n",
    "df['Adj Close'].plot(kind='hist', bins=5, edgecolor='black')\n",
    "\n",
    "# Añadir títulos y etiquetas\n",
    "plt.title('Histograma del Precio de cierre ajustado')\n",
    "plt.xlabel('Precio')\n",
    "plt.ylabel('Frecuencia')\n",
    "\n",
    "# Mostrar el gráfico\n",
    "plt.show()"
   ]
  },
  {
   "cell_type": "markdown",
   "metadata": {},
   "source": [
    "También podemos hacer gráficos de dispersión, en este caso queremos crear un gráfico de dispersión de los precios de cierre versus los precios máximos."
   ]
  },
  {
   "cell_type": "code",
   "execution_count": 21,
   "metadata": {},
   "outputs": [
    {
     "data": {
      "image/png": "[encoded data removed]",
      "text/plain": [
       "<Figure size 640x480 with 1 Axes>"
      ]
     },
     "metadata": {},
     "output_type": "display_data"
    }
   ],
   "source": [
    "# Crear un gráfico de dispersión\n",
    "df.plot(kind='scatter', x='Close', y='High', color='blue', edgecolor='black')\n",
    "\n",
    "# Añadir títulos y etiquetas\n",
    "plt.title('Gráfico de Dispersión')\n",
    "plt.xlabel('Precio de cierre')\n",
    "plt.ylabel('Precio máximo')\n",
    "\n",
    "plt.show()"
   ]
  },
  {
   "cell_type": "markdown",
   "metadata": {},
   "source": [
    "<h3 style=\"color: #ADD8E6;\">Ajuste de distribuciones\n",
    "</h3>"
   ]
  },
  {
   "cell_type": "markdown",
   "metadata": {},
   "source": [
    "Para realizar un ajuste de datos a una distribución de probabilidad se puede utilizar la librería de `scipy` con el módulo `stats` y se debe tener una intuición sobre la naturaleza de los datos (continuos o discretos)."
   ]
  },
  {
   "cell_type": "markdown",
   "metadata": {},
   "source": [
    "<h4 style=\"color: #ADD8E6;\">Ajuste de distribuciones continuas\n",
    "</h3>"
   ]
  },
  {
   "cell_type": "markdown",
   "metadata": {},
   "source": [
    "Algunas de las distribuciones continuas son: exponencial, Gamma, Weibull, normal, lognormal, uniforme, entre otras. Para conocer si un vector de datos se ajusta a alguna de estas distribuciones puede utilizar la librería de `scipy`. Suponga que el vector `tClientes` contiene el tiempo entre llegadas de clientes a una tienda. Primero, creamos 300 realizaciones de estos tiempos que seguirán una distribución exponencial con tasa 2 clientes por cualquier unidad de tiempo (p. ej. horas):"
   ]
  },
  {
   "cell_type": "code",
   "execution_count": 22,
   "metadata": {},
   "outputs": [],
   "source": [
    "tClientes = np.random.exponential(scale=1/2, size=300)"
   ]
  },
  {
   "cell_type": "markdown",
   "metadata": {},
   "source": [
    "Supongamos que no conocemos en un principio qué tipo de distribución siguen los datos del vector `tClientes`. De esta manera, primero haremos un histograma para ver si los datos se comportan de acuerdo a una distribución conocida."
   ]
  },
  {
   "cell_type": "code",
   "execution_count": 23,
   "metadata": {},
   "outputs": [
    {
     "data": {
      "image/png": "[encoded data removed]",
      "text/plain": [
       "<Figure size 640x480 with 1 Axes>"
      ]
     },
     "metadata": {},
     "output_type": "display_data"
    }
   ],
   "source": [
    "plt.hist(tClientes, edgecolor='black')\n",
    "\n",
    "# Añadir títulos y etiquetas\n",
    "plt.title('Histograma de la serie de datos')\n",
    "plt.xlabel('Tiempo entre llegada')\n",
    "plt.ylabel('Frecuencia')\n",
    "\n",
    "# Mostrar el gráfico\n",
    "plt.show()"
   ]
  },
  {
   "cell_type": "markdown",
   "metadata": {},
   "source": [
    "Podemos evidenciar que los datos tienen un comportamiento que se asemeja a la distribución exponencial. Por este motivo, con ayuda de la función ktest() vamos a realizar una prueba de bondad de ajuste por Kolmogorov-Smirnov utilizando la función `kstest()`. Esta recibe como parámetro la distribución que queremos probar. Siendo “expon” la distribución exponencial, \"norm\" la distribución normal, “gamma” la distribución gamma, etc."
   ]
  },
  {
   "cell_type": "code",
   "execution_count": 24,
   "metadata": {},
   "outputs": [
    {
     "name": "stdout",
     "output_type": "stream",
     "text": [
      "Estadístico de KS: 0.03824815768264078\n",
      "P-value: 0.757512588173014\n",
      "Tasa estimada: 2.15373746586345\n"
     ]
    }
   ],
   "source": [
    "from scipy import stats\n",
    "\n",
    "# Prueba de Kolmogorov-Smirnov\n",
    "ks_stat, ks_p_value = stats.kstest(tClientes, 'expon', args=(0,np.mean(tClientes)))\n",
    "\n",
    "print('Estadístico de KS:', ks_stat)\n",
    "print('P-value:', ks_p_value)\n",
    "print('Tasa estimada:', 1/(np.mean(tClientes)))"
   ]
  },
  {
   "cell_type": "markdown",
   "metadata": {},
   "source": [
    "Como pudimos observar, se obtuvo un p-value mayor a 0.05, lo cual nos indica que con una significancia del 5% no rechazamos la hipótesis nula y nuestros datos siguen la distribución exponencial."
   ]
  },
  {
   "cell_type": "markdown",
   "metadata": {},
   "source": [
    "Adicionalmente, podemos ver algunas gráficas de interés para la prueba de bondad de ajuste realizada."
   ]
  },
  {
   "cell_type": "code",
   "execution_count": 25,
   "metadata": {},
   "outputs": [
    {
     "data": {
      "image/png": "[encoded data removed]",
      "text/plain": [
       "<Figure size 640x480 with 1 Axes>"
      ]
     },
     "metadata": {},
     "output_type": "display_data"
    }
   ],
   "source": [
    "import statsmodels.api as sm\n",
    "\n",
    "# Ajustar la distribución exponencial a los datos\n",
    "loc, scale = stats.expon.fit(tClientes)\n",
    "\n",
    "sm.qqplot(tClientes, dist=stats.expon, loc=loc, scale=scale, line='45')\n",
    "plt.title('Q-Q plot')\n",
    "plt.show()"
   ]
  },
  {
   "cell_type": "code",
   "execution_count": 26,
   "metadata": {},
   "outputs": [
    {
     "data": {
      "image/png": "[encoded data removed]",
      "text/plain": [
       "<Figure size 640x480 with 1 Axes>"
      ]
     },
     "metadata": {},
     "output_type": "display_data"
    }
   ],
   "source": [
    "params = stats.expon.fit(tClientes)\n",
    "\n",
    "# CDF empírica y teórica\n",
    "ecdf = sm.distributions.ECDF(tClientes)\n",
    "x = np.linspace(min(tClientes), max(tClientes))\n",
    "y = ecdf(x)\n",
    "plt.plot(x, y, marker='o', linestyle='none')\n",
    "plt.plot(x, stats.expon.cdf(x, *params), 'r')\n",
    "plt.title('Empirical and theoretical CDFs')\n",
    "plt.show()"
   ]
  },
  {
   "cell_type": "code",
   "execution_count": 27,
   "metadata": {},
   "outputs": [
    {
     "data": {
      "image/png": "[encoded data removed]",
      "text/plain": [
       "<Figure size 640x480 with 1 Axes>"
      ]
     },
     "metadata": {},
     "output_type": "display_data"
    }
   ],
   "source": [
    "# P-P plot\n",
    "pp_plot = sm.ProbPlot(tClientes, dist=stats.expon, fit=True)\n",
    "pp_plot.ppplot(line='45')\n",
    "plt.title('P-P plot')\n",
    "plt.show()"
   ]
  },
  {
   "cell_type": "markdown",
   "metadata": {},
   "source": [
    "<h4 style=\"color: #ADD8E6;\">Ajuste de distribuciones discretas\n",
    "</h3>"
   ]
  },
  {
   "cell_type": "markdown",
   "metadata": {},
   "source": [
    "Algunas de las distribuciones discretas son: Poisson, geométrica, binomial, hipergeométrica y binomial negativa, entre otras. A continuación generamos un vector de datos que siguen una distribución Poisson con tasa de 3."
   ]
  },
  {
   "cell_type": "code",
   "execution_count": 28,
   "metadata": {},
   "outputs": [],
   "source": [
    "tasa = 3\n",
    "x2 = np.random.poisson(tasa, 50)"
   ]
  },
  {
   "cell_type": "markdown",
   "metadata": {},
   "source": [
    "Evaluamos si los datos siguen la distribución Poisson"
   ]
  },
  {
   "cell_type": "code",
   "execution_count": 29,
   "metadata": {},
   "outputs": [
    {
     "name": "stdout",
     "output_type": "stream",
     "text": [
      "Valor estadístico: 1.7146729952519757\n",
      "P-value: 0.9885450281408598\n"
     ]
    }
   ],
   "source": [
    "from scipy.stats import poisson, chisquare\n",
    "\n",
    "#Calcular la media de la muestra:\n",
    "media = np.mean(x2)\n",
    "\n",
    "#Calcular las frecuencias observadas:\n",
    "valores, frecuencias_observadas = np.unique(x2, return_counts=True)\n",
    "\n",
    "#Calcular las frecuencias esperadas:\n",
    "frecuencias_esperadas = poisson.pmf(valores, media) * len(x2)\n",
    "\n",
    "# Ajuste de las frecuencias esperadas para que sumen lo mismo que las observadas\n",
    "frecuencias_esperadas = frecuencias_esperadas * frecuencias_observadas.sum() / frecuencias_esperadas.sum()\n",
    "\n",
    "#Realizar prueba chi-cuadrado\n",
    "estadistico_chi2, p_value = chisquare(frecuencias_observadas, frecuencias_esperadas)\n",
    "\n",
    "print('Valor estadístico:', estadistico_chi2)\n",
    "print('P-value:', p_value)\n"
   ]
  },
  {
   "cell_type": "markdown",
   "metadata": {},
   "source": [
    "Como pudimos observar, se obtuvo un p-value mayor a 0.05, lo cual nos indica que con una significancia del 5% no rechazamos la hipótesis nula y nuestros datos siguen la distribución Poisson."
   ]
  },
  {
   "cell_type": "markdown",
   "metadata": {},
   "source": [
    "<h3 style=\"color: #ADD8E6;\">Ejercicios\n",
    "</h3>"
   ]
  },
  {
   "cell_type": "markdown",
   "metadata": {},
   "source": [
    "1. Utilizando el archivo de datos “AAPL.csv”, grafique un histograma del precio de cierre de la acción para los días martes y viernes.\n",
    "2. Cree una nueva columna que contenga la diferencia entre el precio de apertura y cierre. Luego cree un subconjunto de datos en donde estén las 20 observaciones con mayor valor de la nueva variable."
   ]
  },
  {
   "cell_type": "markdown",
   "metadata": {},
   "source": [
    "Universidad de los Andes | Vigilada Mineducación. Reconocimiento como Universidad: Decreto 1297 del 30 de mayo de 1964. Reconocimiento personería jurídica: Resolución 28 del 23 de febrero de 1949 Minjusticia. Departamento de Ingeniería Industrial Carrera 1 Este No. 19 A 40 Bogotá, Colombia Tel. (57.1) 3324320 | (57.1) 3394949 Ext. 2880 /2881 http://industrial.uniandes.edu.co"
   ]
  }
 ],
 "metadata": {
  "kernelspec": {
   "display_name": "Python 3",
   "language": "python",
   "name": "python3"
  },
  "language_info": {
   "codemirror_mode": {
    "name": "ipython",
    "version": 3
   },
   "file_extension": ".py",
   "mimetype": "text/x-python",
   "name": "python",
   "nbconvert_exporter": "python",
   "pygments_lexer": "ipython3",
   "version": "3.11.4"
  }
 },
 "nbformat": 4,
 "nbformat_minor": 2
}