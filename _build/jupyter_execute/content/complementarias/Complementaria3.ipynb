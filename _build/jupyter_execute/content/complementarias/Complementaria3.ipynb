{
 "cells": [
  {
   "cell_type": "markdown",
   "metadata": {},
   "source": [
    "### <h3 style=\"color: #ADD8E6;\">Complementaria 3: Cadenas de Markov en Python II</h3>"
   ]
  },
  {
   "cell_type": "markdown",
   "metadata": {},
   "source": [
    "<h3 style=\"color: #ADD8E6;\">Inventario de farmacia con cadena de Markov</h3>\n",
    "\n",
    "Esta complementaria tiene como objetivo resolver el ejercicio de CaliPharm, que modela el sistema de inventario de una farmacia.\n",
    "\n",
    "El modelo se basa en una cadena de Markov de tiempo discreto donde:\n",
    "- La demanda diaria sigue una distribución Poisson.\n",
    "- La reposición del medicamento depende del inventario final.\n",
    "- Hay colaboración externa si el inventario se agota por completo.\n"
   ]
  },
  {
   "cell_type": "markdown",
   "metadata": {},
   "source": [
    "<h4 style=\"color: #ADD8E6;\">Parte A. Modelar el sistema de inventario de CaliPharm como una cadena de Markov</h4>\n",
    "\n",
    "**Variable de estado:**\n",
    "\n",
    "$ X_n $: Número de unidades del medicamento disponibles al inicio del día n.\n",
    "\n",
    "**Espacio de estados:** \n",
    "\n",
    "$ S_X = \\{0, 1, 2, 3, 4, 5\\} $:\n",
    "\n",
    "**Otras definiciones:** \n",
    "\n",
    "Adicionalmente, se definen las siguientes variables aleatorias:\n",
    "\n",
    "- La variable aleatoria $D$ que representa la demanda diaria del medicamento, la cual se distribuye según una distribución de Poisson con parámetro $\\lambda = 3$:\n",
    "$$\n",
    "D \\sim \\text{Poisson}(\\lambda = 3)\n",
    "$$\n",
    "\n",
    "$$\n",
    "\\mathbb{P}(D = k) = \\frac{3^k e^{-3}}{k!}, \\quad k = 0, 1, 2, \\ldots\n",
    "$$\n",
    "\n",
    "$$\n",
    "\\mathbb{P}(D \\geq k) = \\sum_{r = k}^{\\infty} \\frac{3^r e^{-3}}{r!}\n",
    "$$\n",
    "\n",
    "\n",
    "\n",
    "- La variable aleatoria $Y$ que representa la cantidad de unidades que podrían llegar al inventario desde hospitales aliados cuando la farmacia entra en cuarentena por haber finalizado el día con inventario cero.\n",
    "\n",
    "$$ Y \\sim \\text{Binomial}(n = 5, p = 0.07) $$\n",
    "$$\n",
    "\\mathbb{P}(Y = k) = \\binom{5}{k}(0.07)^k(0.93)^{5 - k}, \\quad k = 0, 1, 2, 3, 4, 5\n",
    "$$\n",
    "\n",
    "\n",
    "La política de transición es:\n",
    "\n",
    "$$\n",
    "\\mathbb{P}_{i \\to j} = \n",
    "\\left\\{\n",
    "\\begin{array}{ll}\n",
    "P(D = i - j), &  i \\geq 2 , j \\neq 0 \\\\\n",
    "P(D \\geq i), &  i \\geq 2 , j = 0 \\\\\n",
    "P(D = 5 - j), &  1 \\leq i \\lt 2 , j \\neq 0 \\\\\n",
    "P(D \\geq 5), &  1 \\leq i \\lt 2 , j = 0 \\\\\n",
    "P(Y = j), &  i = 0 , j \\in \\{0,1,\\dots,5\\} \\\\\n",
    "0, & \\text{d.l.c.}\n",
    "\\end{array}\n",
    "\\right.\n",
    "$$\n",
    "\n",
    "\n"
   ]
  },
  {
   "cell_type": "markdown",
   "metadata": {},
   "source": [
    "A continuación, se implementa el modelo en Python."
   ]
  },
  {
   "cell_type": "code",
   "execution_count": 1,
   "metadata": {},
   "outputs": [
    {
     "name": "stdout",
     "output_type": "stream",
     "text": [
      "Matriz de transición P:\n",
      "[[0.7  0.26 0.04 0.   0.   0.  ]\n",
      " [0.18 0.17 0.22 0.22 0.15 0.05]\n",
      " [0.8  0.15 0.05 0.   0.   0.  ]\n",
      " [0.58 0.22 0.15 0.05 0.   0.  ]\n",
      " [0.35 0.22 0.22 0.15 0.05 0.  ]\n",
      " [0.18 0.17 0.22 0.22 0.15 0.05]]\n"
     ]
    }
   ],
   "source": [
    "import numpy as np\n",
    "from scipy.stats import poisson, binom\n",
    "\n",
    "# Parámetros\n",
    "demanda_lambda = 3\n",
    "hospitales_n = 5\n",
    "prob_hospitales = 0.07\n",
    "inventario_max = 5\n",
    "\n",
    "# Espacio de estados\n",
    "estados = [i for i in range(0, inventario_max+1)]\n",
    "\n",
    "# Matriz de transición\n",
    "P = np.zeros((len(estados), len(estados)))\n",
    "\n",
    "# Llenar la matriz de transición\n",
    "for i in estados:\n",
    "    for j in estados:\n",
    "        if i>=2 and j!=0:\n",
    "            P[i,j] = poisson.pmf(i - j, demanda_lambda)\n",
    "        elif i>=2 and j==0:\n",
    "            P[i,j] = poisson.sf(i-1, demanda_lambda)\n",
    "        elif 1<=i and i<2 and j!=0:\n",
    "            P[i,j] = poisson.pmf(inventario_max - j, demanda_lambda)\n",
    "        elif 1<=i and i<2 and j==0:\n",
    "            P[i,j] = poisson.sf(inventario_max-1, demanda_lambda)\n",
    "        elif i==0:\n",
    "            P[i,j] = binom.pmf(j, hospitales_n, prob_hospitales)\n",
    "        \n",
    "\n",
    "print(\"Matriz de transición P:\")\n",
    "print(P.round(2))"
   ]
  },
  {
   "cell_type": "markdown",
   "metadata": {},
   "source": [
    "Para crear la cadena de markov utilizaremos la instancia `dtmc` la libreria `jmarkov`, ya que estamos creando una cadena de tiempo discreto."
   ]
  },
  {
   "cell_type": "code",
   "execution_count": 2,
   "metadata": {},
   "outputs": [],
   "source": [
    "from jmarkov.dtmc import dtmc\n",
    "\n",
    "# Crear objeto de cadena de Markov\n",
    "mc = dtmc(P)"
   ]
  },
  {
   "cell_type": "markdown",
   "metadata": {},
   "source": [
    "<h4 style=\"color: #ADD8E6;\">Parte B. Responder preguntas de interés</h4>"
   ]
  },
  {
   "cell_type": "markdown",
   "metadata": {},
   "source": [
    "<h5 style=\"color: #ADD8E6;\">Literal a. ¿Cuál es la probabilidad de que el inventario sea igual a 5 dentro de 2 días, si hoy hay 1 unidad?</h5>\n",
    "\n",
    "Sea $X_0 = 1$, queremos calcular:\n",
    "\n",
    "$$\n",
    "P(X_2 = 5 \\mid X_0 = 1)\n",
    "$$\n",
    "\n",
    "Esta probabilidad corresponde a una transición de dos pasos, por lo tanto:\n",
    "\n",
    "$$\n",
    "P(X_2 = 5 \\mid X_0 = 1) = [P^2]_{1,5}\n",
    "$$"
   ]
  },
  {
   "cell_type": "code",
   "execution_count": 3,
   "metadata": {},
   "outputs": [
    {
     "name": "stdout",
     "output_type": "stream",
     "text": [
      "La probabilidad de que el inventario sea igual a 5 en 2 días, dado que hoy hay 1 unidad, es: 0.0108\n"
     ]
    }
   ],
   "source": [
    "# Probabilidad de estar en estado 5 en dos días si hoy estamos en estado 1\n",
    "alpha = np.zeros(len(estados))\n",
    "alpha[1] = 1  # Estado inicial = 1\n",
    "\n",
    "dist_paso2 = mc.transient_probabilities(n=2, alpha=alpha)\n",
    "print(f\"La probabilidad de que el inventario sea igual a 5 en 2 días, dado que hoy hay 1 unidad, es: {dist_paso2[5]:.4f}\")\n"
   ]
  },
  {
   "cell_type": "markdown",
   "metadata": {},
   "source": [
    "<h5 style=\"color: #ADD8E6;\">Literal b. ¿Qué pasaría si el umbral de reposición cambiara de 2 a 3? ¿Se reduciría el riesgo de quiebre?</h5>\n",
    "\n",
    "Para responder esta pregunta podemos ajustar la política de transición para que la reposición se active cuando el inventario sea menor a 3 (en vez de menor a 2). Esto implica modificar las condiciones de la matriz de transición.\n",
    "\n",
    "Quedaría como:\n",
    "$$\n",
    "p_{ij} = \n",
    "\\left\\{\n",
    "\\begin{array}{ll}\n",
    "P(D = i - j), &  i \\geq 3 , j \\neq 0 \\\\\n",
    "P(D \\geq i), &  i \\geq 3 , j = 0 \\\\\n",
    "P(D = 5 - j), &  1 \\leq i \\lt 3 , j \\neq 0 \\\\\n",
    "P(D \\geq 5), &  1 \\leq i \\lt 3 , j = 0 \\\\\n",
    "P(Y = j), &  i = 0 , j \\in \\{0,1,\\dots,5\\} \\\\\n",
    "0, & \\text{d.l.c.}\n",
    "\\end{array}\n",
    "\\right.\n",
    "$$\n",
    "\n",
    "\n",
    "Luego de modificar la política, podemos comparar la probabilidad de que el sistema llegue al estado 0 (sin inventario) en el largo plazo.\n",
    "\n",
    "Para esto, utilizaremos el vector $\\pi$, que representa la **distribución estacionaria** de la cadena de Markov, es decir, la proporción de tiempo (o frecuencia a largo plazo) que el sistema pasa en cada uno de los estados cuando se deja evolucionar por un número suficientemente grande de pasos.\n",
    "\n",
    "En este contexto, la **probabilidad de que el sistema esté en quiebre (inventario = 0)** en el largo plazo corresponde al valor $\\pi[0]$. \n",
    "\n",
    "Por tanto, comparar $\\pi[0]$ bajo distintas políticas de reposición permite analizar cuál configuración reduce más el riesgo de quiebre permanente del inventario. Una política con menor $\\pi[0]$ indica un sistema más confiable frente a agotamientos.\n"
   ]
  },
  {
   "cell_type": "code",
   "execution_count": 4,
   "metadata": {},
   "outputs": [
    {
     "name": "stdout",
     "output_type": "stream",
     "text": [
      "π[0] con umbral <2 = 0.5648\n",
      "π[0] con umbral <3 = 0.4759\n"
     ]
    }
   ],
   "source": [
    "# Matriz de transición ajustando el umbral de reposición de <2 a <3\n",
    "P_alt = np.zeros((len(estados), len(estados)))\n",
    "\n",
    "for i in estados:\n",
    "    for j in estados:\n",
    "        if i>=3 and j!=0:\n",
    "            P_alt[i,j] = poisson.pmf(i - j, demanda_lambda)\n",
    "        elif i>=3 and j==0:\n",
    "            P_alt[i,j] = poisson.sf(i-1, demanda_lambda)\n",
    "        elif 1<=i and i<3 and j!=0:\n",
    "            P_alt[i,j] = poisson.pmf(inventario_max - j, demanda_lambda)\n",
    "        elif 1<=i and i<3 and j==0:\n",
    "            P_alt[i,j] = poisson.sf(inventario_max-1, demanda_lambda)\n",
    "        elif i==0:\n",
    "            P_alt[i,j] = binom.pmf(j, hospitales_n, prob_hospitales)\n",
    "\n",
    "\n",
    "# Comparar probabilidad de inventario agotado a largo plazo\n",
    "\n",
    "mc_old = dtmc(P)        # Política con umbral <2\n",
    "mc_new = dtmc(P_alt)    # Política con umbral <3\n",
    "\n",
    "pi_old = mc_old.steady_state()\n",
    "pi_new = mc_new.steady_state()\n",
    "\n",
    "print(f\"π[0] con umbral <2 = {pi_old[0]:.4f}\")\n",
    "print(f\"π[0] con umbral <3 = {pi_new[0]:.4f}\")"
   ]
  },
  {
   "cell_type": "markdown",
   "metadata": {},
   "source": [
    "<h5 style=\"color: #ADD8E6;\">Literal c. ¿Cuánto impacta la probabilidad de colaboración p = 0.07 en la confiabilidad del sistema? ¿Cómo cambiarían las probabilidades si esta subiera a 0.2?</h5>\n",
    "\n",
    "Para este análisis se construye una nueva matriz de transición aumentando la probabilidad de préstamo de los hospitales. Luego se compara la probabilidad de que haya inventario disponible al día siguiente de una cuarentena (es decir, cuando hoy hay 0 unidades).\n"
   ]
  },
  {
   "cell_type": "code",
   "execution_count": 5,
   "metadata": {},
   "outputs": [
    {
     "name": "stdout",
     "output_type": "stream",
     "text": [
      "Comparación:\n",
      "Recuperación con p = 0.07: 0.3043\n",
      "Recuperación con p = 0.20: 0.6723\n"
     ]
    }
   ],
   "source": [
    "# Aumentar la probabilidad de colaboración a 0.2\n",
    "nueva_prob_hospitales = 0.2\n",
    "\n",
    "# Recalcular fila i=0 de la matriz\n",
    "P_colab = P.copy()\n",
    "for j in estados:\n",
    "    P_colab[0,j] = binom.pmf(j, hospitales_n, nueva_prob_hospitales)\n",
    "\n",
    "# Crear cadena con nueva p de colaboración\n",
    "mc_alt = dtmc(P_colab)\n",
    "\n",
    "# Vector inicial desde estado 0\n",
    "alpha_cuarentena = np.zeros(len(estados))\n",
    "alpha_cuarentena[0] = 1\n",
    "\n",
    "# Distribución después de 1 paso (reapertura)\n",
    "dist_reapertura = mc_alt.transient_probabilities(n=1, alpha=alpha_cuarentena)\n",
    "\n",
    "# Probabilidad de tener inventario > 0\n",
    "prob_recuperacion = 1 - dist_reapertura[0]\n",
    "\n",
    "# Comparación con la política original\n",
    "dist_reapertura_orig = mc.transient_probabilities(n=1, alpha=alpha_cuarentena)\n",
    "prob_recuperacion_orig = 1 - dist_reapertura_orig[0]\n",
    "\n",
    "print(f\"Comparación:\")\n",
    "print(f\"Recuperación con p = 0.07: {prob_recuperacion_orig:.4f}\")\n",
    "print(f\"Recuperación con p = 0.20: {prob_recuperacion:.4f}\")"
   ]
  },
  {
   "cell_type": "markdown",
   "metadata": {},
   "source": [
    "Universidad de los Andes | Vigilada Mineducación. Reconocimiento como Universidad: Decreto 1297 del 30 de mayo de 1964. Reconocimiento personería jurídica: Resolución 28 del 23 de febrero de 1949 Minjusticia. Departamento de Ingeniería Industrial Carrera 1 Este No. 19 A 40 Bogotá, Colombia Tel. (57.1) 3324320 | (57.1) 3394949 Ext. 2880 /2881 http://industrial.uniandes.edu.co"
   ]
  }
 ],
 "metadata": {
  "kernelspec": {
   "display_name": "Python 3",
   "language": "python",
   "name": "python3"
  },
  "language_info": {
   "codemirror_mode": {
    "name": "ipython",
    "version": 3
   },
   "file_extension": ".py",
   "mimetype": "text/x-python",
   "name": "python",
   "nbconvert_exporter": "python",
   "pygments_lexer": "ipython3",
   "version": "3.11.4"
  }
 },
 "nbformat": 4,
 "nbformat_minor": 2
}